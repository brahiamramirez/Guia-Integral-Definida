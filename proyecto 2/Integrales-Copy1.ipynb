{
 "cells": [
  {
   "cell_type": "markdown",
   "metadata": {},
   "source": [
    "<div style=\"background-color:purple;color:white; text-align:center; font-size:150%\">\n",
    "<h1>  ∫ntegrales Definidas </h1>\n",
    "<div> \n",
    "   \n",
    " <h1 style=\"color:black; padding:5px; text-align:center; font-size:100%\"> En esta guía trabajaremos las integrales definidas </h1>"
   ]
  },
  {
   "cell_type": "markdown",
   "metadata": {},
   "source": [
    "<img src=\"in.PNG\">"
   ]
  },
  {
   "cell_type": "markdown",
   "metadata": {},
   "source": [
    "1- inicia mirando el video introductorio a la materia para poder desarrollar la guía\n",
    "\n"
   ]
  },
  {
   "cell_type": "code",
   "execution_count": 20,
   "metadata": {},
   "outputs": [
    {
     "data": {
      "image/jpeg": "[encoded data removed]",
      "text/html": [
       "\n",
       "        <iframe\n",
       "            width=\"800\"\n",
       "            height=\"500\"\n",
       "            src=\"https://www.youtube.com/embed/AoAm4om0wTs\"\n",
       "            frameborder=\"0\"\n",
       "            allowfullscreen\n",
       "        ></iframe>\n",
       "        "
      ],
      "text/plain": [
       "<IPython.lib.display.YouTubeVideo at 0x23a3adbd648>"
      ]
     },
     "execution_count": 20,
     "metadata": {},
     "output_type": "execute_result"
    }
   ],
   "source": [
    "from IPython.lib.display import YouTubeVideo\n",
    "YouTubeVideo('AoAm4om0wTs',width=800,height=500,)"
   ]
  },
  {
   "cell_type": "code",
   "execution_count": 21,
   "metadata": {},
   "outputs": [],
   "source": [
    "import ipywidgets as widgets\n",
    "def f(x):\n",
    "    return (x)\n",
    "    "
   ]
  },
  {
   "cell_type": "markdown",
   "metadata": {},
   "source": [
    "### 2- Desarrolla los siguientes ejercicios propuestos"
   ]
  },
  {
   "cell_type": "markdown",
   "metadata": {},
   "source": [
    " ### A) \n",
    " Si la siguiente integral: $\\int x^2 dx $ fuera definida; quedaría de la siguiente forma: $\\int_a^b x^2 dx $\n"
   ]
  },
  {
   "cell_type": "markdown",
   "metadata": {},
   "source": [
    "#### Para resolver la integral:\n",
    " * Encontramos la antiderivada\n",
    " * La antiderivada F(x) la definimos con los valores de a y b: F(b) - F(a)"
   ]
  },
  {
   "cell_type": "markdown",
   "metadata": {},
   "source": [
    "####  Resuelve"
   ]
  },
  {
   "cell_type": "markdown",
   "metadata": {},
   "source": [
    "* $\\int(x^2+2x) dx $"
   ]
  },
  {
   "cell_type": "code",
   "execution_count": 22,
   "metadata": {},
   "outputs": [
    {
     "data": {
      "application/vnd.jupyter.widget-view+json": {
       "model_id": "b30e8f99e9a947f6ad555e1e6258538c",
       "version_major": 2,
       "version_minor": 0
      },
      "text/plain": [
       "RadioButtons(options=('F(x) = 3x+4', 'F(x) = x ', 'F(x) = 2x+2', 'F(x) = 5x'), value='F(x) = 3x+4')"
      ]
     },
     "metadata": {},
     "output_type": "display_data"
    }
   ],
   "source": [
    "a = widgets.RadioButtons(options=['F(x) = 3x+4' , 'F(x) = x ','F(x) = 2x+2', 'F(x) = 5x']);\n",
    "a\n"
   ]
  },
  {
   "cell_type": "code",
   "execution_count": 23,
   "metadata": {},
   "outputs": [
    {
     "name": "stdout",
     "output_type": "stream",
     "text": [
      "intenta revisar tus cálculos e intenta resolverlo denuevo\n"
     ]
    }
   ],
   "source": [
    "if (a.value == 'F(x) = 2x+2'):\n",
    "    print(\"Correcto\")\n",
    "else:\n",
    "    print(\"intenta revisar tus cálculos e intenta resolverlo denuevo\")"
   ]
  },
  {
   "cell_type": "markdown",
   "metadata": {},
   "source": [
    "####  Ahora definamos la integral\n"
   ]
  },
  {
   "cell_type": "markdown",
   "metadata": {},
   "source": [
    "$\\int_0^5 (x^2+2x) dx $"
   ]
  },
  {
   "cell_type": "markdown",
   "metadata": {},
   "source": [
    "Resuelve la integral definida anterior (recuerda seguir los pasos para resolver la integral)"
   ]
  },
  {
   "cell_type": "code",
   "execution_count": 24,
   "metadata": {},
   "outputs": [
    {
     "data": {
      "application/vnd.jupyter.widget-view+json": {
       "model_id": "4a7fe46e65fe43ed9893f30081a1c6e6",
       "version_major": 2,
       "version_minor": 0
      },
      "text/plain": [
       "RadioButtons(options=('F(x) = 7x+4', 'F(x) = 4 ', 'F(x) = 2', 'F(x) = 10'), value='F(x) = 7x+4')"
      ]
     },
     "metadata": {},
     "output_type": "display_data"
    }
   ],
   "source": [
    "a = widgets.RadioButtons(options=['F(x) = 7x+4' , 'F(x) = 4 ','F(x) = 2', 'F(x) = 10'])\n",
    "\n",
    "a\n"
   ]
  },
  {
   "cell_type": "code",
   "execution_count": 25,
   "metadata": {},
   "outputs": [
    {
     "name": "stdout",
     "output_type": "stream",
     "text": [
      "intenta revisar tus cálculos e intenta resolverlo denuevo\n"
     ]
    }
   ],
   "source": [
    "\n",
    "if (a.value == 'F(x) = 10'):\n",
    "    print(\"Correcto\")\n",
    "else:\n",
    "    print(\"intenta revisar tus cálculos e intenta resolverlo denuevo\")\n"
   ]
  },
  {
   "cell_type": "markdown",
   "metadata": {},
   "source": [
    " ### B)\n",
    " Comparemos graficamente"
   ]
  },
  {
   "cell_type": "code",
   "execution_count": null,
   "metadata": {},
   "outputs": [],
   "source": []
  },
  {
   "cell_type": "code",
   "execution_count": null,
   "metadata": {},
   "outputs": [],
   "source": []
  }
 ],
 "metadata": {
  "kernelspec": {
   "display_name": "Python 3",
   "language": "python",
   "name": "python3"
  },
  "language_info": {
   "codemirror_mode": {
    "name": "ipython",
    "version": 3
   },
   "file_extension": ".py",
   "mimetype": "text/x-python",
   "name": "python",
   "nbconvert_exporter": "python",
   "pygments_lexer": "ipython3",
   "version": "3.7.6"
  },
  "widgets": {
   "application/vnd.jupyter.widget-state+json": {
    "state": {
     "00cdbac9d9bc4809b29830193f6626fe": {
      "model_module": "@jupyter-widgets/controls",
      "model_module_version": "1.5.0",
      "model_name": "DescriptionStyleModel",
      "state": {
       "description_width": ""
      }
     },
     "01b06656adcd4f30a23e499305dd705d": {
      "model_module": "@jupyter-widgets/base",
      "model_module_version": "1.2.0",
      "model_name": "LayoutModel",
      "state": {}
     },
     "02a8594f66a540d29e65e38e93ea7297": {
      "model_module": "@jupyter-widgets/controls",
      "model_module_version": "1.5.0",
      "model_name": "DescriptionStyleModel",
      "state": {
       "description_width": ""
      }
     },
     "0a56838cb2ce493eb48c93d475f1eef6": {
      "model_module": "@jupyter-widgets/base",
      "model_module_version": "1.2.0",
      "model_name": "LayoutModel",
      "state": {}
     },
     "1343688f37764af9bbff8285d81c0555": {
      "model_module": "@jupyter-widgets/controls",
      "model_module_version": "1.5.0",
      "model_name": "DescriptionStyleModel",
      "state": {
       "description_width": ""
      }
     },
     "1e0a65ebf6bb46319b907fa22257a621": {
      "model_module": "@jupyter-widgets/base",
      "model_module_version": "1.2.0",
      "model_name": "LayoutModel",
      "state": {}
     },
     "2061b36e5b0f41aba32663d986bf86c1": {
      "model_module": "@jupyter-widgets/base",
      "model_module_version": "1.2.0",
      "model_name": "LayoutModel",
      "state": {}
     },
     "2471d843c91c4bf39fb380bb97a53a73": {
      "model_module": "@jupyter-widgets/controls",
      "model_module_version": "1.5.0",
      "model_name": "DescriptionStyleModel",
      "state": {
       "description_width": ""
      }
     },
     "24bc3138f55148b88bd19bb743991bd8": {
      "model_module": "@jupyter-widgets/controls",
      "model_module_version": "1.5.0",
      "model_name": "DescriptionStyleModel",
      "state": {
       "description_width": ""
      }
     },
     "28567ad734b742e6943227a2fea9b55e": {
      "model_module": "@jupyter-widgets/base",
      "model_module_version": "1.2.0",
      "model_name": "LayoutModel",
      "state": {}
     },
     "2ed18b033b76400ca7a9464dccb30dd8": {
      "model_module": "@jupyter-widgets/base",
      "model_module_version": "1.2.0",
      "model_name": "LayoutModel",
      "state": {}
     },
     "2f1e1eca89fc47c3918a169fc2516bad": {
      "model_module": "@jupyter-widgets/controls",
      "model_module_version": "1.5.0",
      "model_name": "RadioButtonsModel",
      "state": {
       "_options_labels": [
        "F(x) = 7x+4",
        "F(x) = 4 ",
        "F(x) = 2",
        "F(x) = 10"
       ],
       "index": 3,
       "layout": "IPY_MODEL_b990329a0ee9465080bcf8e8299fe2ba",
       "style": "IPY_MODEL_da8e6cb5a5fb4496b394c1f5b1dd6870"
      }
     },
     "32e60060ba4748c9a9ff4702797abc98": {
      "model_module": "@jupyter-widgets/controls",
      "model_module_version": "1.5.0",
      "model_name": "DescriptionStyleModel",
      "state": {
       "description_width": ""
      }
     },
     "362f94e3418f4f46bcf0b6569600a311": {
      "model_module": "@jupyter-widgets/controls",
      "model_module_version": "1.5.0",
      "model_name": "DescriptionStyleModel",
      "state": {
       "description_width": ""
      }
     },
     "3aa4d95e9b504b6b807e0479ebdded06": {
      "model_module": "@jupyter-widgets/controls",
      "model_module_version": "1.5.0",
      "model_name": "RadioButtonsModel",
      "state": {
       "_options_labels": [
        "F(x) = 7x+4",
        "F(x) = 4 ",
        "F(x) = 2",
        "F(x) = 10"
       ],
       "index": 3,
       "layout": "IPY_MODEL_2061b36e5b0f41aba32663d986bf86c1",
       "style": "IPY_MODEL_5dad1edce9a74ddfb52be42badda29de"
      }
     },
     "3bdc9979ddae48f29ecdd061d5849665": {
      "model_module": "@jupyter-widgets/controls",
      "model_module_version": "1.5.0",
      "model_name": "RadioButtonsModel",
      "state": {
       "_options_labels": [
        "f(x) = 3x+4",
        "f(x) = x ",
        "f(x) = 2x+2",
        "f(x) = 5x"
       ],
       "index": 0,
       "layout": "IPY_MODEL_99d3b9b50308441daee57cf5fde5dd6f",
       "style": "IPY_MODEL_56c72c6667ac4fc78af3e40472bc948b"
      }
     },
     "47fb741b0e104fa68012b320c412da99": {
      "model_module": "@jupyter-widgets/controls",
      "model_module_version": "1.5.0",
      "model_name": "DescriptionStyleModel",
      "state": {
       "description_width": ""
      }
     },
     "5003f0648ca54b478d4117d8609b123b": {
      "model_module": "@jupyter-widgets/base",
      "model_module_version": "1.2.0",
      "model_name": "LayoutModel",
      "state": {}
     },
     "51e63b1979aa4bc6a9f0ac6c6ba76529": {
      "model_module": "@jupyter-widgets/base",
      "model_module_version": "1.2.0",
      "model_name": "LayoutModel",
      "state": {}
     },
     "535ac69900534050a1d5a3fb257582b9": {
      "model_module": "@jupyter-widgets/base",
      "model_module_version": "1.2.0",
      "model_name": "LayoutModel",
      "state": {}
     },
     "54ba1608527e47cb861396f2338845e9": {
      "model_module": "@jupyter-widgets/base",
      "model_module_version": "1.2.0",
      "model_name": "LayoutModel",
      "state": {}
     },
     "552407201ebc4af7b509cb70f9783090": {
      "model_module": "@jupyter-widgets/controls",
      "model_module_version": "1.5.0",
      "model_name": "DescriptionStyleModel",
      "state": {
       "description_width": ""
      }
     },
     "56c72c6667ac4fc78af3e40472bc948b": {
      "model_module": "@jupyter-widgets/controls",
      "model_module_version": "1.5.0",
      "model_name": "DescriptionStyleModel",
      "state": {
       "description_width": ""
      }
     },
     "57517f1a36334ac78cc0c8cc38aade8e": {
      "model_module": "@jupyter-widgets/controls",
      "model_module_version": "1.5.0",
      "model_name": "RadioButtonsModel",
      "state": {
       "_options_labels": [
        "F(x) = 3x+4",
        "F(x) = x ",
        "F(x) = 2x+2",
        "F(x) = 5x"
       ],
       "index": 0,
       "layout": "IPY_MODEL_51e63b1979aa4bc6a9f0ac6c6ba76529",
       "style": "IPY_MODEL_f25c6c4b92394cb39eabb59e5a6bee92"
      }
     },
     "5dad1edce9a74ddfb52be42badda29de": {
      "model_module": "@jupyter-widgets/controls",
      "model_module_version": "1.5.0",
      "model_name": "DescriptionStyleModel",
      "state": {
       "description_width": ""
      }
     },
     "618dab411bff49b39594e7edeb98aa5f": {
      "model_module": "@jupyter-widgets/controls",
      "model_module_version": "1.5.0",
      "model_name": "RadioButtonsModel",
      "state": {
       "_options_labels": [
        "f(x) = 3x+4",
        "f(x) = x ",
        "f(x) = 2x+2",
        "f(x) = 5x"
       ],
       "index": 0,
       "layout": "IPY_MODEL_d5599a5a6a1a4733ad6071fcfa0fbc21",
       "style": "IPY_MODEL_76128194e878414795119b17434b9d53"
      }
     },
     "6687057dd2ce4fd59be9795ee195d7f6": {
      "model_module": "@jupyter-widgets/base",
      "model_module_version": "1.2.0",
      "model_name": "LayoutModel",
      "state": {}
     },
     "6a68db1d9c2d40db82461bcb18819c3b": {
      "model_module": "@jupyter-widgets/controls",
      "model_module_version": "1.5.0",
      "model_name": "RadioButtonsModel",
      "state": {
       "_options_labels": [
        "f(x) = 3x+4",
        "f(x) = x ",
        "f(x) = 2x+2",
        "f(x) = 5x"
       ],
       "index": 0,
       "layout": "IPY_MODEL_2ed18b033b76400ca7a9464dccb30dd8",
       "style": "IPY_MODEL_73b0d8b47d064f8eae4b6abb9ee5a7d8"
      }
     },
     "6b23fd77d05c47e8a2edc2ce288d8f7b": {
      "model_module": "@jupyter-widgets/controls",
      "model_module_version": "1.5.0",
      "model_name": "RadioButtonsModel",
      "state": {
       "_options_labels": [
        "f(x) = 3x+4",
        "f(x) = x ",
        "f(x) = 2x+2",
        "f(x) = 5x"
       ],
       "index": 1,
       "layout": "IPY_MODEL_ba4d33c0d3304f8fad1058077d0606a9",
       "style": "IPY_MODEL_00cdbac9d9bc4809b29830193f6626fe"
      }
     },
     "6f8eb83eb6aa41ec9098480f4de62acb": {
      "model_module": "@jupyter-widgets/base",
      "model_module_version": "1.2.0",
      "model_name": "LayoutModel",
      "state": {}
     },
     "70e2c7256a3b4fd28f8fe29b6d1d2e54": {
      "model_module": "@jupyter-widgets/controls",
      "model_module_version": "1.5.0",
      "model_name": "DescriptionStyleModel",
      "state": {
       "description_width": ""
      }
     },
     "73b0d8b47d064f8eae4b6abb9ee5a7d8": {
      "model_module": "@jupyter-widgets/controls",
      "model_module_version": "1.5.0",
      "model_name": "DescriptionStyleModel",
      "state": {
       "description_width": ""
      }
     },
     "76128194e878414795119b17434b9d53": {
      "model_module": "@jupyter-widgets/controls",
      "model_module_version": "1.5.0",
      "model_name": "DescriptionStyleModel",
      "state": {
       "description_width": ""
      }
     },
     "78913c7e19204fdba934a1a9d1fdfb3a": {
      "model_module": "@jupyter-widgets/base",
      "model_module_version": "1.2.0",
      "model_name": "LayoutModel",
      "state": {}
     },
     "80a8025729c6489397370e4412adf13f": {
      "model_module": "@jupyter-widgets/controls",
      "model_module_version": "1.5.0",
      "model_name": "DescriptionStyleModel",
      "state": {
       "description_width": ""
      }
     },
     "8601a6c536a1477abab5843ebb3609a6": {
      "model_module": "@jupyter-widgets/controls",
      "model_module_version": "1.5.0",
      "model_name": "DescriptionStyleModel",
      "state": {
       "description_width": ""
      }
     },
     "89414d7608104ea4ad80d35cdc21ab99": {
      "model_module": "@jupyter-widgets/controls",
      "model_module_version": "1.5.0",
      "model_name": "DescriptionStyleModel",
      "state": {
       "description_width": ""
      }
     },
     "8a68d7af2858410fbf455183c8d9e54d": {
      "model_module": "@jupyter-widgets/controls",
      "model_module_version": "1.5.0",
      "model_name": "RadioButtonsModel",
      "state": {
       "_options_labels": [
        "F(x) = 3x+4",
        "F(x) = x ",
        "F(x) = 2x+2",
        "F(x) = 5x"
       ],
       "index": 2,
       "layout": "IPY_MODEL_a3fd043701394150b48c3aa05cff18f1",
       "style": "IPY_MODEL_a866e223bfd54f97888cb8a37e6d7aab"
      }
     },
     "8e4b08687ffa4aa2b61c0d9c64bf861a": {
      "model_module": "@jupyter-widgets/controls",
      "model_module_version": "1.5.0",
      "model_name": "RadioButtonsModel",
      "state": {
       "_options_labels": [
        "f(x) = 3x+4",
        "f(x) = x ",
        "f(x) = 2x+2",
        "f(x) = 5x"
       ],
       "index": 0,
       "layout": "IPY_MODEL_01b06656adcd4f30a23e499305dd705d",
       "style": "IPY_MODEL_362f94e3418f4f46bcf0b6569600a311"
      }
     },
     "8f57d060c3bb4ae18191de67cad1f357": {
      "model_module": "@jupyter-widgets/controls",
      "model_module_version": "1.5.0",
      "model_name": "DescriptionStyleModel",
      "state": {
       "description_width": ""
      }
     },
     "91242c85189a4de7a64ce7d5ffc21ac0": {
      "model_module": "@jupyter-widgets/controls",
      "model_module_version": "1.5.0",
      "model_name": "RadioButtonsModel",
      "state": {
       "_options_labels": [
        "f(x) = 3x+4",
        "f(x) = x ",
        "f(x) = 2x+2",
        "f(x) = 5x"
       ],
       "index": 0,
       "layout": "IPY_MODEL_914aeb7d22b14519a917d062be7aa151",
       "style": "IPY_MODEL_47fb741b0e104fa68012b320c412da99"
      }
     },
     "914aeb7d22b14519a917d062be7aa151": {
      "model_module": "@jupyter-widgets/base",
      "model_module_version": "1.2.0",
      "model_name": "LayoutModel",
      "state": {}
     },
     "91d6dd527dd649ba9b1f0241b02b0b9f": {
      "model_module": "@jupyter-widgets/controls",
      "model_module_version": "1.5.0",
      "model_name": "RadioButtonsModel",
      "state": {
       "_options_labels": [
        "F(x) = 7x+4",
        "F(x) = 4 ",
        "F(x) = 2",
        "F(x) = 10"
       ],
       "index": 1,
       "layout": "IPY_MODEL_5003f0648ca54b478d4117d8609b123b",
       "style": "IPY_MODEL_8601a6c536a1477abab5843ebb3609a6"
      }
     },
     "93f07fe67e8e4b5ebbbf167632ba85b6": {
      "model_module": "@jupyter-widgets/controls",
      "model_module_version": "1.5.0",
      "model_name": "RadioButtonsModel",
      "state": {
       "_options_labels": [
        "f(x) = 3x+4",
        "f(x) = x ",
        "f(x) = 2x+2",
        "f(x) = 5x"
       ],
       "index": 0,
       "layout": "IPY_MODEL_535ac69900534050a1d5a3fb257582b9",
       "style": "IPY_MODEL_89414d7608104ea4ad80d35cdc21ab99"
      }
     },
     "99d3b9b50308441daee57cf5fde5dd6f": {
      "model_module": "@jupyter-widgets/base",
      "model_module_version": "1.2.0",
      "model_name": "LayoutModel",
      "state": {}
     },
     "a11d498305ec49149df7ff75cf3e8069": {
      "model_module": "@jupyter-widgets/controls",
      "model_module_version": "1.5.0",
      "model_name": "RadioButtonsModel",
      "state": {
       "_options_labels": [
        "F(x) = 3x+4",
        "F(x) = x ",
        "F(x) = 2x+2",
        "F(x) = 5x"
       ],
       "index": 0,
       "layout": "IPY_MODEL_1e0a65ebf6bb46319b907fa22257a621",
       "style": "IPY_MODEL_d412cd7e973d4a1882c228363509f1c5"
      }
     },
     "a19bb194b5f54171aa1078350f48f3b6": {
      "model_module": "@jupyter-widgets/controls",
      "model_module_version": "1.5.0",
      "model_name": "RadioButtonsModel",
      "state": {
       "_options_labels": [
        "F(x) = 7x+4",
        "F(x) = 4 ",
        "F(x) = 2",
        "F(x) = 10"
       ],
       "index": 0,
       "layout": "IPY_MODEL_b7b2fa7ec4d947e284be2b5c1204193a",
       "style": "IPY_MODEL_80a8025729c6489397370e4412adf13f"
      }
     },
     "a3fd043701394150b48c3aa05cff18f1": {
      "model_module": "@jupyter-widgets/base",
      "model_module_version": "1.2.0",
      "model_name": "LayoutModel",
      "state": {}
     },
     "a401c51d2a7a477a9302eb5ff61cac79": {
      "model_module": "@jupyter-widgets/controls",
      "model_module_version": "1.5.0",
      "model_name": "RadioButtonsModel",
      "state": {
       "_options_labels": [
        "f(x) = 3x+4",
        "f(x) = x ",
        "f(x) = 2x+2",
        "f(x) = 5x"
       ],
       "index": 0,
       "layout": "IPY_MODEL_78913c7e19204fdba934a1a9d1fdfb3a",
       "style": "IPY_MODEL_c3573c97eed847909941e33e0c154682"
      }
     },
     "a866e223bfd54f97888cb8a37e6d7aab": {
      "model_module": "@jupyter-widgets/controls",
      "model_module_version": "1.5.0",
      "model_name": "DescriptionStyleModel",
      "state": {
       "description_width": ""
      }
     },
     "ae2fa3749b854bb2a7c39455f01c48d5": {
      "model_module": "@jupyter-widgets/base",
      "model_module_version": "1.2.0",
      "model_name": "LayoutModel",
      "state": {}
     },
     "b73738fb9826423db99925258c1db27d": {
      "model_module": "@jupyter-widgets/controls",
      "model_module_version": "1.5.0",
      "model_name": "RadioButtonsModel",
      "state": {
       "_options_labels": [
        "F(x) = 7x+4",
        "F(x) = 4 ",
        "F(x) = 2",
        "F(x) = 10"
       ],
       "index": 0,
       "layout": "IPY_MODEL_28567ad734b742e6943227a2fea9b55e",
       "style": "IPY_MODEL_32e60060ba4748c9a9ff4702797abc98"
      }
     },
     "b7b2fa7ec4d947e284be2b5c1204193a": {
      "model_module": "@jupyter-widgets/base",
      "model_module_version": "1.2.0",
      "model_name": "LayoutModel",
      "state": {}
     },
     "b990329a0ee9465080bcf8e8299fe2ba": {
      "model_module": "@jupyter-widgets/base",
      "model_module_version": "1.2.0",
      "model_name": "LayoutModel",
      "state": {}
     },
     "ba4d33c0d3304f8fad1058077d0606a9": {
      "model_module": "@jupyter-widgets/base",
      "model_module_version": "1.2.0",
      "model_name": "LayoutModel",
      "state": {}
     },
     "be36b9e02ca84499902eac451dbed6b3": {
      "model_module": "@jupyter-widgets/base",
      "model_module_version": "1.2.0",
      "model_name": "LayoutModel",
      "state": {}
     },
     "c3573c97eed847909941e33e0c154682": {
      "model_module": "@jupyter-widgets/controls",
      "model_module_version": "1.5.0",
      "model_name": "DescriptionStyleModel",
      "state": {
       "description_width": ""
      }
     },
     "c6fa20684a314a598f93cecf0333abbc": {
      "model_module": "@jupyter-widgets/controls",
      "model_module_version": "1.5.0",
      "model_name": "RadioButtonsModel",
      "state": {
       "_options_labels": [
        "F(x) = 7x+4",
        "F(x) = 4 ",
        "F(x) = 2",
        "F(x) = 10"
       ],
       "index": 0,
       "layout": "IPY_MODEL_0a56838cb2ce493eb48c93d475f1eef6",
       "style": "IPY_MODEL_02a8594f66a540d29e65e38e93ea7297"
      }
     },
     "cd453d8027c143b9990f3dc7b6f6dd78": {
      "model_module": "@jupyter-widgets/controls",
      "model_module_version": "1.5.0",
      "model_name": "RadioButtonsModel",
      "state": {
       "_options_labels": [
        "f(x) = 3x+4",
        "f(x) = x ",
        "f(x) = 2x+2",
        "f(x) = 5x"
       ],
       "index": 0,
       "layout": "IPY_MODEL_54ba1608527e47cb861396f2338845e9",
       "style": "IPY_MODEL_2471d843c91c4bf39fb380bb97a53a73"
      }
     },
     "cee1a796aae34d2a832ea34029471e20": {
      "model_module": "@jupyter-widgets/base",
      "model_module_version": "1.2.0",
      "model_name": "LayoutModel",
      "state": {}
     },
     "d412cd7e973d4a1882c228363509f1c5": {
      "model_module": "@jupyter-widgets/controls",
      "model_module_version": "1.5.0",
      "model_name": "DescriptionStyleModel",
      "state": {
       "description_width": ""
      }
     },
     "d5599a5a6a1a4733ad6071fcfa0fbc21": {
      "model_module": "@jupyter-widgets/base",
      "model_module_version": "1.2.0",
      "model_name": "LayoutModel",
      "state": {}
     },
     "da8e6cb5a5fb4496b394c1f5b1dd6870": {
      "model_module": "@jupyter-widgets/controls",
      "model_module_version": "1.5.0",
      "model_name": "DescriptionStyleModel",
      "state": {
       "description_width": ""
      }
     },
     "e7c2c991edc44e0187b32ef3b2e9d4f5": {
      "model_module": "@jupyter-widgets/controls",
      "model_module_version": "1.5.0",
      "model_name": "DescriptionStyleModel",
      "state": {
       "description_width": ""
      }
     },
     "e8463ebcaef64ce78a35b5c0659f829d": {
      "model_module": "@jupyter-widgets/controls",
      "model_module_version": "1.5.0",
      "model_name": "RadioButtonsModel",
      "state": {
       "_options_labels": [
        "F(x) = 7x+4",
        "F(x) = 4 ",
        "F(x) = 2",
        "F(x) = 10"
       ],
       "index": 0,
       "layout": "IPY_MODEL_cee1a796aae34d2a832ea34029471e20",
       "style": "IPY_MODEL_552407201ebc4af7b509cb70f9783090"
      }
     },
     "eb25784706d74f308d198faf2f59a70d": {
      "model_module": "@jupyter-widgets/controls",
      "model_module_version": "1.5.0",
      "model_name": "RadioButtonsModel",
      "state": {
       "_options_labels": [
        "f(x) = 3x+4",
        "f(x) = x ",
        "f(x) = 2x+2",
        "f(x) = 5x"
       ],
       "index": 0,
       "layout": "IPY_MODEL_ee6c0246033b4c27905c05ce0f6f7fe8",
       "style": "IPY_MODEL_1343688f37764af9bbff8285d81c0555"
      }
     },
     "ecf0df19a6f0424598784c6544020745": {
      "model_module": "@jupyter-widgets/controls",
      "model_module_version": "1.5.0",
      "model_name": "RadioButtonsModel",
      "state": {
       "_options_labels": [
        "f(x) = 3x+4",
        "f(x) = x ",
        "f(x) = 2x+2",
        "f(x) = 5x"
       ],
       "index": 0,
       "layout": "IPY_MODEL_6687057dd2ce4fd59be9795ee195d7f6",
       "style": "IPY_MODEL_24bc3138f55148b88bd19bb743991bd8"
      }
     },
     "ee6c0246033b4c27905c05ce0f6f7fe8": {
      "model_module": "@jupyter-widgets/base",
      "model_module_version": "1.2.0",
      "model_name": "LayoutModel",
      "state": {}
     },
     "ef7ab75cdc7943e987ecc55a5cc7b2c1": {
      "model_module": "@jupyter-widgets/controls",
      "model_module_version": "1.5.0",
      "model_name": "RadioButtonsModel",
      "state": {
       "_options_labels": [
        "F(x) = 7x+4",
        "F(x) = 4 ",
        "F(x) = 2",
        "F(x) = 10"
       ],
       "index": 0,
       "layout": "IPY_MODEL_6f8eb83eb6aa41ec9098480f4de62acb",
       "style": "IPY_MODEL_8f57d060c3bb4ae18191de67cad1f357"
      }
     },
     "f146a78516a24eb3b875fbcbb5fa6f58": {
      "model_module": "@jupyter-widgets/controls",
      "model_module_version": "1.5.0",
      "model_name": "RadioButtonsModel",
      "state": {
       "_options_labels": [
        "F(x) = 3x+4",
        "F(x) = x ",
        "F(x) = 2x+2",
        "F(x) = 5x"
       ],
       "index": 0,
       "layout": "IPY_MODEL_ae2fa3749b854bb2a7c39455f01c48d5",
       "style": "IPY_MODEL_70e2c7256a3b4fd28f8fe29b6d1d2e54"
      }
     },
     "f25c6c4b92394cb39eabb59e5a6bee92": {
      "model_module": "@jupyter-widgets/controls",
      "model_module_version": "1.5.0",
      "model_name": "DescriptionStyleModel",
      "state": {
       "description_width": ""
      }
     },
     "f5defbf786634708924a0dd3e6bf8bc1": {
      "model_module": "@jupyter-widgets/controls",
      "model_module_version": "1.5.0",
      "model_name": "RadioButtonsModel",
      "state": {
       "_options_labels": [
        "F(x) = 3x+4",
        "F(x) = x ",
        "F(x) = 2x+2",
        "F(x) = 5x"
       ],
       "index": 0,
       "layout": "IPY_MODEL_be36b9e02ca84499902eac451dbed6b3",
       "style": "IPY_MODEL_e7c2c991edc44e0187b32ef3b2e9d4f5"
      }
     }
    },
    "version_major": 2,
    "version_minor": 0
   }
  }
 },
 "nbformat": 4,
 "nbformat_minor": 4
}
