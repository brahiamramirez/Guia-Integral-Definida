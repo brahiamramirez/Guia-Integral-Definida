{
 "cells": [
  {
   "cell_type": "markdown",
   "metadata": {},
   "source": [
    "<div style=\"background-color:purple;color:white; text-align:center; font-size:150%\">\n",
    "<h1>  ∫ntegrales Definidas </h1>\n",
    "<div> \n",
    "   \n",
    " <h1 style=\"color:yellow; padding:5px; text-align:center; font-size:100%\"> En esta guía trabajaremos las integrales definidas </h1>"
   ]
  },
  {
   "cell_type": "markdown",
   "metadata": {},
   "source": [
    "<img src=\"in.PNG\">"
   ]
  },
  {
   "cell_type": "markdown",
   "metadata": {},
   "source": [
    "### 1- Inicia mirando el video introductorio a la materia para poder desarrollar la guía"
   ]
  },
  {
   "cell_type": "code",
   "execution_count": 76,
   "metadata": {},
   "outputs": [
    {
     "data": {
      "text/html": [
       "\n",
       "        <iframe\n",
       "            width=\"900\"\n",
       "            height=\"500\"\n",
       "            src=\"https://www.youtube.com/embed/AoAm4om0wTq\"\n",
       "            frameborder=\"0\"\n",
       "            allowfullscreen\n",
       "        ></iframe>\n",
       "        "
      ],
      "text/plain": [
       "<IPython.lib.display.YouTubeVideo at 0x25834b7d8c8>"
      ]
     },
     "execution_count": 76,
     "metadata": {},
     "output_type": "execute_result"
    }
   ],
   "source": [
    "from IPython.lib.display import YouTubeVideo\n",
    "YouTubeVideo('AoAm4om0wTq',width=900,height=500,)"
   ]
  },
  {
   "cell_type": "markdown",
   "metadata": {},
   "source": [
    "### 2- Desarrolla los siguientes ejercicios propuestos"
   ]
  },
  {
   "cell_type": "markdown",
   "metadata": {},
   "source": [
    " ### A) \n",
    " Si la siguiente integral: $\\int x^2 dx $ fuera definida; quedaría de la siguiente forma: $\\int_a^b x^2 dx $\n"
   ]
  },
  {
   "cell_type": "markdown",
   "metadata": {},
   "source": [
    "#### Para resolver la integral:\n",
    " * Encontramos la antiderivada\n",
    " * La antiderivada F(x) la definimos con los valores de a y b: F(b) - F(a)"
   ]
  },
  {
   "cell_type": "markdown",
   "metadata": {},
   "source": [
    "####  Resuelve"
   ]
  },
  {
   "cell_type": "markdown",
   "metadata": {},
   "source": [
    "* $\\int(x^2+2x) dx $"
   ]
  },
  {
   "cell_type": "code",
   "execution_count": 1,
   "metadata": {
    "scrolled": false
   },
   "outputs": [
    {
     "data": {
      "application/vnd.jupyter.widget-view+json": {
       "model_id": "46f4d8130b614a119cc308e4bb10f23e",
       "version_major": 2,
       "version_minor": 0
      },
      "text/plain": [
       "RadioButtons(options=('F(x) = 3x+4+c', 'F(x) = x+c ', 'F(x) = 2x+2+c', 'F(x) = 5x+c'), value='F(x) = 3x+4+c')"
      ]
     },
     "metadata": {},
     "output_type": "display_data"
    }
   ],
   "source": [
    "import ipywidgets as widgets\n",
    "def f(x):\n",
    "    return (x)\n",
    "a = widgets.RadioButtons(options=['F(x) = 3x+4+c' , 'F(x) = x+c ','F(x) = 2x+2+c', 'F(x) = 5x+c']);\n",
    "a\n",
    "\n"
   ]
  },
  {
   "cell_type": "code",
   "execution_count": 36,
   "metadata": {},
   "outputs": [
    {
     "name": "stdout",
     "output_type": "stream",
     "text": [
      "intenta revisar tus cálculos e intenta resolverlo denuevo\n"
     ]
    }
   ],
   "source": [
    "if (a.value == 'F(x) = 2x+2'):\n",
    "    print(\"Correcto\")\n",
    "else:\n",
    "    print(\"intenta revisar tus cálculos e intenta resolverlo denuevo\")"
   ]
  },
  {
   "cell_type": "markdown",
   "metadata": {},
   "source": [
    "####  Ahora definamos la integral\n"
   ]
  },
  {
   "cell_type": "markdown",
   "metadata": {},
   "source": [
    "* $\\int_0^5 (x^2+2x) dx $"
   ]
  },
  {
   "cell_type": "markdown",
   "metadata": {},
   "source": [
    "Resuelve la integral definida anterior (recuerda seguir los pasos para resolver la integral)"
   ]
  },
  {
   "cell_type": "code",
   "execution_count": 2,
   "metadata": {},
   "outputs": [
    {
     "data": {
      "application/vnd.jupyter.widget-view+json": {
       "model_id": "5584a98f11774980ae8e33b90f805556",
       "version_major": 2,
       "version_minor": 0
      },
      "text/plain": [
       "RadioButtons(options=('F(x) = 7x+4', 'F(x) = 4 ', 'F(x) = 2', 'F(x) = 10'), value='F(x) = 7x+4')"
      ]
     },
     "metadata": {},
     "output_type": "display_data"
    }
   ],
   "source": [
    "import ipywidgets as widgets\n",
    "def f(x):\n",
    "    return (x)\n",
    "a = widgets.RadioButtons(options=['F(x) = 7x+4' , 'F(x) = 4 ','F(x) = 2', 'F(x) = 10']);\n",
    "\n",
    "a"
   ]
  },
  {
   "cell_type": "code",
   "execution_count": 38,
   "metadata": {},
   "outputs": [
    {
     "name": "stdout",
     "output_type": "stream",
     "text": [
      "intenta revisar tus cálculos e intenta resolverlo denuevo\n"
     ]
    }
   ],
   "source": [
    "\n",
    "if (a.value == 'F(x) = 10'):\n",
    "    print(\"Correcto\")\n",
    "else:\n",
    "    print(\"intenta revisar tus cálculos e intenta resolverlo denuevo\")\n"
   ]
  },
  {
   "cell_type": "markdown",
   "metadata": {},
   "source": [
    " ### B)\n",
    " Comparemos gráficamente"
   ]
  },
  {
   "cell_type": "markdown",
   "metadata": {},
   "source": [
    "##### ¿Cúal es la gráfica de la función f(x)? \n"
   ]
  },
  {
   "cell_type": "markdown",
   "metadata": {},
   "source": [
    "* si $   F(x)=\\int_a^b f(x) dx   $\n",
    " "
   ]
  },
  {
   "cell_type": "markdown",
   "metadata": {},
   "source": [
    "En la siguiente integral: $\\int_a^b (4x-x^2) dx$"
   ]
  },
  {
   "cell_type": "code",
   "execution_count": 3,
   "metadata": {},
   "outputs": [
    {
     "data": {
      "image/png": "[encoded data removed]",
      "text/plain": [
       "<Figure size 432x288 with 4 Axes>"
      ]
     },
     "metadata": {
      "needs_background": "light"
     },
     "output_type": "display_data"
    }
   ],
   "source": [
    "%matplotlib inline\n",
    "import matplotlib.pyplot as plt\n",
    "import numpy as np\n",
    "\n",
    "#figura de 2x2\n",
    "plt.figure()\n",
    "x=np.linspace(-10,10,100)\n",
    "\n",
    "#2x2 posicion 1\n",
    "y=x\n",
    "plt.subplot(141)\n",
    "plt.plot(x,2*x,'red')\n",
    "plt.yscale('linear')\n",
    "plt.title('Gráfico 1')\n",
    "plt.grid(True)\n",
    "plt.ylim(-10,10)\n",
    "plt.xlim(-10,10)\n",
    "plt.xlabel(\"eje x\")\n",
    "plt.ylabel(\"eje y\")\n",
    "\n",
    "y0=y*0\n",
    "x0=x*0\n",
    "plt.plot(x,y0, 'black')\n",
    "plt.plot(y0,x, 'black')\n",
    "plt.xlabel(\"eje x\")\n",
    "plt.ylabel(\"eje y\")\n",
    "\n",
    "\n",
    "#2x2 posicion 2\n",
    "plt.subplot(142)\n",
    "plt.plot(x,x**2+4,'red')\n",
    "plt.yscale('linear')\n",
    "plt.title('Gráfico 2')\n",
    "plt.grid(True)\n",
    "plt.ylim(-10,10)\n",
    "plt.xlim(-10,10)\n",
    "y0=y*0\n",
    "x0=x*0\n",
    "plt.plot(x,y0, 'black')\n",
    "plt.plot(y0,x, 'black')\n",
    "plt.xlabel(\"eje x\")\n",
    "plt.ylabel(\"eje y\")\n",
    "\n",
    "\n",
    "#2x2 posicion 3\n",
    "plt.subplot(143)\n",
    "plt.plot(x,-2*x,'red')\n",
    "plt.yscale('linear')\n",
    "plt.title('Gráfico 3')\n",
    "plt.grid(True)\n",
    "plt.ylim(-10,10)\n",
    "plt.xlim(-10,10)\n",
    "y0=y*0\n",
    "x0=x*0\n",
    "plt.plot(x,y0, 'black')\n",
    "plt.plot(y0,x, 'black')\n",
    "plt.xlabel(\"eje x\")\n",
    "plt.ylabel(\"eje y\")\n",
    "\n",
    "#2x2 posicion 4\n",
    "plt.subplot(144)\n",
    "plt.plot(x,4*x-x**2,'red')\n",
    "plt.yscale('linear')\n",
    "plt.title('Gráfico 4')\n",
    "plt.grid(True)\n",
    "plt.ylim(-10,10)\n",
    "plt.xlim(-10,10)\n",
    "y0=y*0\n",
    "x0=x*0\n",
    "plt.xlabel(\"eje x\")\n",
    "plt.ylabel(\"eje y\")\n",
    "\n",
    "plt.plot(x,y0, 'black')\n",
    "plt.plot(y0,x, 'black')\n",
    "#ajustar los subplot\n",
    "plt.subplots_adjust(top=0.6, bottom=0.1, left=0.125, right=2.1, hspace=0.2, wspace=0.5)\n",
    "\n",
    "plt.show()"
   ]
  },
  {
   "cell_type": "code",
   "execution_count": 4,
   "metadata": {},
   "outputs": [
    {
     "data": {
      "application/vnd.jupyter.widget-view+json": {
       "model_id": "c5fa3298553c48c3a37f7ae5e6c55030",
       "version_major": 2,
       "version_minor": 0
      },
      "text/plain": [
       "RadioButtons(options=('Gráfico 1', 'Gráfico 2', 'Gráfico 3', 'Gráfico 4'), value='Gráfico 1')"
      ]
     },
     "metadata": {},
     "output_type": "display_data"
    }
   ],
   "source": [
    "import ipywidgets as widgets\n",
    "def f(x):\n",
    "    return (x)\n",
    "a = widgets.RadioButtons(options=['Gráfico 1' , 'Gráfico 2','Gráfico 3', 'Gráfico 4']);\n",
    "a"
   ]
  },
  {
   "cell_type": "code",
   "execution_count": 5,
   "metadata": {},
   "outputs": [
    {
     "name": "stdout",
     "output_type": "stream",
     "text": [
      "Estamos en presencia de una función cuadrada, entonces el comportamiento de la gráfica será asociada a una parábola\n"
     ]
    }
   ],
   "source": [
    "if (a.value == 'Gráfico 4'):\n",
    "    print(\"Correcto\")\n",
    "else:\n",
    "    if (a.value=='Gráfico 2'):\n",
    "        print(\"Recuerda el contenido visto anteriormente en la función cuadrática y su comportamiento cuando (a) es negativo de la  forma ax^2+bx+c=0\")\n",
    "    else:\n",
    "         print(\"Estamos en presencia de una función cuadrada, entonces el comportamiento de la gráfica será asociada a una parábola\")"
   ]
  },
  {
   "cell_type": "markdown",
   "metadata": {},
   "source": [
    "##### Una vez obtenida la gráfica de la función, calculamos el área entre la curva de la gráfica y el eje X"
   ]
  },
  {
   "cell_type": "markdown",
   "metadata": {},
   "source": [
    "- Para calcular el área en un determinado intervalo, debemos definir a y b de la integral, ya que la integral nos permite calcular el área entre los intervalos [a,b]"
   ]
  },
  {
   "cell_type": "markdown",
   "metadata": {},
   "source": [
    "$$\\int_a^b$$"
   ]
  },
  {
   "cell_type": "code",
   "execution_count": 6,
   "metadata": {
    "scrolled": true
   },
   "outputs": [
    {
     "data": {
      "image/png": "[encoded data removed]",
      "text/plain": [
       "<Figure size 432x288 with 1 Axes>"
      ]
     },
     "metadata": {
      "needs_background": "light"
     },
     "output_type": "display_data"
    }
   ],
   "source": [
    "%matplotlib inline\n",
    "import matplotlib.pyplot as plt\n",
    "import numpy as np\n",
    "\n",
    "\n",
    "plt.figure()\n",
    "x=np.linspace(-10,10,100)\n",
    "plt.subplot()\n",
    "\n",
    "\n",
    "plt.plot(x,4*x-x**2,'red', label=\"f(x)=4x-x^2\", lw=3)\n",
    "plt.yscale('linear')\n",
    "plt.title(\"Área bajo la curva\")\n",
    "plt.grid(True)\n",
    "plt.ylim(0,5)\n",
    "plt.xlim(-5,5)\n",
    "y0=y*0\n",
    "x0=x*0\n",
    "plt.xlabel(\"eje x\")\n",
    "plt.ylabel(\"eje y\")\n",
    "plt.plot(x,y0, 'black')\n",
    "plt.plot(y0,x, 'black')\n",
    "plt.axis()\n",
    "plt.legend()\n",
    "\n",
    "plt.fill_between(x,4*x-x**2, color=\"#8bf060\")\n",
    "\n",
    "\n",
    "\n",
    "plt.subplots_adjust(top=1, bottom=0.1, left=0.125, right=2, hspace=0.2, wspace=0.2)\n",
    "plt.annotate(\"área\",fontsize=24, xy=(2, 3), xytext=(4,3),\n",
    "            arrowprops=dict(facecolor=\"black\", shrink=0.1),)\n",
    "\n",
    "plt.annotate(\"intervalo\",fontsize=24, xy=(0, 0), xytext=(1.7,0.1),\n",
    "            arrowprops=dict(facecolor=\"blue\", shrink=0),)\n",
    "plt.annotate(\"intervalo\",fontsize=24, xy=(4, 0), xytext=(1.7,0.1),\n",
    "            arrowprops=dict(facecolor=\"blue\", shrink=0),)\n",
    "plt.annotate(\"b\" ,fontsize=24, xy=(4, 0), xytext=(4.5,1),\n",
    "            arrowprops=dict(facecolor=\"pink\", shrink=0),)\n",
    "plt.annotate(\"a\",fontsize=24, xy=(0, 0), xytext=(-1,1),\n",
    "            arrowprops=dict(facecolor=\"pink\", shrink=0),)\n",
    "\n",
    "\n",
    "plt.show()"
   ]
  },
  {
   "cell_type": "markdown",
   "metadata": {},
   "source": [
    " ### C)\n",
    " Resuelve el siguiente ejercicio:  \n",
    " + Calcular el área entre la gráfica $ f(x)=2x-3 $ y el eje X. En el intervalo [3,5]"
   ]
  },
  {
   "cell_type": "code",
   "execution_count": 9,
   "metadata": {},
   "outputs": [
    {
     "data": {
      "application/javascript": [
       "/* Put everything inside the global mpl namespace */\n",
       "window.mpl = {};\n",
       "\n",
       "\n",
       "mpl.get_websocket_type = function() {\n",
       "    if (typeof(WebSocket) !== 'undefined') {\n",
       "        return WebSocket;\n",
       "    } else if (typeof(MozWebSocket) !== 'undefined') {\n",
       "        return MozWebSocket;\n",
       "    } else {\n",
       "        alert('Your browser does not have WebSocket support. ' +\n",
       "              'Please try Chrome, Safari or Firefox ≥ 6. ' +\n",
       "              'Firefox 4 and 5 are also supported but you ' +\n",
       "              'have to enable WebSockets in about:config.');\n",
       "    };\n",
       "}\n",
       "\n",
       "mpl.figure = function(figure_id, websocket, ondownload, parent_element) {\n",
       "    this.id = figure_id;\n",
       "\n",
       "    this.ws = websocket;\n",
       "\n",
       "    this.supports_binary = (this.ws.binaryType != undefined);\n",
       "\n",
       "    if (!this.supports_binary) {\n",
       "        var warnings = document.getElementById(\"mpl-warnings\");\n",
       "        if (warnings) {\n",
       "            warnings.style.display = 'block';\n",
       "            warnings.textContent = (\n",
       "                \"This browser does not support binary websocket messages. \" +\n",
       "                    \"Performance may be slow.\");\n",
       "        }\n",
       "    }\n",
       "\n",
       "    this.imageObj = new Image();\n",
       "\n",
       "    this.context = undefined;\n",
       "    this.message = undefined;\n",
       "    this.canvas = undefined;\n",
       "    this.rubberband_canvas = undefined;\n",
       "    this.rubberband_context = undefined;\n",
       "    this.format_dropdown = undefined;\n",
       "\n",
       "    this.image_mode = 'full';\n",
       "\n",
       "    this.root = $('<div/>');\n",
       "    this._root_extra_style(this.root)\n",
       "    this.root.attr('style', 'display: inline-block');\n",
       "\n",
       "    $(parent_element).append(this.root);\n",
       "\n",
       "    this._init_header(this);\n",
       "    this._init_canvas(this);\n",
       "    this._init_toolbar(this);\n",
       "\n",
       "    var fig = this;\n",
       "\n",
       "    this.waiting = false;\n",
       "\n",
       "    this.ws.onopen =  function () {\n",
       "            fig.send_message(\"supports_binary\", {value: fig.supports_binary});\n",
       "            fig.send_message(\"send_image_mode\", {});\n",
       "            if (mpl.ratio != 1) {\n",
       "                fig.send_message(\"set_dpi_ratio\", {'dpi_ratio': mpl.ratio});\n",
       "            }\n",
       "            fig.send_message(\"refresh\", {});\n",
       "        }\n",
       "\n",
       "    this.imageObj.onload = function() {\n",
       "            if (fig.image_mode == 'full') {\n",
       "                // Full images could contain transparency (where diff images\n",
       "                // almost always do), so we need to clear the canvas so that\n",
       "                // there is no ghosting.\n",
       "                fig.context.clearRect(0, 0, fig.canvas.width, fig.canvas.height);\n",
       "            }\n",
       "            fig.context.drawImage(fig.imageObj, 0, 0);\n",
       "        };\n",
       "\n",
       "    this.imageObj.onunload = function() {\n",
       "        fig.ws.close();\n",
       "    }\n",
       "\n",
       "    this.ws.onmessage = this._make_on_message_function(this);\n",
       "\n",
       "    this.ondownload = ondownload;\n",
       "}\n",
       "\n",
       "mpl.figure.prototype._init_header = function() {\n",
       "    var titlebar = $(\n",
       "        '<div class=\"ui-dialog-titlebar ui-widget-header ui-corner-all ' +\n",
       "        'ui-helper-clearfix\"/>');\n",
       "    var titletext = $(\n",
       "        '<div class=\"ui-dialog-title\" style=\"width: 100%; ' +\n",
       "        'text-align: center; padding: 3px;\"/>');\n",
       "    titlebar.append(titletext)\n",
       "    this.root.append(titlebar);\n",
       "    this.header = titletext[0];\n",
       "}\n",
       "\n",
       "\n",
       "\n",
       "mpl.figure.prototype._canvas_extra_style = function(canvas_div) {\n",
       "\n",
       "}\n",
       "\n",
       "\n",
       "mpl.figure.prototype._root_extra_style = function(canvas_div) {\n",
       "\n",
       "}\n",
       "\n",
       "mpl.figure.prototype._init_canvas = function() {\n",
       "    var fig = this;\n",
       "\n",
       "    var canvas_div = $('<div/>');\n",
       "\n",
       "    canvas_div.attr('style', 'position: relative; clear: both; outline: 0');\n",
       "\n",
       "    function canvas_keyboard_event(event) {\n",
       "        return fig.key_event(event, event['data']);\n",
       "    }\n",
       "\n",
       "    canvas_div.keydown('key_press', canvas_keyboard_event);\n",
       "    canvas_div.keyup('key_release', canvas_keyboard_event);\n",
       "    this.canvas_div = canvas_div\n",
       "    this._canvas_extra_style(canvas_div)\n",
       "    this.root.append(canvas_div);\n",
       "\n",
       "    var canvas = $('<canvas/>');\n",
       "    canvas.addClass('mpl-canvas');\n",
       "    canvas.attr('style', \"left: 0; top: 0; z-index: 0; outline: 0\")\n",
       "\n",
       "    this.canvas = canvas[0];\n",
       "    this.context = canvas[0].getContext(\"2d\");\n",
       "\n",
       "    var backingStore = this.context.backingStorePixelRatio ||\n",
       "\tthis.context.webkitBackingStorePixelRatio ||\n",
       "\tthis.context.mozBackingStorePixelRatio ||\n",
       "\tthis.context.msBackingStorePixelRatio ||\n",
       "\tthis.context.oBackingStorePixelRatio ||\n",
       "\tthis.context.backingStorePixelRatio || 1;\n",
       "\n",
       "    mpl.ratio = (window.devicePixelRatio || 1) / backingStore;\n",
       "\n",
       "    var rubberband = $('<canvas/>');\n",
       "    rubberband.attr('style', \"position: absolute; left: 0; top: 0; z-index: 1;\")\n",
       "\n",
       "    var pass_mouse_events = true;\n",
       "\n",
       "    canvas_div.resizable({\n",
       "        start: function(event, ui) {\n",
       "            pass_mouse_events = false;\n",
       "        },\n",
       "        resize: function(event, ui) {\n",
       "            fig.request_resize(ui.size.width, ui.size.height);\n",
       "        },\n",
       "        stop: function(event, ui) {\n",
       "            pass_mouse_events = true;\n",
       "            fig.request_resize(ui.size.width, ui.size.height);\n",
       "        },\n",
       "    });\n",
       "\n",
       "    function mouse_event_fn(event) {\n",
       "        if (pass_mouse_events)\n",
       "            return fig.mouse_event(event, event['data']);\n",
       "    }\n",
       "\n",
       "    rubberband.mousedown('button_press', mouse_event_fn);\n",
       "    rubberband.mouseup('button_release', mouse_event_fn);\n",
       "    // Throttle sequential mouse events to 1 every 20ms.\n",
       "    rubberband.mousemove('motion_notify', mouse_event_fn);\n",
       "\n",
       "    rubberband.mouseenter('figure_enter', mouse_event_fn);\n",
       "    rubberband.mouseleave('figure_leave', mouse_event_fn);\n",
       "\n",
       "    canvas_div.on(\"wheel\", function (event) {\n",
       "        event = event.originalEvent;\n",
       "        event['data'] = 'scroll'\n",
       "        if (event.deltaY < 0) {\n",
       "            event.step = 1;\n",
       "        } else {\n",
       "            event.step = -1;\n",
       "        }\n",
       "        mouse_event_fn(event);\n",
       "    });\n",
       "\n",
       "    canvas_div.append(canvas);\n",
       "    canvas_div.append(rubberband);\n",
       "\n",
       "    this.rubberband = rubberband;\n",
       "    this.rubberband_canvas = rubberband[0];\n",
       "    this.rubberband_context = rubberband[0].getContext(\"2d\");\n",
       "    this.rubberband_context.strokeStyle = \"#000000\";\n",
       "\n",
       "    this._resize_canvas = function(width, height) {\n",
       "        // Keep the size of the canvas, canvas container, and rubber band\n",
       "        // canvas in synch.\n",
       "        canvas_div.css('width', width)\n",
       "        canvas_div.css('height', height)\n",
       "\n",
       "        canvas.attr('width', width * mpl.ratio);\n",
       "        canvas.attr('height', height * mpl.ratio);\n",
       "        canvas.attr('style', 'width: ' + width + 'px; height: ' + height + 'px;');\n",
       "\n",
       "        rubberband.attr('width', width);\n",
       "        rubberband.attr('height', height);\n",
       "    }\n",
       "\n",
       "    // Set the figure to an initial 600x600px, this will subsequently be updated\n",
       "    // upon first draw.\n",
       "    this._resize_canvas(600, 600);\n",
       "\n",
       "    // Disable right mouse context menu.\n",
       "    $(this.rubberband_canvas).bind(\"contextmenu\",function(e){\n",
       "        return false;\n",
       "    });\n",
       "\n",
       "    function set_focus () {\n",
       "        canvas.focus();\n",
       "        canvas_div.focus();\n",
       "    }\n",
       "\n",
       "    window.setTimeout(set_focus, 100);\n",
       "}\n",
       "\n",
       "mpl.figure.prototype._init_toolbar = function() {\n",
       "    var fig = this;\n",
       "\n",
       "    var nav_element = $('<div/>');\n",
       "    nav_element.attr('style', 'width: 100%');\n",
       "    this.root.append(nav_element);\n",
       "\n",
       "    // Define a callback function for later on.\n",
       "    function toolbar_event(event) {\n",
       "        return fig.toolbar_button_onclick(event['data']);\n",
       "    }\n",
       "    function toolbar_mouse_event(event) {\n",
       "        return fig.toolbar_button_onmouseover(event['data']);\n",
       "    }\n",
       "\n",
       "    for(var toolbar_ind in mpl.toolbar_items) {\n",
       "        var name = mpl.toolbar_items[toolbar_ind][0];\n",
       "        var tooltip = mpl.toolbar_items[toolbar_ind][1];\n",
       "        var image = mpl.toolbar_items[toolbar_ind][2];\n",
       "        var method_name = mpl.toolbar_items[toolbar_ind][3];\n",
       "\n",
       "        if (!name) {\n",
       "            // put a spacer in here.\n",
       "            continue;\n",
       "        }\n",
       "        var button = $('<button/>');\n",
       "        button.addClass('ui-button ui-widget ui-state-default ui-corner-all ' +\n",
       "                        'ui-button-icon-only');\n",
       "        button.attr('role', 'button');\n",
       "        button.attr('aria-disabled', 'false');\n",
       "        button.click(method_name, toolbar_event);\n",
       "        button.mouseover(tooltip, toolbar_mouse_event);\n",
       "\n",
       "        var icon_img = $('<span/>');\n",
       "        icon_img.addClass('ui-button-icon-primary ui-icon');\n",
       "        icon_img.addClass(image);\n",
       "        icon_img.addClass('ui-corner-all');\n",
       "\n",
       "        var tooltip_span = $('<span/>');\n",
       "        tooltip_span.addClass('ui-button-text');\n",
       "        tooltip_span.html(tooltip);\n",
       "\n",
       "        button.append(icon_img);\n",
       "        button.append(tooltip_span);\n",
       "\n",
       "        nav_element.append(button);\n",
       "    }\n",
       "\n",
       "    var fmt_picker_span = $('<span/>');\n",
       "\n",
       "    var fmt_picker = $('<select/>');\n",
       "    fmt_picker.addClass('mpl-toolbar-option ui-widget ui-widget-content');\n",
       "    fmt_picker_span.append(fmt_picker);\n",
       "    nav_element.append(fmt_picker_span);\n",
       "    this.format_dropdown = fmt_picker[0];\n",
       "\n",
       "    for (var ind in mpl.extensions) {\n",
       "        var fmt = mpl.extensions[ind];\n",
       "        var option = $(\n",
       "            '<option/>', {selected: fmt === mpl.default_extension}).html(fmt);\n",
       "        fmt_picker.append(option);\n",
       "    }\n",
       "\n",
       "    // Add hover states to the ui-buttons\n",
       "    $( \".ui-button\" ).hover(\n",
       "        function() { $(this).addClass(\"ui-state-hover\");},\n",
       "        function() { $(this).removeClass(\"ui-state-hover\");}\n",
       "    );\n",
       "\n",
       "    var status_bar = $('<span class=\"mpl-message\"/>');\n",
       "    nav_element.append(status_bar);\n",
       "    this.message = status_bar[0];\n",
       "}\n",
       "\n",
       "mpl.figure.prototype.request_resize = function(x_pixels, y_pixels) {\n",
       "    // Request matplotlib to resize the figure. Matplotlib will then trigger a resize in the client,\n",
       "    // which will in turn request a refresh of the image.\n",
       "    this.send_message('resize', {'width': x_pixels, 'height': y_pixels});\n",
       "}\n",
       "\n",
       "mpl.figure.prototype.send_message = function(type, properties) {\n",
       "    properties['type'] = type;\n",
       "    properties['figure_id'] = this.id;\n",
       "    this.ws.send(JSON.stringify(properties));\n",
       "}\n",
       "\n",
       "mpl.figure.prototype.send_draw_message = function() {\n",
       "    if (!this.waiting) {\n",
       "        this.waiting = true;\n",
       "        this.ws.send(JSON.stringify({type: \"draw\", figure_id: this.id}));\n",
       "    }\n",
       "}\n",
       "\n",
       "\n",
       "mpl.figure.prototype.handle_save = function(fig, msg) {\n",
       "    var format_dropdown = fig.format_dropdown;\n",
       "    var format = format_dropdown.options[format_dropdown.selectedIndex].value;\n",
       "    fig.ondownload(fig, format);\n",
       "}\n",
       "\n",
       "\n",
       "mpl.figure.prototype.handle_resize = function(fig, msg) {\n",
       "    var size = msg['size'];\n",
       "    if (size[0] != fig.canvas.width || size[1] != fig.canvas.height) {\n",
       "        fig._resize_canvas(size[0], size[1]);\n",
       "        fig.send_message(\"refresh\", {});\n",
       "    };\n",
       "}\n",
       "\n",
       "mpl.figure.prototype.handle_rubberband = function(fig, msg) {\n",
       "    var x0 = msg['x0'] / mpl.ratio;\n",
       "    var y0 = (fig.canvas.height - msg['y0']) / mpl.ratio;\n",
       "    var x1 = msg['x1'] / mpl.ratio;\n",
       "    var y1 = (fig.canvas.height - msg['y1']) / mpl.ratio;\n",
       "    x0 = Math.floor(x0) + 0.5;\n",
       "    y0 = Math.floor(y0) + 0.5;\n",
       "    x1 = Math.floor(x1) + 0.5;\n",
       "    y1 = Math.floor(y1) + 0.5;\n",
       "    var min_x = Math.min(x0, x1);\n",
       "    var min_y = Math.min(y0, y1);\n",
       "    var width = Math.abs(x1 - x0);\n",
       "    var height = Math.abs(y1 - y0);\n",
       "\n",
       "    fig.rubberband_context.clearRect(\n",
       "        0, 0, fig.canvas.width / mpl.ratio, fig.canvas.height / mpl.ratio);\n",
       "\n",
       "    fig.rubberband_context.strokeRect(min_x, min_y, width, height);\n",
       "}\n",
       "\n",
       "mpl.figure.prototype.handle_figure_label = function(fig, msg) {\n",
       "    // Updates the figure title.\n",
       "    fig.header.textContent = msg['label'];\n",
       "}\n",
       "\n",
       "mpl.figure.prototype.handle_cursor = function(fig, msg) {\n",
       "    var cursor = msg['cursor'];\n",
       "    switch(cursor)\n",
       "    {\n",
       "    case 0:\n",
       "        cursor = 'pointer';\n",
       "        break;\n",
       "    case 1:\n",
       "        cursor = 'default';\n",
       "        break;\n",
       "    case 2:\n",
       "        cursor = 'crosshair';\n",
       "        break;\n",
       "    case 3:\n",
       "        cursor = 'move';\n",
       "        break;\n",
       "    }\n",
       "    fig.rubberband_canvas.style.cursor = cursor;\n",
       "}\n",
       "\n",
       "mpl.figure.prototype.handle_message = function(fig, msg) {\n",
       "    fig.message.textContent = msg['message'];\n",
       "}\n",
       "\n",
       "mpl.figure.prototype.handle_draw = function(fig, msg) {\n",
       "    // Request the server to send over a new figure.\n",
       "    fig.send_draw_message();\n",
       "}\n",
       "\n",
       "mpl.figure.prototype.handle_image_mode = function(fig, msg) {\n",
       "    fig.image_mode = msg['mode'];\n",
       "}\n",
       "\n",
       "mpl.figure.prototype.updated_canvas_event = function() {\n",
       "    // Called whenever the canvas gets updated.\n",
       "    this.send_message(\"ack\", {});\n",
       "}\n",
       "\n",
       "// A function to construct a web socket function for onmessage handling.\n",
       "// Called in the figure constructor.\n",
       "mpl.figure.prototype._make_on_message_function = function(fig) {\n",
       "    return function socket_on_message(evt) {\n",
       "        if (evt.data instanceof Blob) {\n",
       "            /* FIXME: We get \"Resource interpreted as Image but\n",
       "             * transferred with MIME type text/plain:\" errors on\n",
       "             * Chrome.  But how to set the MIME type?  It doesn't seem\n",
       "             * to be part of the websocket stream */\n",
       "            evt.data.type = \"image/png\";\n",
       "\n",
       "            /* Free the memory for the previous frames */\n",
       "            if (fig.imageObj.src) {\n",
       "                (window.URL || window.webkitURL).revokeObjectURL(\n",
       "                    fig.imageObj.src);\n",
       "            }\n",
       "\n",
       "            fig.imageObj.src = (window.URL || window.webkitURL).createObjectURL(\n",
       "                evt.data);\n",
       "            fig.updated_canvas_event();\n",
       "            fig.waiting = false;\n",
       "            return;\n",
       "        }\n",
       "        else if (typeof evt.data === 'string' && evt.data.slice(0, 21) == \"data:image/png;base64\") {\n",
       "            fig.imageObj.src = evt.data;\n",
       "            fig.updated_canvas_event();\n",
       "            fig.waiting = false;\n",
       "            return;\n",
       "        }\n",
       "\n",
       "        var msg = JSON.parse(evt.data);\n",
       "        var msg_type = msg['type'];\n",
       "\n",
       "        // Call the  \"handle_{type}\" callback, which takes\n",
       "        // the figure and JSON message as its only arguments.\n",
       "        try {\n",
       "            var callback = fig[\"handle_\" + msg_type];\n",
       "        } catch (e) {\n",
       "            console.log(\"No handler for the '\" + msg_type + \"' message type: \", msg);\n",
       "            return;\n",
       "        }\n",
       "\n",
       "        if (callback) {\n",
       "            try {\n",
       "                // console.log(\"Handling '\" + msg_type + \"' message: \", msg);\n",
       "                callback(fig, msg);\n",
       "            } catch (e) {\n",
       "                console.log(\"Exception inside the 'handler_\" + msg_type + \"' callback:\", e, e.stack, msg);\n",
       "            }\n",
       "        }\n",
       "    };\n",
       "}\n",
       "\n",
       "// from http://stackoverflow.com/questions/1114465/getting-mouse-location-in-canvas\n",
       "mpl.findpos = function(e) {\n",
       "    //this section is from http://www.quirksmode.org/js/events_properties.html\n",
       "    var targ;\n",
       "    if (!e)\n",
       "        e = window.event;\n",
       "    if (e.target)\n",
       "        targ = e.target;\n",
       "    else if (e.srcElement)\n",
       "        targ = e.srcElement;\n",
       "    if (targ.nodeType == 3) // defeat Safari bug\n",
       "        targ = targ.parentNode;\n",
       "\n",
       "    // jQuery normalizes the pageX and pageY\n",
       "    // pageX,Y are the mouse positions relative to the document\n",
       "    // offset() returns the position of the element relative to the document\n",
       "    var x = e.pageX - $(targ).offset().left;\n",
       "    var y = e.pageY - $(targ).offset().top;\n",
       "\n",
       "    return {\"x\": x, \"y\": y};\n",
       "};\n",
       "\n",
       "/*\n",
       " * return a copy of an object with only non-object keys\n",
       " * we need this to avoid circular references\n",
       " * http://stackoverflow.com/a/24161582/3208463\n",
       " */\n",
       "function simpleKeys (original) {\n",
       "  return Object.keys(original).reduce(function (obj, key) {\n",
       "    if (typeof original[key] !== 'object')\n",
       "        obj[key] = original[key]\n",
       "    return obj;\n",
       "  }, {});\n",
       "}\n",
       "\n",
       "mpl.figure.prototype.mouse_event = function(event, name) {\n",
       "    var canvas_pos = mpl.findpos(event)\n",
       "\n",
       "    if (name === 'button_press')\n",
       "    {\n",
       "        this.canvas.focus();\n",
       "        this.canvas_div.focus();\n",
       "    }\n",
       "\n",
       "    var x = canvas_pos.x * mpl.ratio;\n",
       "    var y = canvas_pos.y * mpl.ratio;\n",
       "\n",
       "    this.send_message(name, {x: x, y: y, button: event.button,\n",
       "                             step: event.step,\n",
       "                             guiEvent: simpleKeys(event)});\n",
       "\n",
       "    /* This prevents the web browser from automatically changing to\n",
       "     * the text insertion cursor when the button is pressed.  We want\n",
       "     * to control all of the cursor setting manually through the\n",
       "     * 'cursor' event from matplotlib */\n",
       "    event.preventDefault();\n",
       "    return false;\n",
       "}\n",
       "\n",
       "mpl.figure.prototype._key_event_extra = function(event, name) {\n",
       "    // Handle any extra behaviour associated with a key event\n",
       "}\n",
       "\n",
       "mpl.figure.prototype.key_event = function(event, name) {\n",
       "\n",
       "    // Prevent repeat events\n",
       "    if (name == 'key_press')\n",
       "    {\n",
       "        if (event.which === this._key)\n",
       "            return;\n",
       "        else\n",
       "            this._key = event.which;\n",
       "    }\n",
       "    if (name == 'key_release')\n",
       "        this._key = null;\n",
       "\n",
       "    var value = '';\n",
       "    if (event.ctrlKey && event.which != 17)\n",
       "        value += \"ctrl+\";\n",
       "    if (event.altKey && event.which != 18)\n",
       "        value += \"alt+\";\n",
       "    if (event.shiftKey && event.which != 16)\n",
       "        value += \"shift+\";\n",
       "\n",
       "    value += 'k';\n",
       "    value += event.which.toString();\n",
       "\n",
       "    this._key_event_extra(event, name);\n",
       "\n",
       "    this.send_message(name, {key: value,\n",
       "                             guiEvent: simpleKeys(event)});\n",
       "    return false;\n",
       "}\n",
       "\n",
       "mpl.figure.prototype.toolbar_button_onclick = function(name) {\n",
       "    if (name == 'download') {\n",
       "        this.handle_save(this, null);\n",
       "    } else {\n",
       "        this.send_message(\"toolbar_button\", {name: name});\n",
       "    }\n",
       "};\n",
       "\n",
       "mpl.figure.prototype.toolbar_button_onmouseover = function(tooltip) {\n",
       "    this.message.textContent = tooltip;\n",
       "};\n",
       "mpl.toolbar_items = [[\"Home\", \"Reset original view\", \"fa fa-home icon-home\", \"home\"], [\"Back\", \"Back to previous view\", \"fa fa-arrow-left icon-arrow-left\", \"back\"], [\"Forward\", \"Forward to next view\", \"fa fa-arrow-right icon-arrow-right\", \"forward\"], [\"\", \"\", \"\", \"\"], [\"Pan\", \"Pan axes with left mouse, zoom with right\", \"fa fa-arrows icon-move\", \"pan\"], [\"Zoom\", \"Zoom to rectangle\", \"fa fa-square-o icon-check-empty\", \"zoom\"], [\"\", \"\", \"\", \"\"], [\"Download\", \"Download plot\", \"fa fa-floppy-o icon-save\", \"download\"]];\n",
       "\n",
       "mpl.extensions = [\"eps\", \"jpeg\", \"pdf\", \"png\", \"ps\", \"raw\", \"svg\", \"tif\"];\n",
       "\n",
       "mpl.default_extension = \"png\";var comm_websocket_adapter = function(comm) {\n",
       "    // Create a \"websocket\"-like object which calls the given IPython comm\n",
       "    // object with the appropriate methods. Currently this is a non binary\n",
       "    // socket, so there is still some room for performance tuning.\n",
       "    var ws = {};\n",
       "\n",
       "    ws.close = function() {\n",
       "        comm.close()\n",
       "    };\n",
       "    ws.send = function(m) {\n",
       "        //console.log('sending', m);\n",
       "        comm.send(m);\n",
       "    };\n",
       "    // Register the callback with on_msg.\n",
       "    comm.on_msg(function(msg) {\n",
       "        //console.log('receiving', msg['content']['data'], msg);\n",
       "        // Pass the mpl event to the overridden (by mpl) onmessage function.\n",
       "        ws.onmessage(msg['content']['data'])\n",
       "    });\n",
       "    return ws;\n",
       "}\n",
       "\n",
       "mpl.mpl_figure_comm = function(comm, msg) {\n",
       "    // This is the function which gets called when the mpl process\n",
       "    // starts-up an IPython Comm through the \"matplotlib\" channel.\n",
       "\n",
       "    var id = msg.content.data.id;\n",
       "    // Get hold of the div created by the display call when the Comm\n",
       "    // socket was opened in Python.\n",
       "    var element = $(\"#\" + id);\n",
       "    var ws_proxy = comm_websocket_adapter(comm)\n",
       "\n",
       "    function ondownload(figure, format) {\n",
       "        window.open(figure.imageObj.src);\n",
       "    }\n",
       "\n",
       "    var fig = new mpl.figure(id, ws_proxy,\n",
       "                           ondownload,\n",
       "                           element.get(0));\n",
       "\n",
       "    // Call onopen now - mpl needs it, as it is assuming we've passed it a real\n",
       "    // web socket which is closed, not our websocket->open comm proxy.\n",
       "    ws_proxy.onopen();\n",
       "\n",
       "    fig.parent_element = element.get(0);\n",
       "    fig.cell_info = mpl.find_output_cell(\"<div id='\" + id + \"'></div>\");\n",
       "    if (!fig.cell_info) {\n",
       "        console.error(\"Failed to find cell for figure\", id, fig);\n",
       "        return;\n",
       "    }\n",
       "\n",
       "    var output_index = fig.cell_info[2]\n",
       "    var cell = fig.cell_info[0];\n",
       "\n",
       "};\n",
       "\n",
       "mpl.figure.prototype.handle_close = function(fig, msg) {\n",
       "    var width = fig.canvas.width/mpl.ratio\n",
       "    fig.root.unbind('remove')\n",
       "\n",
       "    // Update the output cell to use the data from the current canvas.\n",
       "    fig.push_to_output();\n",
       "    var dataURL = fig.canvas.toDataURL();\n",
       "    // Re-enable the keyboard manager in IPython - without this line, in FF,\n",
       "    // the notebook keyboard shortcuts fail.\n",
       "    IPython.keyboard_manager.enable()\n",
       "    $(fig.parent_element).html('<img src=\"' + dataURL + '\" width=\"' + width + '\">');\n",
       "    fig.close_ws(fig, msg);\n",
       "}\n",
       "\n",
       "mpl.figure.prototype.close_ws = function(fig, msg){\n",
       "    fig.send_message('closing', msg);\n",
       "    // fig.ws.close()\n",
       "}\n",
       "\n",
       "mpl.figure.prototype.push_to_output = function(remove_interactive) {\n",
       "    // Turn the data on the canvas into data in the output cell.\n",
       "    var width = this.canvas.width/mpl.ratio\n",
       "    var dataURL = this.canvas.toDataURL();\n",
       "    this.cell_info[1]['text/html'] = '<img src=\"' + dataURL + '\" width=\"' + width + '\">';\n",
       "}\n",
       "\n",
       "mpl.figure.prototype.updated_canvas_event = function() {\n",
       "    // Tell IPython that the notebook contents must change.\n",
       "    IPython.notebook.set_dirty(true);\n",
       "    this.send_message(\"ack\", {});\n",
       "    var fig = this;\n",
       "    // Wait a second, then push the new image to the DOM so\n",
       "    // that it is saved nicely (might be nice to debounce this).\n",
       "    setTimeout(function () { fig.push_to_output() }, 1000);\n",
       "}\n",
       "\n",
       "mpl.figure.prototype._init_toolbar = function() {\n",
       "    var fig = this;\n",
       "\n",
       "    var nav_element = $('<div/>');\n",
       "    nav_element.attr('style', 'width: 100%');\n",
       "    this.root.append(nav_element);\n",
       "\n",
       "    // Define a callback function for later on.\n",
       "    function toolbar_event(event) {\n",
       "        return fig.toolbar_button_onclick(event['data']);\n",
       "    }\n",
       "    function toolbar_mouse_event(event) {\n",
       "        return fig.toolbar_button_onmouseover(event['data']);\n",
       "    }\n",
       "\n",
       "    for(var toolbar_ind in mpl.toolbar_items){\n",
       "        var name = mpl.toolbar_items[toolbar_ind][0];\n",
       "        var tooltip = mpl.toolbar_items[toolbar_ind][1];\n",
       "        var image = mpl.toolbar_items[toolbar_ind][2];\n",
       "        var method_name = mpl.toolbar_items[toolbar_ind][3];\n",
       "\n",
       "        if (!name) { continue; };\n",
       "\n",
       "        var button = $('<button class=\"btn btn-default\" href=\"#\" title=\"' + name + '\"><i class=\"fa ' + image + ' fa-lg\"></i></button>');\n",
       "        button.click(method_name, toolbar_event);\n",
       "        button.mouseover(tooltip, toolbar_mouse_event);\n",
       "        nav_element.append(button);\n",
       "    }\n",
       "\n",
       "    // Add the status bar.\n",
       "    var status_bar = $('<span class=\"mpl-message\" style=\"text-align:right; float: right;\"/>');\n",
       "    nav_element.append(status_bar);\n",
       "    this.message = status_bar[0];\n",
       "\n",
       "    // Add the close button to the window.\n",
       "    var buttongrp = $('<div class=\"btn-group inline pull-right\"></div>');\n",
       "    var button = $('<button class=\"btn btn-mini btn-primary\" href=\"#\" title=\"Stop Interaction\"><i class=\"fa fa-power-off icon-remove icon-large\"></i></button>');\n",
       "    button.click(function (evt) { fig.handle_close(fig, {}); } );\n",
       "    button.mouseover('Stop Interaction', toolbar_mouse_event);\n",
       "    buttongrp.append(button);\n",
       "    var titlebar = this.root.find($('.ui-dialog-titlebar'));\n",
       "    titlebar.prepend(buttongrp);\n",
       "}\n",
       "\n",
       "mpl.figure.prototype._root_extra_style = function(el){\n",
       "    var fig = this\n",
       "    el.on(\"remove\", function(){\n",
       "\tfig.close_ws(fig, {});\n",
       "    });\n",
       "}\n",
       "\n",
       "mpl.figure.prototype._canvas_extra_style = function(el){\n",
       "    // this is important to make the div 'focusable\n",
       "    el.attr('tabindex', 0)\n",
       "    // reach out to IPython and tell the keyboard manager to turn it's self\n",
       "    // off when our div gets focus\n",
       "\n",
       "    // location in version 3\n",
       "    if (IPython.notebook.keyboard_manager) {\n",
       "        IPython.notebook.keyboard_manager.register_events(el);\n",
       "    }\n",
       "    else {\n",
       "        // location in version 2\n",
       "        IPython.keyboard_manager.register_events(el);\n",
       "    }\n",
       "\n",
       "}\n",
       "\n",
       "mpl.figure.prototype._key_event_extra = function(event, name) {\n",
       "    var manager = IPython.notebook.keyboard_manager;\n",
       "    if (!manager)\n",
       "        manager = IPython.keyboard_manager;\n",
       "\n",
       "    // Check for shift+enter\n",
       "    if (event.shiftKey && event.which == 13) {\n",
       "        this.canvas_div.blur();\n",
       "        // select the cell after this one\n",
       "        var index = IPython.notebook.find_cell_index(this.cell_info[0]);\n",
       "        IPython.notebook.select(index + 1);\n",
       "    }\n",
       "}\n",
       "\n",
       "mpl.figure.prototype.handle_save = function(fig, msg) {\n",
       "    fig.ondownload(fig, null);\n",
       "}\n",
       "\n",
       "\n",
       "mpl.find_output_cell = function(html_output) {\n",
       "    // Return the cell and output element which can be found *uniquely* in the notebook.\n",
       "    // Note - this is a bit hacky, but it is done because the \"notebook_saving.Notebook\"\n",
       "    // IPython event is triggered only after the cells have been serialised, which for\n",
       "    // our purposes (turning an active figure into a static one), is too late.\n",
       "    var cells = IPython.notebook.get_cells();\n",
       "    var ncells = cells.length;\n",
       "    for (var i=0; i<ncells; i++) {\n",
       "        var cell = cells[i];\n",
       "        if (cell.cell_type === 'code'){\n",
       "            for (var j=0; j<cell.output_area.outputs.length; j++) {\n",
       "                var data = cell.output_area.outputs[j];\n",
       "                if (data.data) {\n",
       "                    // IPython >= 3 moved mimebundle to data attribute of output\n",
       "                    data = data.data;\n",
       "                }\n",
       "                if (data['text/html'] == html_output) {\n",
       "                    return [cell, data, j];\n",
       "                }\n",
       "            }\n",
       "        }\n",
       "    }\n",
       "}\n",
       "\n",
       "// Register the function which deals with the matplotlib target/channel.\n",
       "// The kernel may be null if the page has been refreshed.\n",
       "if (IPython.notebook.kernel != null) {\n",
       "    IPython.notebook.kernel.comm_manager.register_target('matplotlib', mpl.mpl_figure_comm);\n",
       "}\n"
      ],
      "text/plain": [
       "<IPython.core.display.Javascript object>"
      ]
     },
     "metadata": {},
     "output_type": "display_data"
    },
    {
     "data": {
      "text/html": [
       "<img src=\"data:image/png;base64,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\" width=\"515.1666666666667\">"
      ],
      "text/plain": [
       "<IPython.core.display.HTML object>"
      ]
     },
     "metadata": {},
     "output_type": "display_data"
    },
    {
     "data": {
      "application/vnd.jupyter.widget-view+json": {
       "model_id": "f39945d36eed4e40bfe503f8aa499b55",
       "version_major": 2,
       "version_minor": 0
      },
      "text/plain": [
       "RadioButtons(options=('10', '11', '22', '48'), value='10')"
      ]
     },
     "metadata": {},
     "output_type": "display_data"
    }
   ],
   "source": [
    "%matplotlib notebook\n",
    "plt.figure(\"Cálculo del área\")\n",
    "x=np.linspace(-10,10,100)\n",
    "plt.plot(x, 2*x-3,'red')\n",
    "plt.yscale('linear')\n",
    "plt.title('y=2x-3')\n",
    "plt.grid(True)\n",
    "plt.ylim(0,10)\n",
    "plt.xlim(0,10)\n",
    "plt.xlabel(\"eje x\")\n",
    "plt.ylabel(\"eje y\")\n",
    "plt.subplots_adjust(top=0.8, bottom=0.1, left=0.125, right=0.9, hspace=1, wspace=1)\n",
    "\n",
    "plt.show()\n",
    "\n",
    "a = widgets.RadioButtons(options=['10' , '11','22', '48']);\n",
    "a\n"
   ]
  },
  {
   "cell_type": "code",
   "execution_count": 22,
   "metadata": {},
   "outputs": [
    {
     "name": "stdout",
     "output_type": "stream",
     "text": [
      "Correcto\n"
     ]
    }
   ],
   "source": [
    "if (a.value == '10'):\n",
    "    print(\"Correcto\")\n",
    "else:\n",
    "    print(\"Recuerda que para calcular el área, debes usar la integral desde 3 al 5 de la función dada, con los pasos de resolución de integrales ya vistos: 1)Calcular la antiderivada de la función f(x) que es F(x), luego se evaluan los limites de la integral en la antiderivada, de la siguiente forma F(x)=F(b)-F(a) Intentalo denuevo\")"
   ]
  },
  {
   "cell_type": "markdown",
   "metadata": {},
   "source": [
    "- Verifiquemos qué sucede si cambiamos los valores de a y b en el mismo ejercicio:"
   ]
  },
  {
   "cell_type": "code",
   "execution_count": 10,
   "metadata": {},
   "outputs": [],
   "source": [
    "%matplotlib notebook\n",
    "import matplotlib.pyplot as plt\n",
    "from numpy import *\n",
    "\n",
    "import ipywidgets as widgets\n"
   ]
  },
  {
   "cell_type": "code",
   "execution_count": 11,
   "metadata": {},
   "outputs": [
    {
     "data": {
      "application/vnd.jupyter.widget-view+json": {
       "model_id": "10343873dd35453d8edb1d462922fba3",
       "version_major": 2,
       "version_minor": 0
      },
      "text/plain": [
       "FloatSlider(value=0.0, description='Valor de a', max=10.0, min=-10.0, readout_format='.1f')"
      ]
     },
     "metadata": {},
     "output_type": "display_data"
    }
   ],
   "source": [
    "z=widgets.FloatSlider(value=0, min=-10, max=10, step=0.1, readout_format='.1f', description='Valor de a');\n",
    "z"
   ]
  },
  {
   "cell_type": "code",
   "execution_count": 12,
   "metadata": {},
   "outputs": [
    {
     "data": {
      "application/vnd.jupyter.widget-view+json": {
       "model_id": "9aec4bcba6c14581b06ea33d8443d902",
       "version_major": 2,
       "version_minor": 0
      },
      "text/plain": [
       "FloatSlider(value=1.0, description='Valor de b', max=10.0, min=-10.0, readout_format='.1f')"
      ]
     },
     "metadata": {},
     "output_type": "display_data"
    }
   ],
   "source": [
    "zz = widgets.FloatSlider(value=1, min=-10, max=10, step=0.1, readout_format='.1f', description='Valor de b');\n",
    "zz"
   ]
  },
  {
   "cell_type": "code",
   "execution_count": 13,
   "metadata": {},
   "outputs": [
    {
     "data": {
      "application/javascript": [
       "/* Put everything inside the global mpl namespace */\n",
       "window.mpl = {};\n",
       "\n",
       "\n",
       "mpl.get_websocket_type = function() {\n",
       "    if (typeof(WebSocket) !== 'undefined') {\n",
       "        return WebSocket;\n",
       "    } else if (typeof(MozWebSocket) !== 'undefined') {\n",
       "        return MozWebSocket;\n",
       "    } else {\n",
       "        alert('Your browser does not have WebSocket support. ' +\n",
       "              'Please try Chrome, Safari or Firefox ≥ 6. ' +\n",
       "              'Firefox 4 and 5 are also supported but you ' +\n",
       "              'have to enable WebSockets in about:config.');\n",
       "    };\n",
       "}\n",
       "\n",
       "mpl.figure = function(figure_id, websocket, ondownload, parent_element) {\n",
       "    this.id = figure_id;\n",
       "\n",
       "    this.ws = websocket;\n",
       "\n",
       "    this.supports_binary = (this.ws.binaryType != undefined);\n",
       "\n",
       "    if (!this.supports_binary) {\n",
       "        var warnings = document.getElementById(\"mpl-warnings\");\n",
       "        if (warnings) {\n",
       "            warnings.style.display = 'block';\n",
       "            warnings.textContent = (\n",
       "                \"This browser does not support binary websocket messages. \" +\n",
       "                    \"Performance may be slow.\");\n",
       "        }\n",
       "    }\n",
       "\n",
       "    this.imageObj = new Image();\n",
       "\n",
       "    this.context = undefined;\n",
       "    this.message = undefined;\n",
       "    this.canvas = undefined;\n",
       "    this.rubberband_canvas = undefined;\n",
       "    this.rubberband_context = undefined;\n",
       "    this.format_dropdown = undefined;\n",
       "\n",
       "    this.image_mode = 'full';\n",
       "\n",
       "    this.root = $('<div/>');\n",
       "    this._root_extra_style(this.root)\n",
       "    this.root.attr('style', 'display: inline-block');\n",
       "\n",
       "    $(parent_element).append(this.root);\n",
       "\n",
       "    this._init_header(this);\n",
       "    this._init_canvas(this);\n",
       "    this._init_toolbar(this);\n",
       "\n",
       "    var fig = this;\n",
       "\n",
       "    this.waiting = false;\n",
       "\n",
       "    this.ws.onopen =  function () {\n",
       "            fig.send_message(\"supports_binary\", {value: fig.supports_binary});\n",
       "            fig.send_message(\"send_image_mode\", {});\n",
       "            if (mpl.ratio != 1) {\n",
       "                fig.send_message(\"set_dpi_ratio\", {'dpi_ratio': mpl.ratio});\n",
       "            }\n",
       "            fig.send_message(\"refresh\", {});\n",
       "        }\n",
       "\n",
       "    this.imageObj.onload = function() {\n",
       "            if (fig.image_mode == 'full') {\n",
       "                // Full images could contain transparency (where diff images\n",
       "                // almost always do), so we need to clear the canvas so that\n",
       "                // there is no ghosting.\n",
       "                fig.context.clearRect(0, 0, fig.canvas.width, fig.canvas.height);\n",
       "            }\n",
       "            fig.context.drawImage(fig.imageObj, 0, 0);\n",
       "        };\n",
       "\n",
       "    this.imageObj.onunload = function() {\n",
       "        fig.ws.close();\n",
       "    }\n",
       "\n",
       "    this.ws.onmessage = this._make_on_message_function(this);\n",
       "\n",
       "    this.ondownload = ondownload;\n",
       "}\n",
       "\n",
       "mpl.figure.prototype._init_header = function() {\n",
       "    var titlebar = $(\n",
       "        '<div class=\"ui-dialog-titlebar ui-widget-header ui-corner-all ' +\n",
       "        'ui-helper-clearfix\"/>');\n",
       "    var titletext = $(\n",
       "        '<div class=\"ui-dialog-title\" style=\"width: 100%; ' +\n",
       "        'text-align: center; padding: 3px;\"/>');\n",
       "    titlebar.append(titletext)\n",
       "    this.root.append(titlebar);\n",
       "    this.header = titletext[0];\n",
       "}\n",
       "\n",
       "\n",
       "\n",
       "mpl.figure.prototype._canvas_extra_style = function(canvas_div) {\n",
       "\n",
       "}\n",
       "\n",
       "\n",
       "mpl.figure.prototype._root_extra_style = function(canvas_div) {\n",
       "\n",
       "}\n",
       "\n",
       "mpl.figure.prototype._init_canvas = function() {\n",
       "    var fig = this;\n",
       "\n",
       "    var canvas_div = $('<div/>');\n",
       "\n",
       "    canvas_div.attr('style', 'position: relative; clear: both; outline: 0');\n",
       "\n",
       "    function canvas_keyboard_event(event) {\n",
       "        return fig.key_event(event, event['data']);\n",
       "    }\n",
       "\n",
       "    canvas_div.keydown('key_press', canvas_keyboard_event);\n",
       "    canvas_div.keyup('key_release', canvas_keyboard_event);\n",
       "    this.canvas_div = canvas_div\n",
       "    this._canvas_extra_style(canvas_div)\n",
       "    this.root.append(canvas_div);\n",
       "\n",
       "    var canvas = $('<canvas/>');\n",
       "    canvas.addClass('mpl-canvas');\n",
       "    canvas.attr('style', \"left: 0; top: 0; z-index: 0; outline: 0\")\n",
       "\n",
       "    this.canvas = canvas[0];\n",
       "    this.context = canvas[0].getContext(\"2d\");\n",
       "\n",
       "    var backingStore = this.context.backingStorePixelRatio ||\n",
       "\tthis.context.webkitBackingStorePixelRatio ||\n",
       "\tthis.context.mozBackingStorePixelRatio ||\n",
       "\tthis.context.msBackingStorePixelRatio ||\n",
       "\tthis.context.oBackingStorePixelRatio ||\n",
       "\tthis.context.backingStorePixelRatio || 1;\n",
       "\n",
       "    mpl.ratio = (window.devicePixelRatio || 1) / backingStore;\n",
       "\n",
       "    var rubberband = $('<canvas/>');\n",
       "    rubberband.attr('style', \"position: absolute; left: 0; top: 0; z-index: 1;\")\n",
       "\n",
       "    var pass_mouse_events = true;\n",
       "\n",
       "    canvas_div.resizable({\n",
       "        start: function(event, ui) {\n",
       "            pass_mouse_events = false;\n",
       "        },\n",
       "        resize: function(event, ui) {\n",
       "            fig.request_resize(ui.size.width, ui.size.height);\n",
       "        },\n",
       "        stop: function(event, ui) {\n",
       "            pass_mouse_events = true;\n",
       "            fig.request_resize(ui.size.width, ui.size.height);\n",
       "        },\n",
       "    });\n",
       "\n",
       "    function mouse_event_fn(event) {\n",
       "        if (pass_mouse_events)\n",
       "            return fig.mouse_event(event, event['data']);\n",
       "    }\n",
       "\n",
       "    rubberband.mousedown('button_press', mouse_event_fn);\n",
       "    rubberband.mouseup('button_release', mouse_event_fn);\n",
       "    // Throttle sequential mouse events to 1 every 20ms.\n",
       "    rubberband.mousemove('motion_notify', mouse_event_fn);\n",
       "\n",
       "    rubberband.mouseenter('figure_enter', mouse_event_fn);\n",
       "    rubberband.mouseleave('figure_leave', mouse_event_fn);\n",
       "\n",
       "    canvas_div.on(\"wheel\", function (event) {\n",
       "        event = event.originalEvent;\n",
       "        event['data'] = 'scroll'\n",
       "        if (event.deltaY < 0) {\n",
       "            event.step = 1;\n",
       "        } else {\n",
       "            event.step = -1;\n",
       "        }\n",
       "        mouse_event_fn(event);\n",
       "    });\n",
       "\n",
       "    canvas_div.append(canvas);\n",
       "    canvas_div.append(rubberband);\n",
       "\n",
       "    this.rubberband = rubberband;\n",
       "    this.rubberband_canvas = rubberband[0];\n",
       "    this.rubberband_context = rubberband[0].getContext(\"2d\");\n",
       "    this.rubberband_context.strokeStyle = \"#000000\";\n",
       "\n",
       "    this._resize_canvas = function(width, height) {\n",
       "        // Keep the size of the canvas, canvas container, and rubber band\n",
       "        // canvas in synch.\n",
       "        canvas_div.css('width', width)\n",
       "        canvas_div.css('height', height)\n",
       "\n",
       "        canvas.attr('width', width * mpl.ratio);\n",
       "        canvas.attr('height', height * mpl.ratio);\n",
       "        canvas.attr('style', 'width: ' + width + 'px; height: ' + height + 'px;');\n",
       "\n",
       "        rubberband.attr('width', width);\n",
       "        rubberband.attr('height', height);\n",
       "    }\n",
       "\n",
       "    // Set the figure to an initial 600x600px, this will subsequently be updated\n",
       "    // upon first draw.\n",
       "    this._resize_canvas(600, 600);\n",
       "\n",
       "    // Disable right mouse context menu.\n",
       "    $(this.rubberband_canvas).bind(\"contextmenu\",function(e){\n",
       "        return false;\n",
       "    });\n",
       "\n",
       "    function set_focus () {\n",
       "        canvas.focus();\n",
       "        canvas_div.focus();\n",
       "    }\n",
       "\n",
       "    window.setTimeout(set_focus, 100);\n",
       "}\n",
       "\n",
       "mpl.figure.prototype._init_toolbar = function() {\n",
       "    var fig = this;\n",
       "\n",
       "    var nav_element = $('<div/>');\n",
       "    nav_element.attr('style', 'width: 100%');\n",
       "    this.root.append(nav_element);\n",
       "\n",
       "    // Define a callback function for later on.\n",
       "    function toolbar_event(event) {\n",
       "        return fig.toolbar_button_onclick(event['data']);\n",
       "    }\n",
       "    function toolbar_mouse_event(event) {\n",
       "        return fig.toolbar_button_onmouseover(event['data']);\n",
       "    }\n",
       "\n",
       "    for(var toolbar_ind in mpl.toolbar_items) {\n",
       "        var name = mpl.toolbar_items[toolbar_ind][0];\n",
       "        var tooltip = mpl.toolbar_items[toolbar_ind][1];\n",
       "        var image = mpl.toolbar_items[toolbar_ind][2];\n",
       "        var method_name = mpl.toolbar_items[toolbar_ind][3];\n",
       "\n",
       "        if (!name) {\n",
       "            // put a spacer in here.\n",
       "            continue;\n",
       "        }\n",
       "        var button = $('<button/>');\n",
       "        button.addClass('ui-button ui-widget ui-state-default ui-corner-all ' +\n",
       "                        'ui-button-icon-only');\n",
       "        button.attr('role', 'button');\n",
       "        button.attr('aria-disabled', 'false');\n",
       "        button.click(method_name, toolbar_event);\n",
       "        button.mouseover(tooltip, toolbar_mouse_event);\n",
       "\n",
       "        var icon_img = $('<span/>');\n",
       "        icon_img.addClass('ui-button-icon-primary ui-icon');\n",
       "        icon_img.addClass(image);\n",
       "        icon_img.addClass('ui-corner-all');\n",
       "\n",
       "        var tooltip_span = $('<span/>');\n",
       "        tooltip_span.addClass('ui-button-text');\n",
       "        tooltip_span.html(tooltip);\n",
       "\n",
       "        button.append(icon_img);\n",
       "        button.append(tooltip_span);\n",
       "\n",
       "        nav_element.append(button);\n",
       "    }\n",
       "\n",
       "    var fmt_picker_span = $('<span/>');\n",
       "\n",
       "    var fmt_picker = $('<select/>');\n",
       "    fmt_picker.addClass('mpl-toolbar-option ui-widget ui-widget-content');\n",
       "    fmt_picker_span.append(fmt_picker);\n",
       "    nav_element.append(fmt_picker_span);\n",
       "    this.format_dropdown = fmt_picker[0];\n",
       "\n",
       "    for (var ind in mpl.extensions) {\n",
       "        var fmt = mpl.extensions[ind];\n",
       "        var option = $(\n",
       "            '<option/>', {selected: fmt === mpl.default_extension}).html(fmt);\n",
       "        fmt_picker.append(option);\n",
       "    }\n",
       "\n",
       "    // Add hover states to the ui-buttons\n",
       "    $( \".ui-button\" ).hover(\n",
       "        function() { $(this).addClass(\"ui-state-hover\");},\n",
       "        function() { $(this).removeClass(\"ui-state-hover\");}\n",
       "    );\n",
       "\n",
       "    var status_bar = $('<span class=\"mpl-message\"/>');\n",
       "    nav_element.append(status_bar);\n",
       "    this.message = status_bar[0];\n",
       "}\n",
       "\n",
       "mpl.figure.prototype.request_resize = function(x_pixels, y_pixels) {\n",
       "    // Request matplotlib to resize the figure. Matplotlib will then trigger a resize in the client,\n",
       "    // which will in turn request a refresh of the image.\n",
       "    this.send_message('resize', {'width': x_pixels, 'height': y_pixels});\n",
       "}\n",
       "\n",
       "mpl.figure.prototype.send_message = function(type, properties) {\n",
       "    properties['type'] = type;\n",
       "    properties['figure_id'] = this.id;\n",
       "    this.ws.send(JSON.stringify(properties));\n",
       "}\n",
       "\n",
       "mpl.figure.prototype.send_draw_message = function() {\n",
       "    if (!this.waiting) {\n",
       "        this.waiting = true;\n",
       "        this.ws.send(JSON.stringify({type: \"draw\", figure_id: this.id}));\n",
       "    }\n",
       "}\n",
       "\n",
       "\n",
       "mpl.figure.prototype.handle_save = function(fig, msg) {\n",
       "    var format_dropdown = fig.format_dropdown;\n",
       "    var format = format_dropdown.options[format_dropdown.selectedIndex].value;\n",
       "    fig.ondownload(fig, format);\n",
       "}\n",
       "\n",
       "\n",
       "mpl.figure.prototype.handle_resize = function(fig, msg) {\n",
       "    var size = msg['size'];\n",
       "    if (size[0] != fig.canvas.width || size[1] != fig.canvas.height) {\n",
       "        fig._resize_canvas(size[0], size[1]);\n",
       "        fig.send_message(\"refresh\", {});\n",
       "    };\n",
       "}\n",
       "\n",
       "mpl.figure.prototype.handle_rubberband = function(fig, msg) {\n",
       "    var x0 = msg['x0'] / mpl.ratio;\n",
       "    var y0 = (fig.canvas.height - msg['y0']) / mpl.ratio;\n",
       "    var x1 = msg['x1'] / mpl.ratio;\n",
       "    var y1 = (fig.canvas.height - msg['y1']) / mpl.ratio;\n",
       "    x0 = Math.floor(x0) + 0.5;\n",
       "    y0 = Math.floor(y0) + 0.5;\n",
       "    x1 = Math.floor(x1) + 0.5;\n",
       "    y1 = Math.floor(y1) + 0.5;\n",
       "    var min_x = Math.min(x0, x1);\n",
       "    var min_y = Math.min(y0, y1);\n",
       "    var width = Math.abs(x1 - x0);\n",
       "    var height = Math.abs(y1 - y0);\n",
       "\n",
       "    fig.rubberband_context.clearRect(\n",
       "        0, 0, fig.canvas.width / mpl.ratio, fig.canvas.height / mpl.ratio);\n",
       "\n",
       "    fig.rubberband_context.strokeRect(min_x, min_y, width, height);\n",
       "}\n",
       "\n",
       "mpl.figure.prototype.handle_figure_label = function(fig, msg) {\n",
       "    // Updates the figure title.\n",
       "    fig.header.textContent = msg['label'];\n",
       "}\n",
       "\n",
       "mpl.figure.prototype.handle_cursor = function(fig, msg) {\n",
       "    var cursor = msg['cursor'];\n",
       "    switch(cursor)\n",
       "    {\n",
       "    case 0:\n",
       "        cursor = 'pointer';\n",
       "        break;\n",
       "    case 1:\n",
       "        cursor = 'default';\n",
       "        break;\n",
       "    case 2:\n",
       "        cursor = 'crosshair';\n",
       "        break;\n",
       "    case 3:\n",
       "        cursor = 'move';\n",
       "        break;\n",
       "    }\n",
       "    fig.rubberband_canvas.style.cursor = cursor;\n",
       "}\n",
       "\n",
       "mpl.figure.prototype.handle_message = function(fig, msg) {\n",
       "    fig.message.textContent = msg['message'];\n",
       "}\n",
       "\n",
       "mpl.figure.prototype.handle_draw = function(fig, msg) {\n",
       "    // Request the server to send over a new figure.\n",
       "    fig.send_draw_message();\n",
       "}\n",
       "\n",
       "mpl.figure.prototype.handle_image_mode = function(fig, msg) {\n",
       "    fig.image_mode = msg['mode'];\n",
       "}\n",
       "\n",
       "mpl.figure.prototype.updated_canvas_event = function() {\n",
       "    // Called whenever the canvas gets updated.\n",
       "    this.send_message(\"ack\", {});\n",
       "}\n",
       "\n",
       "// A function to construct a web socket function for onmessage handling.\n",
       "// Called in the figure constructor.\n",
       "mpl.figure.prototype._make_on_message_function = function(fig) {\n",
       "    return function socket_on_message(evt) {\n",
       "        if (evt.data instanceof Blob) {\n",
       "            /* FIXME: We get \"Resource interpreted as Image but\n",
       "             * transferred with MIME type text/plain:\" errors on\n",
       "             * Chrome.  But how to set the MIME type?  It doesn't seem\n",
       "             * to be part of the websocket stream */\n",
       "            evt.data.type = \"image/png\";\n",
       "\n",
       "            /* Free the memory for the previous frames */\n",
       "            if (fig.imageObj.src) {\n",
       "                (window.URL || window.webkitURL).revokeObjectURL(\n",
       "                    fig.imageObj.src);\n",
       "            }\n",
       "\n",
       "            fig.imageObj.src = (window.URL || window.webkitURL).createObjectURL(\n",
       "                evt.data);\n",
       "            fig.updated_canvas_event();\n",
       "            fig.waiting = false;\n",
       "            return;\n",
       "        }\n",
       "        else if (typeof evt.data === 'string' && evt.data.slice(0, 21) == \"data:image/png;base64\") {\n",
       "            fig.imageObj.src = evt.data;\n",
       "            fig.updated_canvas_event();\n",
       "            fig.waiting = false;\n",
       "            return;\n",
       "        }\n",
       "\n",
       "        var msg = JSON.parse(evt.data);\n",
       "        var msg_type = msg['type'];\n",
       "\n",
       "        // Call the  \"handle_{type}\" callback, which takes\n",
       "        // the figure and JSON message as its only arguments.\n",
       "        try {\n",
       "            var callback = fig[\"handle_\" + msg_type];\n",
       "        } catch (e) {\n",
       "            console.log(\"No handler for the '\" + msg_type + \"' message type: \", msg);\n",
       "            return;\n",
       "        }\n",
       "\n",
       "        if (callback) {\n",
       "            try {\n",
       "                // console.log(\"Handling '\" + msg_type + \"' message: \", msg);\n",
       "                callback(fig, msg);\n",
       "            } catch (e) {\n",
       "                console.log(\"Exception inside the 'handler_\" + msg_type + \"' callback:\", e, e.stack, msg);\n",
       "            }\n",
       "        }\n",
       "    };\n",
       "}\n",
       "\n",
       "// from http://stackoverflow.com/questions/1114465/getting-mouse-location-in-canvas\n",
       "mpl.findpos = function(e) {\n",
       "    //this section is from http://www.quirksmode.org/js/events_properties.html\n",
       "    var targ;\n",
       "    if (!e)\n",
       "        e = window.event;\n",
       "    if (e.target)\n",
       "        targ = e.target;\n",
       "    else if (e.srcElement)\n",
       "        targ = e.srcElement;\n",
       "    if (targ.nodeType == 3) // defeat Safari bug\n",
       "        targ = targ.parentNode;\n",
       "\n",
       "    // jQuery normalizes the pageX and pageY\n",
       "    // pageX,Y are the mouse positions relative to the document\n",
       "    // offset() returns the position of the element relative to the document\n",
       "    var x = e.pageX - $(targ).offset().left;\n",
       "    var y = e.pageY - $(targ).offset().top;\n",
       "\n",
       "    return {\"x\": x, \"y\": y};\n",
       "};\n",
       "\n",
       "/*\n",
       " * return a copy of an object with only non-object keys\n",
       " * we need this to avoid circular references\n",
       " * http://stackoverflow.com/a/24161582/3208463\n",
       " */\n",
       "function simpleKeys (original) {\n",
       "  return Object.keys(original).reduce(function (obj, key) {\n",
       "    if (typeof original[key] !== 'object')\n",
       "        obj[key] = original[key]\n",
       "    return obj;\n",
       "  }, {});\n",
       "}\n",
       "\n",
       "mpl.figure.prototype.mouse_event = function(event, name) {\n",
       "    var canvas_pos = mpl.findpos(event)\n",
       "\n",
       "    if (name === 'button_press')\n",
       "    {\n",
       "        this.canvas.focus();\n",
       "        this.canvas_div.focus();\n",
       "    }\n",
       "\n",
       "    var x = canvas_pos.x * mpl.ratio;\n",
       "    var y = canvas_pos.y * mpl.ratio;\n",
       "\n",
       "    this.send_message(name, {x: x, y: y, button: event.button,\n",
       "                             step: event.step,\n",
       "                             guiEvent: simpleKeys(event)});\n",
       "\n",
       "    /* This prevents the web browser from automatically changing to\n",
       "     * the text insertion cursor when the button is pressed.  We want\n",
       "     * to control all of the cursor setting manually through the\n",
       "     * 'cursor' event from matplotlib */\n",
       "    event.preventDefault();\n",
       "    return false;\n",
       "}\n",
       "\n",
       "mpl.figure.prototype._key_event_extra = function(event, name) {\n",
       "    // Handle any extra behaviour associated with a key event\n",
       "}\n",
       "\n",
       "mpl.figure.prototype.key_event = function(event, name) {\n",
       "\n",
       "    // Prevent repeat events\n",
       "    if (name == 'key_press')\n",
       "    {\n",
       "        if (event.which === this._key)\n",
       "            return;\n",
       "        else\n",
       "            this._key = event.which;\n",
       "    }\n",
       "    if (name == 'key_release')\n",
       "        this._key = null;\n",
       "\n",
       "    var value = '';\n",
       "    if (event.ctrlKey && event.which != 17)\n",
       "        value += \"ctrl+\";\n",
       "    if (event.altKey && event.which != 18)\n",
       "        value += \"alt+\";\n",
       "    if (event.shiftKey && event.which != 16)\n",
       "        value += \"shift+\";\n",
       "\n",
       "    value += 'k';\n",
       "    value += event.which.toString();\n",
       "\n",
       "    this._key_event_extra(event, name);\n",
       "\n",
       "    this.send_message(name, {key: value,\n",
       "                             guiEvent: simpleKeys(event)});\n",
       "    return false;\n",
       "}\n",
       "\n",
       "mpl.figure.prototype.toolbar_button_onclick = function(name) {\n",
       "    if (name == 'download') {\n",
       "        this.handle_save(this, null);\n",
       "    } else {\n",
       "        this.send_message(\"toolbar_button\", {name: name});\n",
       "    }\n",
       "};\n",
       "\n",
       "mpl.figure.prototype.toolbar_button_onmouseover = function(tooltip) {\n",
       "    this.message.textContent = tooltip;\n",
       "};\n",
       "mpl.toolbar_items = [[\"Home\", \"Reset original view\", \"fa fa-home icon-home\", \"home\"], [\"Back\", \"Back to previous view\", \"fa fa-arrow-left icon-arrow-left\", \"back\"], [\"Forward\", \"Forward to next view\", \"fa fa-arrow-right icon-arrow-right\", \"forward\"], [\"\", \"\", \"\", \"\"], [\"Pan\", \"Pan axes with left mouse, zoom with right\", \"fa fa-arrows icon-move\", \"pan\"], [\"Zoom\", \"Zoom to rectangle\", \"fa fa-square-o icon-check-empty\", \"zoom\"], [\"\", \"\", \"\", \"\"], [\"Download\", \"Download plot\", \"fa fa-floppy-o icon-save\", \"download\"]];\n",
       "\n",
       "mpl.extensions = [\"eps\", \"jpeg\", \"pdf\", \"png\", \"ps\", \"raw\", \"svg\", \"tif\"];\n",
       "\n",
       "mpl.default_extension = \"png\";var comm_websocket_adapter = function(comm) {\n",
       "    // Create a \"websocket\"-like object which calls the given IPython comm\n",
       "    // object with the appropriate methods. Currently this is a non binary\n",
       "    // socket, so there is still some room for performance tuning.\n",
       "    var ws = {};\n",
       "\n",
       "    ws.close = function() {\n",
       "        comm.close()\n",
       "    };\n",
       "    ws.send = function(m) {\n",
       "        //console.log('sending', m);\n",
       "        comm.send(m);\n",
       "    };\n",
       "    // Register the callback with on_msg.\n",
       "    comm.on_msg(function(msg) {\n",
       "        //console.log('receiving', msg['content']['data'], msg);\n",
       "        // Pass the mpl event to the overridden (by mpl) onmessage function.\n",
       "        ws.onmessage(msg['content']['data'])\n",
       "    });\n",
       "    return ws;\n",
       "}\n",
       "\n",
       "mpl.mpl_figure_comm = function(comm, msg) {\n",
       "    // This is the function which gets called when the mpl process\n",
       "    // starts-up an IPython Comm through the \"matplotlib\" channel.\n",
       "\n",
       "    var id = msg.content.data.id;\n",
       "    // Get hold of the div created by the display call when the Comm\n",
       "    // socket was opened in Python.\n",
       "    var element = $(\"#\" + id);\n",
       "    var ws_proxy = comm_websocket_adapter(comm)\n",
       "\n",
       "    function ondownload(figure, format) {\n",
       "        window.open(figure.imageObj.src);\n",
       "    }\n",
       "\n",
       "    var fig = new mpl.figure(id, ws_proxy,\n",
       "                           ondownload,\n",
       "                           element.get(0));\n",
       "\n",
       "    // Call onopen now - mpl needs it, as it is assuming we've passed it a real\n",
       "    // web socket which is closed, not our websocket->open comm proxy.\n",
       "    ws_proxy.onopen();\n",
       "\n",
       "    fig.parent_element = element.get(0);\n",
       "    fig.cell_info = mpl.find_output_cell(\"<div id='\" + id + \"'></div>\");\n",
       "    if (!fig.cell_info) {\n",
       "        console.error(\"Failed to find cell for figure\", id, fig);\n",
       "        return;\n",
       "    }\n",
       "\n",
       "    var output_index = fig.cell_info[2]\n",
       "    var cell = fig.cell_info[0];\n",
       "\n",
       "};\n",
       "\n",
       "mpl.figure.prototype.handle_close = function(fig, msg) {\n",
       "    var width = fig.canvas.width/mpl.ratio\n",
       "    fig.root.unbind('remove')\n",
       "\n",
       "    // Update the output cell to use the data from the current canvas.\n",
       "    fig.push_to_output();\n",
       "    var dataURL = fig.canvas.toDataURL();\n",
       "    // Re-enable the keyboard manager in IPython - without this line, in FF,\n",
       "    // the notebook keyboard shortcuts fail.\n",
       "    IPython.keyboard_manager.enable()\n",
       "    $(fig.parent_element).html('<img src=\"' + dataURL + '\" width=\"' + width + '\">');\n",
       "    fig.close_ws(fig, msg);\n",
       "}\n",
       "\n",
       "mpl.figure.prototype.close_ws = function(fig, msg){\n",
       "    fig.send_message('closing', msg);\n",
       "    // fig.ws.close()\n",
       "}\n",
       "\n",
       "mpl.figure.prototype.push_to_output = function(remove_interactive) {\n",
       "    // Turn the data on the canvas into data in the output cell.\n",
       "    var width = this.canvas.width/mpl.ratio\n",
       "    var dataURL = this.canvas.toDataURL();\n",
       "    this.cell_info[1]['text/html'] = '<img src=\"' + dataURL + '\" width=\"' + width + '\">';\n",
       "}\n",
       "\n",
       "mpl.figure.prototype.updated_canvas_event = function() {\n",
       "    // Tell IPython that the notebook contents must change.\n",
       "    IPython.notebook.set_dirty(true);\n",
       "    this.send_message(\"ack\", {});\n",
       "    var fig = this;\n",
       "    // Wait a second, then push the new image to the DOM so\n",
       "    // that it is saved nicely (might be nice to debounce this).\n",
       "    setTimeout(function () { fig.push_to_output() }, 1000);\n",
       "}\n",
       "\n",
       "mpl.figure.prototype._init_toolbar = function() {\n",
       "    var fig = this;\n",
       "\n",
       "    var nav_element = $('<div/>');\n",
       "    nav_element.attr('style', 'width: 100%');\n",
       "    this.root.append(nav_element);\n",
       "\n",
       "    // Define a callback function for later on.\n",
       "    function toolbar_event(event) {\n",
       "        return fig.toolbar_button_onclick(event['data']);\n",
       "    }\n",
       "    function toolbar_mouse_event(event) {\n",
       "        return fig.toolbar_button_onmouseover(event['data']);\n",
       "    }\n",
       "\n",
       "    for(var toolbar_ind in mpl.toolbar_items){\n",
       "        var name = mpl.toolbar_items[toolbar_ind][0];\n",
       "        var tooltip = mpl.toolbar_items[toolbar_ind][1];\n",
       "        var image = mpl.toolbar_items[toolbar_ind][2];\n",
       "        var method_name = mpl.toolbar_items[toolbar_ind][3];\n",
       "\n",
       "        if (!name) { continue; };\n",
       "\n",
       "        var button = $('<button class=\"btn btn-default\" href=\"#\" title=\"' + name + '\"><i class=\"fa ' + image + ' fa-lg\"></i></button>');\n",
       "        button.click(method_name, toolbar_event);\n",
       "        button.mouseover(tooltip, toolbar_mouse_event);\n",
       "        nav_element.append(button);\n",
       "    }\n",
       "\n",
       "    // Add the status bar.\n",
       "    var status_bar = $('<span class=\"mpl-message\" style=\"text-align:right; float: right;\"/>');\n",
       "    nav_element.append(status_bar);\n",
       "    this.message = status_bar[0];\n",
       "\n",
       "    // Add the close button to the window.\n",
       "    var buttongrp = $('<div class=\"btn-group inline pull-right\"></div>');\n",
       "    var button = $('<button class=\"btn btn-mini btn-primary\" href=\"#\" title=\"Stop Interaction\"><i class=\"fa fa-power-off icon-remove icon-large\"></i></button>');\n",
       "    button.click(function (evt) { fig.handle_close(fig, {}); } );\n",
       "    button.mouseover('Stop Interaction', toolbar_mouse_event);\n",
       "    buttongrp.append(button);\n",
       "    var titlebar = this.root.find($('.ui-dialog-titlebar'));\n",
       "    titlebar.prepend(buttongrp);\n",
       "}\n",
       "\n",
       "mpl.figure.prototype._root_extra_style = function(el){\n",
       "    var fig = this\n",
       "    el.on(\"remove\", function(){\n",
       "\tfig.close_ws(fig, {});\n",
       "    });\n",
       "}\n",
       "\n",
       "mpl.figure.prototype._canvas_extra_style = function(el){\n",
       "    // this is important to make the div 'focusable\n",
       "    el.attr('tabindex', 0)\n",
       "    // reach out to IPython and tell the keyboard manager to turn it's self\n",
       "    // off when our div gets focus\n",
       "\n",
       "    // location in version 3\n",
       "    if (IPython.notebook.keyboard_manager) {\n",
       "        IPython.notebook.keyboard_manager.register_events(el);\n",
       "    }\n",
       "    else {\n",
       "        // location in version 2\n",
       "        IPython.keyboard_manager.register_events(el);\n",
       "    }\n",
       "\n",
       "}\n",
       "\n",
       "mpl.figure.prototype._key_event_extra = function(event, name) {\n",
       "    var manager = IPython.notebook.keyboard_manager;\n",
       "    if (!manager)\n",
       "        manager = IPython.keyboard_manager;\n",
       "\n",
       "    // Check for shift+enter\n",
       "    if (event.shiftKey && event.which == 13) {\n",
       "        this.canvas_div.blur();\n",
       "        // select the cell after this one\n",
       "        var index = IPython.notebook.find_cell_index(this.cell_info[0]);\n",
       "        IPython.notebook.select(index + 1);\n",
       "    }\n",
       "}\n",
       "\n",
       "mpl.figure.prototype.handle_save = function(fig, msg) {\n",
       "    fig.ondownload(fig, null);\n",
       "}\n",
       "\n",
       "\n",
       "mpl.find_output_cell = function(html_output) {\n",
       "    // Return the cell and output element which can be found *uniquely* in the notebook.\n",
       "    // Note - this is a bit hacky, but it is done because the \"notebook_saving.Notebook\"\n",
       "    // IPython event is triggered only after the cells have been serialised, which for\n",
       "    // our purposes (turning an active figure into a static one), is too late.\n",
       "    var cells = IPython.notebook.get_cells();\n",
       "    var ncells = cells.length;\n",
       "    for (var i=0; i<ncells; i++) {\n",
       "        var cell = cells[i];\n",
       "        if (cell.cell_type === 'code'){\n",
       "            for (var j=0; j<cell.output_area.outputs.length; j++) {\n",
       "                var data = cell.output_area.outputs[j];\n",
       "                if (data.data) {\n",
       "                    // IPython >= 3 moved mimebundle to data attribute of output\n",
       "                    data = data.data;\n",
       "                }\n",
       "                if (data['text/html'] == html_output) {\n",
       "                    return [cell, data, j];\n",
       "                }\n",
       "            }\n",
       "        }\n",
       "    }\n",
       "}\n",
       "\n",
       "// Register the function which deals with the matplotlib target/channel.\n",
       "// The kernel may be null if the page has been refreshed.\n",
       "if (IPython.notebook.kernel != null) {\n",
       "    IPython.notebook.kernel.comm_manager.register_target('matplotlib', mpl.mpl_figure_comm);\n",
       "}\n"
      ],
      "text/plain": [
       "<IPython.core.display.Javascript object>"
      ]
     },
     "metadata": {},
     "output_type": "display_data"
    },
    {
     "data": {
      "text/html": [
       "<img src=\"data:image/png;base64,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\" width=\"592.1666666666667\">"
      ],
      "text/plain": [
       "<IPython.core.display.HTML object>"
      ]
     },
     "metadata": {},
     "output_type": "display_data"
    }
   ],
   "source": [
    "%matplotlib notebook\n",
    "import matplotlib.pyplot as plt\n",
    "\n",
    "fig = plt.figure(num='Gráfico de y=2x-3')\n",
    "ax= fig.add_subplot(111,facecolor='#d6fefe')\n",
    "x = linspace (-20,20,100)\n",
    "y = plt.plot(x,2*x-3,lw=5)\n",
    "plt.ylim(-10,10)\n",
    "plt.xlim(-10,10)\n",
    "plt.xlabel(\"eje x\")\n",
    "plt.ylabel(\"eje y\")\n",
    "\n",
    "plt.fill_between(x,2*x-3, color=\"#8bf060\")\n",
    "plt.ylim(-10,10)\n",
    "plt.xlim(z.value,zz.value)\n",
    "plt.plot(x, x*0,\"black\")\n",
    "plt.plot(x*0, x,\"black\")\n",
    "\n",
    "plt.axis()\n",
    "plt.grid()\n",
    "plt.show()\n",
    "\n",
    "\n",
    "\n"
   ]
  },
  {
   "cell_type": "markdown",
   "metadata": {},
   "source": [
    "El sector en verde es el área que se pide calcular. Si varías los valores de a y b en una integral definida, estarás variando el tamaño del área a calcular."
   ]
  },
  {
   "cell_type": "markdown",
   "metadata": {},
   "source": [
    "Valor de la integral $\\int_a^b (2x-3) dx $"
   ]
  },
  {
   "cell_type": "code",
   "execution_count": 28,
   "metadata": {},
   "outputs": [
    {
     "name": "stdout",
     "output_type": "stream",
     "text": [
      "con a=  0.0\n",
      "    b=  2.0\n"
     ]
    }
   ],
   "source": [
    "print('con a= ',z.value) \n",
    "print('    b= ',zz.value)"
   ]
  },
  {
   "cell_type": "code",
   "execution_count": 29,
   "metadata": {},
   "outputs": [
    {
     "name": "stdout",
     "output_type": "stream",
     "text": [
      "El resultado de la integral definida anterior es:  -2.00000000000000\n"
     ]
    }
   ],
   "source": [
    "import sympy as sp \n",
    "x = sp.Symbol('x') \n",
    "y=2*x-3 \n",
    "inte= sp.integrate(y,(x,z.value,zz.value))\n",
    "inte2= round(inte,1)\n",
    "print (\"El resultado de la integral definida anterior es: \",inte2)"
   ]
  },
  {
   "cell_type": "markdown",
   "metadata": {},
   "source": [
    " ### D)\n",
    " Resuelve el siguiente ejercicio:  "
   ]
  },
  {
   "cell_type": "markdown",
   "metadata": {},
   "source": [
    "* Se pide pintar una pared que se encuentra por debajo de una escalera, pero para saber el total de pintura a utilizar, se debe conocer el área a pintar.  \n",
    " - Se midió el alto de la escalera que es 2,5[m] y la base de la pared de 2[m]\n",
    " - La escalera moldea una función lineal en la pared a pintar de la forma $ y(x)=mx+b $ con m= pendiente y b= intercepto con el eje Y\n",
    " - Si un tarro de pintura de 500 [ml] alcanza para pintar $ 2m^2 $ de la pared ¿Qué cantidad de tarro(s) de pintura se debe comprar para cubrir toda el área?"
   ]
  },
  {
   "cell_type": "markdown",
   "metadata": {},
   "source": [
    "<img src=\"escaleraa.JPG\" alt=\"escaleraa\" width= \"350\"/>"
   ]
  },
  {
   "cell_type": "markdown",
   "metadata": {},
   "source": [
    "1) Debes encontrar la función de la recta que genera la escalera en la pared.  \n",
    "2) Luego, calculas la integral y la defines en el intervalo que haz considerado, puedes tomar como el origen de tu gráfica el punto de inicio de la escala.  \n",
    "3) Si quieres complementar tus cálculos, puedes graficar la función $ y(x)=mx+b $ a continuación, puedes mover el gráfico para que se adecue a lo solicitado."
   ]
  },
  {
   "cell_type": "code",
   "execution_count": 14,
   "metadata": {
    "scrolled": true
   },
   "outputs": [
    {
     "data": {
      "application/javascript": [
       "/* Put everything inside the global mpl namespace */\n",
       "window.mpl = {};\n",
       "\n",
       "\n",
       "mpl.get_websocket_type = function() {\n",
       "    if (typeof(WebSocket) !== 'undefined') {\n",
       "        return WebSocket;\n",
       "    } else if (typeof(MozWebSocket) !== 'undefined') {\n",
       "        return MozWebSocket;\n",
       "    } else {\n",
       "        alert('Your browser does not have WebSocket support. ' +\n",
       "              'Please try Chrome, Safari or Firefox ≥ 6. ' +\n",
       "              'Firefox 4 and 5 are also supported but you ' +\n",
       "              'have to enable WebSockets in about:config.');\n",
       "    };\n",
       "}\n",
       "\n",
       "mpl.figure = function(figure_id, websocket, ondownload, parent_element) {\n",
       "    this.id = figure_id;\n",
       "\n",
       "    this.ws = websocket;\n",
       "\n",
       "    this.supports_binary = (this.ws.binaryType != undefined);\n",
       "\n",
       "    if (!this.supports_binary) {\n",
       "        var warnings = document.getElementById(\"mpl-warnings\");\n",
       "        if (warnings) {\n",
       "            warnings.style.display = 'block';\n",
       "            warnings.textContent = (\n",
       "                \"This browser does not support binary websocket messages. \" +\n",
       "                    \"Performance may be slow.\");\n",
       "        }\n",
       "    }\n",
       "\n",
       "    this.imageObj = new Image();\n",
       "\n",
       "    this.context = undefined;\n",
       "    this.message = undefined;\n",
       "    this.canvas = undefined;\n",
       "    this.rubberband_canvas = undefined;\n",
       "    this.rubberband_context = undefined;\n",
       "    this.format_dropdown = undefined;\n",
       "\n",
       "    this.image_mode = 'full';\n",
       "\n",
       "    this.root = $('<div/>');\n",
       "    this._root_extra_style(this.root)\n",
       "    this.root.attr('style', 'display: inline-block');\n",
       "\n",
       "    $(parent_element).append(this.root);\n",
       "\n",
       "    this._init_header(this);\n",
       "    this._init_canvas(this);\n",
       "    this._init_toolbar(this);\n",
       "\n",
       "    var fig = this;\n",
       "\n",
       "    this.waiting = false;\n",
       "\n",
       "    this.ws.onopen =  function () {\n",
       "            fig.send_message(\"supports_binary\", {value: fig.supports_binary});\n",
       "            fig.send_message(\"send_image_mode\", {});\n",
       "            if (mpl.ratio != 1) {\n",
       "                fig.send_message(\"set_dpi_ratio\", {'dpi_ratio': mpl.ratio});\n",
       "            }\n",
       "            fig.send_message(\"refresh\", {});\n",
       "        }\n",
       "\n",
       "    this.imageObj.onload = function() {\n",
       "            if (fig.image_mode == 'full') {\n",
       "                // Full images could contain transparency (where diff images\n",
       "                // almost always do), so we need to clear the canvas so that\n",
       "                // there is no ghosting.\n",
       "                fig.context.clearRect(0, 0, fig.canvas.width, fig.canvas.height);\n",
       "            }\n",
       "            fig.context.drawImage(fig.imageObj, 0, 0);\n",
       "        };\n",
       "\n",
       "    this.imageObj.onunload = function() {\n",
       "        fig.ws.close();\n",
       "    }\n",
       "\n",
       "    this.ws.onmessage = this._make_on_message_function(this);\n",
       "\n",
       "    this.ondownload = ondownload;\n",
       "}\n",
       "\n",
       "mpl.figure.prototype._init_header = function() {\n",
       "    var titlebar = $(\n",
       "        '<div class=\"ui-dialog-titlebar ui-widget-header ui-corner-all ' +\n",
       "        'ui-helper-clearfix\"/>');\n",
       "    var titletext = $(\n",
       "        '<div class=\"ui-dialog-title\" style=\"width: 100%; ' +\n",
       "        'text-align: center; padding: 3px;\"/>');\n",
       "    titlebar.append(titletext)\n",
       "    this.root.append(titlebar);\n",
       "    this.header = titletext[0];\n",
       "}\n",
       "\n",
       "\n",
       "\n",
       "mpl.figure.prototype._canvas_extra_style = function(canvas_div) {\n",
       "\n",
       "}\n",
       "\n",
       "\n",
       "mpl.figure.prototype._root_extra_style = function(canvas_div) {\n",
       "\n",
       "}\n",
       "\n",
       "mpl.figure.prototype._init_canvas = function() {\n",
       "    var fig = this;\n",
       "\n",
       "    var canvas_div = $('<div/>');\n",
       "\n",
       "    canvas_div.attr('style', 'position: relative; clear: both; outline: 0');\n",
       "\n",
       "    function canvas_keyboard_event(event) {\n",
       "        return fig.key_event(event, event['data']);\n",
       "    }\n",
       "\n",
       "    canvas_div.keydown('key_press', canvas_keyboard_event);\n",
       "    canvas_div.keyup('key_release', canvas_keyboard_event);\n",
       "    this.canvas_div = canvas_div\n",
       "    this._canvas_extra_style(canvas_div)\n",
       "    this.root.append(canvas_div);\n",
       "\n",
       "    var canvas = $('<canvas/>');\n",
       "    canvas.addClass('mpl-canvas');\n",
       "    canvas.attr('style', \"left: 0; top: 0; z-index: 0; outline: 0\")\n",
       "\n",
       "    this.canvas = canvas[0];\n",
       "    this.context = canvas[0].getContext(\"2d\");\n",
       "\n",
       "    var backingStore = this.context.backingStorePixelRatio ||\n",
       "\tthis.context.webkitBackingStorePixelRatio ||\n",
       "\tthis.context.mozBackingStorePixelRatio ||\n",
       "\tthis.context.msBackingStorePixelRatio ||\n",
       "\tthis.context.oBackingStorePixelRatio ||\n",
       "\tthis.context.backingStorePixelRatio || 1;\n",
       "\n",
       "    mpl.ratio = (window.devicePixelRatio || 1) / backingStore;\n",
       "\n",
       "    var rubberband = $('<canvas/>');\n",
       "    rubberband.attr('style', \"position: absolute; left: 0; top: 0; z-index: 1;\")\n",
       "\n",
       "    var pass_mouse_events = true;\n",
       "\n",
       "    canvas_div.resizable({\n",
       "        start: function(event, ui) {\n",
       "            pass_mouse_events = false;\n",
       "        },\n",
       "        resize: function(event, ui) {\n",
       "            fig.request_resize(ui.size.width, ui.size.height);\n",
       "        },\n",
       "        stop: function(event, ui) {\n",
       "            pass_mouse_events = true;\n",
       "            fig.request_resize(ui.size.width, ui.size.height);\n",
       "        },\n",
       "    });\n",
       "\n",
       "    function mouse_event_fn(event) {\n",
       "        if (pass_mouse_events)\n",
       "            return fig.mouse_event(event, event['data']);\n",
       "    }\n",
       "\n",
       "    rubberband.mousedown('button_press', mouse_event_fn);\n",
       "    rubberband.mouseup('button_release', mouse_event_fn);\n",
       "    // Throttle sequential mouse events to 1 every 20ms.\n",
       "    rubberband.mousemove('motion_notify', mouse_event_fn);\n",
       "\n",
       "    rubberband.mouseenter('figure_enter', mouse_event_fn);\n",
       "    rubberband.mouseleave('figure_leave', mouse_event_fn);\n",
       "\n",
       "    canvas_div.on(\"wheel\", function (event) {\n",
       "        event = event.originalEvent;\n",
       "        event['data'] = 'scroll'\n",
       "        if (event.deltaY < 0) {\n",
       "            event.step = 1;\n",
       "        } else {\n",
       "            event.step = -1;\n",
       "        }\n",
       "        mouse_event_fn(event);\n",
       "    });\n",
       "\n",
       "    canvas_div.append(canvas);\n",
       "    canvas_div.append(rubberband);\n",
       "\n",
       "    this.rubberband = rubberband;\n",
       "    this.rubberband_canvas = rubberband[0];\n",
       "    this.rubberband_context = rubberband[0].getContext(\"2d\");\n",
       "    this.rubberband_context.strokeStyle = \"#000000\";\n",
       "\n",
       "    this._resize_canvas = function(width, height) {\n",
       "        // Keep the size of the canvas, canvas container, and rubber band\n",
       "        // canvas in synch.\n",
       "        canvas_div.css('width', width)\n",
       "        canvas_div.css('height', height)\n",
       "\n",
       "        canvas.attr('width', width * mpl.ratio);\n",
       "        canvas.attr('height', height * mpl.ratio);\n",
       "        canvas.attr('style', 'width: ' + width + 'px; height: ' + height + 'px;');\n",
       "\n",
       "        rubberband.attr('width', width);\n",
       "        rubberband.attr('height', height);\n",
       "    }\n",
       "\n",
       "    // Set the figure to an initial 600x600px, this will subsequently be updated\n",
       "    // upon first draw.\n",
       "    this._resize_canvas(600, 600);\n",
       "\n",
       "    // Disable right mouse context menu.\n",
       "    $(this.rubberband_canvas).bind(\"contextmenu\",function(e){\n",
       "        return false;\n",
       "    });\n",
       "\n",
       "    function set_focus () {\n",
       "        canvas.focus();\n",
       "        canvas_div.focus();\n",
       "    }\n",
       "\n",
       "    window.setTimeout(set_focus, 100);\n",
       "}\n",
       "\n",
       "mpl.figure.prototype._init_toolbar = function() {\n",
       "    var fig = this;\n",
       "\n",
       "    var nav_element = $('<div/>');\n",
       "    nav_element.attr('style', 'width: 100%');\n",
       "    this.root.append(nav_element);\n",
       "\n",
       "    // Define a callback function for later on.\n",
       "    function toolbar_event(event) {\n",
       "        return fig.toolbar_button_onclick(event['data']);\n",
       "    }\n",
       "    function toolbar_mouse_event(event) {\n",
       "        return fig.toolbar_button_onmouseover(event['data']);\n",
       "    }\n",
       "\n",
       "    for(var toolbar_ind in mpl.toolbar_items) {\n",
       "        var name = mpl.toolbar_items[toolbar_ind][0];\n",
       "        var tooltip = mpl.toolbar_items[toolbar_ind][1];\n",
       "        var image = mpl.toolbar_items[toolbar_ind][2];\n",
       "        var method_name = mpl.toolbar_items[toolbar_ind][3];\n",
       "\n",
       "        if (!name) {\n",
       "            // put a spacer in here.\n",
       "            continue;\n",
       "        }\n",
       "        var button = $('<button/>');\n",
       "        button.addClass('ui-button ui-widget ui-state-default ui-corner-all ' +\n",
       "                        'ui-button-icon-only');\n",
       "        button.attr('role', 'button');\n",
       "        button.attr('aria-disabled', 'false');\n",
       "        button.click(method_name, toolbar_event);\n",
       "        button.mouseover(tooltip, toolbar_mouse_event);\n",
       "\n",
       "        var icon_img = $('<span/>');\n",
       "        icon_img.addClass('ui-button-icon-primary ui-icon');\n",
       "        icon_img.addClass(image);\n",
       "        icon_img.addClass('ui-corner-all');\n",
       "\n",
       "        var tooltip_span = $('<span/>');\n",
       "        tooltip_span.addClass('ui-button-text');\n",
       "        tooltip_span.html(tooltip);\n",
       "\n",
       "        button.append(icon_img);\n",
       "        button.append(tooltip_span);\n",
       "\n",
       "        nav_element.append(button);\n",
       "    }\n",
       "\n",
       "    var fmt_picker_span = $('<span/>');\n",
       "\n",
       "    var fmt_picker = $('<select/>');\n",
       "    fmt_picker.addClass('mpl-toolbar-option ui-widget ui-widget-content');\n",
       "    fmt_picker_span.append(fmt_picker);\n",
       "    nav_element.append(fmt_picker_span);\n",
       "    this.format_dropdown = fmt_picker[0];\n",
       "\n",
       "    for (var ind in mpl.extensions) {\n",
       "        var fmt = mpl.extensions[ind];\n",
       "        var option = $(\n",
       "            '<option/>', {selected: fmt === mpl.default_extension}).html(fmt);\n",
       "        fmt_picker.append(option);\n",
       "    }\n",
       "\n",
       "    // Add hover states to the ui-buttons\n",
       "    $( \".ui-button\" ).hover(\n",
       "        function() { $(this).addClass(\"ui-state-hover\");},\n",
       "        function() { $(this).removeClass(\"ui-state-hover\");}\n",
       "    );\n",
       "\n",
       "    var status_bar = $('<span class=\"mpl-message\"/>');\n",
       "    nav_element.append(status_bar);\n",
       "    this.message = status_bar[0];\n",
       "}\n",
       "\n",
       "mpl.figure.prototype.request_resize = function(x_pixels, y_pixels) {\n",
       "    // Request matplotlib to resize the figure. Matplotlib will then trigger a resize in the client,\n",
       "    // which will in turn request a refresh of the image.\n",
       "    this.send_message('resize', {'width': x_pixels, 'height': y_pixels});\n",
       "}\n",
       "\n",
       "mpl.figure.prototype.send_message = function(type, properties) {\n",
       "    properties['type'] = type;\n",
       "    properties['figure_id'] = this.id;\n",
       "    this.ws.send(JSON.stringify(properties));\n",
       "}\n",
       "\n",
       "mpl.figure.prototype.send_draw_message = function() {\n",
       "    if (!this.waiting) {\n",
       "        this.waiting = true;\n",
       "        this.ws.send(JSON.stringify({type: \"draw\", figure_id: this.id}));\n",
       "    }\n",
       "}\n",
       "\n",
       "\n",
       "mpl.figure.prototype.handle_save = function(fig, msg) {\n",
       "    var format_dropdown = fig.format_dropdown;\n",
       "    var format = format_dropdown.options[format_dropdown.selectedIndex].value;\n",
       "    fig.ondownload(fig, format);\n",
       "}\n",
       "\n",
       "\n",
       "mpl.figure.prototype.handle_resize = function(fig, msg) {\n",
       "    var size = msg['size'];\n",
       "    if (size[0] != fig.canvas.width || size[1] != fig.canvas.height) {\n",
       "        fig._resize_canvas(size[0], size[1]);\n",
       "        fig.send_message(\"refresh\", {});\n",
       "    };\n",
       "}\n",
       "\n",
       "mpl.figure.prototype.handle_rubberband = function(fig, msg) {\n",
       "    var x0 = msg['x0'] / mpl.ratio;\n",
       "    var y0 = (fig.canvas.height - msg['y0']) / mpl.ratio;\n",
       "    var x1 = msg['x1'] / mpl.ratio;\n",
       "    var y1 = (fig.canvas.height - msg['y1']) / mpl.ratio;\n",
       "    x0 = Math.floor(x0) + 0.5;\n",
       "    y0 = Math.floor(y0) + 0.5;\n",
       "    x1 = Math.floor(x1) + 0.5;\n",
       "    y1 = Math.floor(y1) + 0.5;\n",
       "    var min_x = Math.min(x0, x1);\n",
       "    var min_y = Math.min(y0, y1);\n",
       "    var width = Math.abs(x1 - x0);\n",
       "    var height = Math.abs(y1 - y0);\n",
       "\n",
       "    fig.rubberband_context.clearRect(\n",
       "        0, 0, fig.canvas.width / mpl.ratio, fig.canvas.height / mpl.ratio);\n",
       "\n",
       "    fig.rubberband_context.strokeRect(min_x, min_y, width, height);\n",
       "}\n",
       "\n",
       "mpl.figure.prototype.handle_figure_label = function(fig, msg) {\n",
       "    // Updates the figure title.\n",
       "    fig.header.textContent = msg['label'];\n",
       "}\n",
       "\n",
       "mpl.figure.prototype.handle_cursor = function(fig, msg) {\n",
       "    var cursor = msg['cursor'];\n",
       "    switch(cursor)\n",
       "    {\n",
       "    case 0:\n",
       "        cursor = 'pointer';\n",
       "        break;\n",
       "    case 1:\n",
       "        cursor = 'default';\n",
       "        break;\n",
       "    case 2:\n",
       "        cursor = 'crosshair';\n",
       "        break;\n",
       "    case 3:\n",
       "        cursor = 'move';\n",
       "        break;\n",
       "    }\n",
       "    fig.rubberband_canvas.style.cursor = cursor;\n",
       "}\n",
       "\n",
       "mpl.figure.prototype.handle_message = function(fig, msg) {\n",
       "    fig.message.textContent = msg['message'];\n",
       "}\n",
       "\n",
       "mpl.figure.prototype.handle_draw = function(fig, msg) {\n",
       "    // Request the server to send over a new figure.\n",
       "    fig.send_draw_message();\n",
       "}\n",
       "\n",
       "mpl.figure.prototype.handle_image_mode = function(fig, msg) {\n",
       "    fig.image_mode = msg['mode'];\n",
       "}\n",
       "\n",
       "mpl.figure.prototype.updated_canvas_event = function() {\n",
       "    // Called whenever the canvas gets updated.\n",
       "    this.send_message(\"ack\", {});\n",
       "}\n",
       "\n",
       "// A function to construct a web socket function for onmessage handling.\n",
       "// Called in the figure constructor.\n",
       "mpl.figure.prototype._make_on_message_function = function(fig) {\n",
       "    return function socket_on_message(evt) {\n",
       "        if (evt.data instanceof Blob) {\n",
       "            /* FIXME: We get \"Resource interpreted as Image but\n",
       "             * transferred with MIME type text/plain:\" errors on\n",
       "             * Chrome.  But how to set the MIME type?  It doesn't seem\n",
       "             * to be part of the websocket stream */\n",
       "            evt.data.type = \"image/png\";\n",
       "\n",
       "            /* Free the memory for the previous frames */\n",
       "            if (fig.imageObj.src) {\n",
       "                (window.URL || window.webkitURL).revokeObjectURL(\n",
       "                    fig.imageObj.src);\n",
       "            }\n",
       "\n",
       "            fig.imageObj.src = (window.URL || window.webkitURL).createObjectURL(\n",
       "                evt.data);\n",
       "            fig.updated_canvas_event();\n",
       "            fig.waiting = false;\n",
       "            return;\n",
       "        }\n",
       "        else if (typeof evt.data === 'string' && evt.data.slice(0, 21) == \"data:image/png;base64\") {\n",
       "            fig.imageObj.src = evt.data;\n",
       "            fig.updated_canvas_event();\n",
       "            fig.waiting = false;\n",
       "            return;\n",
       "        }\n",
       "\n",
       "        var msg = JSON.parse(evt.data);\n",
       "        var msg_type = msg['type'];\n",
       "\n",
       "        // Call the  \"handle_{type}\" callback, which takes\n",
       "        // the figure and JSON message as its only arguments.\n",
       "        try {\n",
       "            var callback = fig[\"handle_\" + msg_type];\n",
       "        } catch (e) {\n",
       "            console.log(\"No handler for the '\" + msg_type + \"' message type: \", msg);\n",
       "            return;\n",
       "        }\n",
       "\n",
       "        if (callback) {\n",
       "            try {\n",
       "                // console.log(\"Handling '\" + msg_type + \"' message: \", msg);\n",
       "                callback(fig, msg);\n",
       "            } catch (e) {\n",
       "                console.log(\"Exception inside the 'handler_\" + msg_type + \"' callback:\", e, e.stack, msg);\n",
       "            }\n",
       "        }\n",
       "    };\n",
       "}\n",
       "\n",
       "// from http://stackoverflow.com/questions/1114465/getting-mouse-location-in-canvas\n",
       "mpl.findpos = function(e) {\n",
       "    //this section is from http://www.quirksmode.org/js/events_properties.html\n",
       "    var targ;\n",
       "    if (!e)\n",
       "        e = window.event;\n",
       "    if (e.target)\n",
       "        targ = e.target;\n",
       "    else if (e.srcElement)\n",
       "        targ = e.srcElement;\n",
       "    if (targ.nodeType == 3) // defeat Safari bug\n",
       "        targ = targ.parentNode;\n",
       "\n",
       "    // jQuery normalizes the pageX and pageY\n",
       "    // pageX,Y are the mouse positions relative to the document\n",
       "    // offset() returns the position of the element relative to the document\n",
       "    var x = e.pageX - $(targ).offset().left;\n",
       "    var y = e.pageY - $(targ).offset().top;\n",
       "\n",
       "    return {\"x\": x, \"y\": y};\n",
       "};\n",
       "\n",
       "/*\n",
       " * return a copy of an object with only non-object keys\n",
       " * we need this to avoid circular references\n",
       " * http://stackoverflow.com/a/24161582/3208463\n",
       " */\n",
       "function simpleKeys (original) {\n",
       "  return Object.keys(original).reduce(function (obj, key) {\n",
       "    if (typeof original[key] !== 'object')\n",
       "        obj[key] = original[key]\n",
       "    return obj;\n",
       "  }, {});\n",
       "}\n",
       "\n",
       "mpl.figure.prototype.mouse_event = function(event, name) {\n",
       "    var canvas_pos = mpl.findpos(event)\n",
       "\n",
       "    if (name === 'button_press')\n",
       "    {\n",
       "        this.canvas.focus();\n",
       "        this.canvas_div.focus();\n",
       "    }\n",
       "\n",
       "    var x = canvas_pos.x * mpl.ratio;\n",
       "    var y = canvas_pos.y * mpl.ratio;\n",
       "\n",
       "    this.send_message(name, {x: x, y: y, button: event.button,\n",
       "                             step: event.step,\n",
       "                             guiEvent: simpleKeys(event)});\n",
       "\n",
       "    /* This prevents the web browser from automatically changing to\n",
       "     * the text insertion cursor when the button is pressed.  We want\n",
       "     * to control all of the cursor setting manually through the\n",
       "     * 'cursor' event from matplotlib */\n",
       "    event.preventDefault();\n",
       "    return false;\n",
       "}\n",
       "\n",
       "mpl.figure.prototype._key_event_extra = function(event, name) {\n",
       "    // Handle any extra behaviour associated with a key event\n",
       "}\n",
       "\n",
       "mpl.figure.prototype.key_event = function(event, name) {\n",
       "\n",
       "    // Prevent repeat events\n",
       "    if (name == 'key_press')\n",
       "    {\n",
       "        if (event.which === this._key)\n",
       "            return;\n",
       "        else\n",
       "            this._key = event.which;\n",
       "    }\n",
       "    if (name == 'key_release')\n",
       "        this._key = null;\n",
       "\n",
       "    var value = '';\n",
       "    if (event.ctrlKey && event.which != 17)\n",
       "        value += \"ctrl+\";\n",
       "    if (event.altKey && event.which != 18)\n",
       "        value += \"alt+\";\n",
       "    if (event.shiftKey && event.which != 16)\n",
       "        value += \"shift+\";\n",
       "\n",
       "    value += 'k';\n",
       "    value += event.which.toString();\n",
       "\n",
       "    this._key_event_extra(event, name);\n",
       "\n",
       "    this.send_message(name, {key: value,\n",
       "                             guiEvent: simpleKeys(event)});\n",
       "    return false;\n",
       "}\n",
       "\n",
       "mpl.figure.prototype.toolbar_button_onclick = function(name) {\n",
       "    if (name == 'download') {\n",
       "        this.handle_save(this, null);\n",
       "    } else {\n",
       "        this.send_message(\"toolbar_button\", {name: name});\n",
       "    }\n",
       "};\n",
       "\n",
       "mpl.figure.prototype.toolbar_button_onmouseover = function(tooltip) {\n",
       "    this.message.textContent = tooltip;\n",
       "};\n",
       "mpl.toolbar_items = [[\"Home\", \"Reset original view\", \"fa fa-home icon-home\", \"home\"], [\"Back\", \"Back to previous view\", \"fa fa-arrow-left icon-arrow-left\", \"back\"], [\"Forward\", \"Forward to next view\", \"fa fa-arrow-right icon-arrow-right\", \"forward\"], [\"\", \"\", \"\", \"\"], [\"Pan\", \"Pan axes with left mouse, zoom with right\", \"fa fa-arrows icon-move\", \"pan\"], [\"Zoom\", \"Zoom to rectangle\", \"fa fa-square-o icon-check-empty\", \"zoom\"], [\"\", \"\", \"\", \"\"], [\"Download\", \"Download plot\", \"fa fa-floppy-o icon-save\", \"download\"]];\n",
       "\n",
       "mpl.extensions = [\"eps\", \"jpeg\", \"pdf\", \"png\", \"ps\", \"raw\", \"svg\", \"tif\"];\n",
       "\n",
       "mpl.default_extension = \"png\";var comm_websocket_adapter = function(comm) {\n",
       "    // Create a \"websocket\"-like object which calls the given IPython comm\n",
       "    // object with the appropriate methods. Currently this is a non binary\n",
       "    // socket, so there is still some room for performance tuning.\n",
       "    var ws = {};\n",
       "\n",
       "    ws.close = function() {\n",
       "        comm.close()\n",
       "    };\n",
       "    ws.send = function(m) {\n",
       "        //console.log('sending', m);\n",
       "        comm.send(m);\n",
       "    };\n",
       "    // Register the callback with on_msg.\n",
       "    comm.on_msg(function(msg) {\n",
       "        //console.log('receiving', msg['content']['data'], msg);\n",
       "        // Pass the mpl event to the overridden (by mpl) onmessage function.\n",
       "        ws.onmessage(msg['content']['data'])\n",
       "    });\n",
       "    return ws;\n",
       "}\n",
       "\n",
       "mpl.mpl_figure_comm = function(comm, msg) {\n",
       "    // This is the function which gets called when the mpl process\n",
       "    // starts-up an IPython Comm through the \"matplotlib\" channel.\n",
       "\n",
       "    var id = msg.content.data.id;\n",
       "    // Get hold of the div created by the display call when the Comm\n",
       "    // socket was opened in Python.\n",
       "    var element = $(\"#\" + id);\n",
       "    var ws_proxy = comm_websocket_adapter(comm)\n",
       "\n",
       "    function ondownload(figure, format) {\n",
       "        window.open(figure.imageObj.src);\n",
       "    }\n",
       "\n",
       "    var fig = new mpl.figure(id, ws_proxy,\n",
       "                           ondownload,\n",
       "                           element.get(0));\n",
       "\n",
       "    // Call onopen now - mpl needs it, as it is assuming we've passed it a real\n",
       "    // web socket which is closed, not our websocket->open comm proxy.\n",
       "    ws_proxy.onopen();\n",
       "\n",
       "    fig.parent_element = element.get(0);\n",
       "    fig.cell_info = mpl.find_output_cell(\"<div id='\" + id + \"'></div>\");\n",
       "    if (!fig.cell_info) {\n",
       "        console.error(\"Failed to find cell for figure\", id, fig);\n",
       "        return;\n",
       "    }\n",
       "\n",
       "    var output_index = fig.cell_info[2]\n",
       "    var cell = fig.cell_info[0];\n",
       "\n",
       "};\n",
       "\n",
       "mpl.figure.prototype.handle_close = function(fig, msg) {\n",
       "    var width = fig.canvas.width/mpl.ratio\n",
       "    fig.root.unbind('remove')\n",
       "\n",
       "    // Update the output cell to use the data from the current canvas.\n",
       "    fig.push_to_output();\n",
       "    var dataURL = fig.canvas.toDataURL();\n",
       "    // Re-enable the keyboard manager in IPython - without this line, in FF,\n",
       "    // the notebook keyboard shortcuts fail.\n",
       "    IPython.keyboard_manager.enable()\n",
       "    $(fig.parent_element).html('<img src=\"' + dataURL + '\" width=\"' + width + '\">');\n",
       "    fig.close_ws(fig, msg);\n",
       "}\n",
       "\n",
       "mpl.figure.prototype.close_ws = function(fig, msg){\n",
       "    fig.send_message('closing', msg);\n",
       "    // fig.ws.close()\n",
       "}\n",
       "\n",
       "mpl.figure.prototype.push_to_output = function(remove_interactive) {\n",
       "    // Turn the data on the canvas into data in the output cell.\n",
       "    var width = this.canvas.width/mpl.ratio\n",
       "    var dataURL = this.canvas.toDataURL();\n",
       "    this.cell_info[1]['text/html'] = '<img src=\"' + dataURL + '\" width=\"' + width + '\">';\n",
       "}\n",
       "\n",
       "mpl.figure.prototype.updated_canvas_event = function() {\n",
       "    // Tell IPython that the notebook contents must change.\n",
       "    IPython.notebook.set_dirty(true);\n",
       "    this.send_message(\"ack\", {});\n",
       "    var fig = this;\n",
       "    // Wait a second, then push the new image to the DOM so\n",
       "    // that it is saved nicely (might be nice to debounce this).\n",
       "    setTimeout(function () { fig.push_to_output() }, 1000);\n",
       "}\n",
       "\n",
       "mpl.figure.prototype._init_toolbar = function() {\n",
       "    var fig = this;\n",
       "\n",
       "    var nav_element = $('<div/>');\n",
       "    nav_element.attr('style', 'width: 100%');\n",
       "    this.root.append(nav_element);\n",
       "\n",
       "    // Define a callback function for later on.\n",
       "    function toolbar_event(event) {\n",
       "        return fig.toolbar_button_onclick(event['data']);\n",
       "    }\n",
       "    function toolbar_mouse_event(event) {\n",
       "        return fig.toolbar_button_onmouseover(event['data']);\n",
       "    }\n",
       "\n",
       "    for(var toolbar_ind in mpl.toolbar_items){\n",
       "        var name = mpl.toolbar_items[toolbar_ind][0];\n",
       "        var tooltip = mpl.toolbar_items[toolbar_ind][1];\n",
       "        var image = mpl.toolbar_items[toolbar_ind][2];\n",
       "        var method_name = mpl.toolbar_items[toolbar_ind][3];\n",
       "\n",
       "        if (!name) { continue; };\n",
       "\n",
       "        var button = $('<button class=\"btn btn-default\" href=\"#\" title=\"' + name + '\"><i class=\"fa ' + image + ' fa-lg\"></i></button>');\n",
       "        button.click(method_name, toolbar_event);\n",
       "        button.mouseover(tooltip, toolbar_mouse_event);\n",
       "        nav_element.append(button);\n",
       "    }\n",
       "\n",
       "    // Add the status bar.\n",
       "    var status_bar = $('<span class=\"mpl-message\" style=\"text-align:right; float: right;\"/>');\n",
       "    nav_element.append(status_bar);\n",
       "    this.message = status_bar[0];\n",
       "\n",
       "    // Add the close button to the window.\n",
       "    var buttongrp = $('<div class=\"btn-group inline pull-right\"></div>');\n",
       "    var button = $('<button class=\"btn btn-mini btn-primary\" href=\"#\" title=\"Stop Interaction\"><i class=\"fa fa-power-off icon-remove icon-large\"></i></button>');\n",
       "    button.click(function (evt) { fig.handle_close(fig, {}); } );\n",
       "    button.mouseover('Stop Interaction', toolbar_mouse_event);\n",
       "    buttongrp.append(button);\n",
       "    var titlebar = this.root.find($('.ui-dialog-titlebar'));\n",
       "    titlebar.prepend(buttongrp);\n",
       "}\n",
       "\n",
       "mpl.figure.prototype._root_extra_style = function(el){\n",
       "    var fig = this\n",
       "    el.on(\"remove\", function(){\n",
       "\tfig.close_ws(fig, {});\n",
       "    });\n",
       "}\n",
       "\n",
       "mpl.figure.prototype._canvas_extra_style = function(el){\n",
       "    // this is important to make the div 'focusable\n",
       "    el.attr('tabindex', 0)\n",
       "    // reach out to IPython and tell the keyboard manager to turn it's self\n",
       "    // off when our div gets focus\n",
       "\n",
       "    // location in version 3\n",
       "    if (IPython.notebook.keyboard_manager) {\n",
       "        IPython.notebook.keyboard_manager.register_events(el);\n",
       "    }\n",
       "    else {\n",
       "        // location in version 2\n",
       "        IPython.keyboard_manager.register_events(el);\n",
       "    }\n",
       "\n",
       "}\n",
       "\n",
       "mpl.figure.prototype._key_event_extra = function(event, name) {\n",
       "    var manager = IPython.notebook.keyboard_manager;\n",
       "    if (!manager)\n",
       "        manager = IPython.keyboard_manager;\n",
       "\n",
       "    // Check for shift+enter\n",
       "    if (event.shiftKey && event.which == 13) {\n",
       "        this.canvas_div.blur();\n",
       "        // select the cell after this one\n",
       "        var index = IPython.notebook.find_cell_index(this.cell_info[0]);\n",
       "        IPython.notebook.select(index + 1);\n",
       "    }\n",
       "}\n",
       "\n",
       "mpl.figure.prototype.handle_save = function(fig, msg) {\n",
       "    fig.ondownload(fig, null);\n",
       "}\n",
       "\n",
       "\n",
       "mpl.find_output_cell = function(html_output) {\n",
       "    // Return the cell and output element which can be found *uniquely* in the notebook.\n",
       "    // Note - this is a bit hacky, but it is done because the \"notebook_saving.Notebook\"\n",
       "    // IPython event is triggered only after the cells have been serialised, which for\n",
       "    // our purposes (turning an active figure into a static one), is too late.\n",
       "    var cells = IPython.notebook.get_cells();\n",
       "    var ncells = cells.length;\n",
       "    for (var i=0; i<ncells; i++) {\n",
       "        var cell = cells[i];\n",
       "        if (cell.cell_type === 'code'){\n",
       "            for (var j=0; j<cell.output_area.outputs.length; j++) {\n",
       "                var data = cell.output_area.outputs[j];\n",
       "                if (data.data) {\n",
       "                    // IPython >= 3 moved mimebundle to data attribute of output\n",
       "                    data = data.data;\n",
       "                }\n",
       "                if (data['text/html'] == html_output) {\n",
       "                    return [cell, data, j];\n",
       "                }\n",
       "            }\n",
       "        }\n",
       "    }\n",
       "}\n",
       "\n",
       "// Register the function which deals with the matplotlib target/channel.\n",
       "// The kernel may be null if the page has been refreshed.\n",
       "if (IPython.notebook.kernel != null) {\n",
       "    IPython.notebook.kernel.comm_manager.register_target('matplotlib', mpl.mpl_figure_comm);\n",
       "}\n"
      ],
      "text/plain": [
       "<IPython.core.display.Javascript object>"
      ]
     },
     "metadata": {},
     "output_type": "display_data"
    },
    {
     "data": {
      "text/html": [
       "<img src=\"data:image/png;base64,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\" width=\"431.75000000000006\">"
      ],
      "text/plain": [
       "<IPython.core.display.HTML object>"
      ]
     },
     "metadata": {},
     "output_type": "display_data"
    },
    {
     "data": {
      "application/vnd.jupyter.widget-view+json": {
       "model_id": "c3fadba9179d4293af9d170c52daf684",
       "version_major": 2,
       "version_minor": 0
      },
      "text/plain": [
       "interactive(children=(FloatSlider(value=1.0, description='m', max=50.0, min=-50.0, step=0.11), FloatSlider(val…"
      ]
     },
     "metadata": {},
     "output_type": "display_data"
    }
   ],
   "source": [
    "%matplotlib notebook\n",
    "import matplotlib.pyplot as plt\n",
    "from numpy import *\n",
    "\n",
    "fig = plt.figure(num='y=mx+b')\n",
    "ax= fig.add_subplot(111,facecolor='#a9e3a6')\n",
    "x = linspace (-20,20,100)\n",
    "y0 = x;\n",
    "y, =plt.plot(x,y0,lw=5)\n",
    "plt.grid()\n",
    "\n",
    "def actualizando(m=1.0, n=0.0):\n",
    "    y.set_ydata(m*x+n)\n",
    "    \n",
    "mvalue = widgets.FloatSlider(value=1.0,min=-50,max=50, step=0.11) \n",
    "nvalue = widgets.FloatSlider(value=1.0,min=-50,max=50, step=0.11) \n",
    "widgets.interact(actualizando, m = mvalue, n=nvalue);\n",
    "\n",
    "plt.plot(x, x*0,\"black\")\n",
    "plt.plot(x*0, x,\"black\")\n",
    "\n",
    "plt.show()"
   ]
  },
  {
   "cell_type": "markdown",
   "metadata": {},
   "source": [
    "<p style='text-align:center'> A continuación se presenta un diagrama de flujo que representa la interacción a las preguntas propuestas."
   ]
  },
  {
   "cell_type": "markdown",
   "metadata": {},
   "source": [
    "<img src=\"diacondicional.PNG\" alt=\"diacondicional\" width= \"350\"/>"
   ]
  },
  {
   "cell_type": "markdown",
   "metadata": {},
   "source": [
    "Ahora ingresa tus respuestas:"
   ]
  },
  {
   "cell_type": "code",
   "execution_count": null,
   "metadata": {},
   "outputs": [],
   "source": [
    "m = float(input(\"ingresa el valor de la pendiente: \"));\n",
    "if (m==1.25):\n",
    "    print(\"correcto\")\n",
    "else: \n",
    "    print (\"intenta ingresar el valor nuevamente, recordando lo visto en cálculo de pendiente de función lineal\")\n",
    "    while (m<1.25) or (m>1.25):\n",
    "         m = float(input(\"ingresa el valor de la pendiente: \")); \n",
    "            \n",
    "area= float(input(\"ingresa el valor del área: \"));\n",
    "if (area==2.5):\n",
    "    print(\"correcto\")\n",
    "else: \n",
    "    print (\"intenta ingresar el valor nuevamente, recuerda usar integral definida y un área positiva\")\n",
    "    while (m<2.5) or (m>2.5):\n",
    "         m = float(input(\"ingresa el valor del área: \")); \n",
    "            \n",
    "tarros= float(input(\"ingresa la cantidad de tarros: \"));\n",
    "if (tarros==2):\n",
    "    print(\"correcto\")\n",
    "else: \n",
    "    print (\"intenta ingresar el valor nuevamente, se debe aproximar al entero siguiente\")\n",
    "    while (m<2) or (m>2):\n",
    "         m = float(input(\"ingresa la cantidad de tarros: \")); \n",
    "print(\"¡Bien hecho!\")"
   ]
  },
  {
   "cell_type": "markdown",
   "metadata": {},
   "source": [
    " ### E)\n",
    " + Mira el diagrama y sigue los pasos  "
   ]
  },
  {
   "cell_type": "markdown",
   "metadata": {},
   "source": [
    "<img src=\"diacon.PNG\" alt=\"diacon\" width= \"1500\"/>"
   ]
  },
  {
   "cell_type": "markdown",
   "metadata": {},
   "source": [
    "+ Elige la clase de función a trabajar"
   ]
  },
  {
   "cell_type": "code",
   "execution_count": 1,
   "metadata": {
    "scrolled": true
   },
   "outputs": [
    {
     "data": {
      "application/vnd.jupyter.widget-view+json": {
       "model_id": "b9869f1e0d7d43ceb5df2fc917ca4df6",
       "version_major": 2,
       "version_minor": 0
      },
      "text/plain": [
       "Select(options=('seno', 'coseno', 'exponencial', 'logaritmo natural', 'Cuadrática', 'lineal'), value='seno')"
      ]
     },
     "metadata": {},
     "output_type": "display_data"
    }
   ],
   "source": [
    "import ipywidgets as widgets\n",
    "a = widgets.Select( options=['seno', 'coseno', 'exponencial','logaritmo natural','Cuadrática','lineal'])\n",
    "a"
   ]
  },
  {
   "cell_type": "code",
   "execution_count": 2,
   "metadata": {},
   "outputs": [],
   "source": [
    "if (a.value=='seno'):\n",
    "    from PIL import Image\n",
    "    im = Image.open(\"sen.PNG\")\n",
    "    \n",
    "elif (a.value=='coseno'):\n",
    "    from PIL import Image\n",
    "    im = Image.open(\"cos.PNG\")\n",
    "    \n",
    "elif (a.value=='exponencial'):\n",
    "    from PIL import Image\n",
    "    im = Image.open(\"exp.PNG\")\n",
    "        \n",
    "elif (a.value=='logaritmo natural'):\n",
    "    from PIL import Image\n",
    "    im = Image.open(\"ln.PNG\")        \n",
    "        \n",
    "elif (a.value=='Cuadrática'):\n",
    "    from PIL import Image\n",
    "    im = Image.open(\"cua.PNG\")\n",
    "    \n",
    "elif (a.value=='lineal'):\n",
    "    from PIL import Image\n",
    "    im = Image.open(\"lin.PNG\")    \n",
    "    \n",
    "        \n"
   ]
  },
  {
   "cell_type": "markdown",
   "metadata": {},
   "source": [
    "+ desarrolla el ejercicio propuesto a continuacion:"
   ]
  },
  {
   "cell_type": "code",
   "execution_count": 5,
   "metadata": {
    "scrolled": true
   },
   "outputs": [
    {
     "data": {
      "image/png": "[encoded data removed]",
      "text/plain": [
       "<PIL.PngImagePlugin.PngImageFile image mode=RGBA size=205x91 at 0x260C0DBC7C8>"
      ]
     },
     "execution_count": 5,
     "metadata": {},
     "output_type": "execute_result"
    }
   ],
   "source": [
    "im"
   ]
  },
  {
   "cell_type": "code",
   "execution_count": 6,
   "metadata": {},
   "outputs": [
    {
     "data": {
      "application/vnd.jupyter.widget-view+json": {
       "model_id": "ae94fccea027425daf42fd37c6cd2cf9",
       "version_major": 2,
       "version_minor": 0
      },
      "text/plain": [
       "RadioButtons(options=('1', '11', '2', '8'), value='1')"
      ]
     },
     "metadata": {},
     "output_type": "display_data"
    }
   ],
   "source": [
    "if (a.value=='seno'):\n",
    "    q = widgets.RadioButtons(options=['1' , '11','2', '8']);\n",
    "    \n",
    "    \n",
    "elif (a.value=='coseno'):\n",
    "    q = widgets.RadioButtons(options=['10' , '-1/3','22', '-2/5']);\n",
    "    \n",
    "       \n",
    "elif (a.value=='exponencial'):\n",
    "    q = widgets.RadioButtons(options=['e^5-e^4' , 'e^9','e', '1.7']);\n",
    "    \n",
    "        \n",
    "elif (a.value=='logaritmo natural'):\n",
    "    q = widgets.RadioButtons(options=['0.1' , '0.59','0.38', '0.30']);\n",
    "            \n",
    "        \n",
    "elif (a.value=='Cuadrática'):\n",
    "    q = widgets.RadioButtons(options=['110' , '305/2','224', '305/3']);\n",
    "    \n",
    "    \n",
    "elif (a.value=='lineal'):\n",
    "    q = widgets.RadioButtons(options=['1.5' , '10.1','4.1', '9.2']);\n",
    "\n",
    "q "
   ]
  },
  {
   "cell_type": "code",
   "execution_count": 7,
   "metadata": {},
   "outputs": [
    {
     "name": "stdout",
     "output_type": "stream",
     "text": [
      "intenta resolver denuevo el ejercicio anterior\n"
     ]
    }
   ],
   "source": [
    "if (a.value=='seno'):\n",
    "    if (not(q.value==\"2\")):\n",
    "        print('intenta resolver denuevo el ejercicio anterior')\n",
    "    \n",
    "    else:\n",
    "        print(\"correcto\")\n",
    "    \n",
    "elif (a.value=='coseno'):\n",
    "        if(not(q.value==\"-1/3\")):\n",
    "            print('intenta resolver denuevo el ejercicio anterior')\n",
    "        else:\n",
    "            print(\"correcto\")\n",
    "       \n",
    "elif (a.value=='exponencial'):\n",
    "    if(not(q.value==\"e^5-e^4\")):\n",
    "        print('intenta resolver denuevo el ejercicio anterior')\n",
    "    else:\n",
    "        print(\"correcto\")   \n",
    "    \n",
    "        \n",
    "elif (a.value=='logaritmo natural'):\n",
    "    if(not(q.value==\"0.38\")):\n",
    "        print('intenta resolver denuevo el ejercicio anterior')\n",
    "    else:\n",
    "        print(\"correcto\")    \n",
    "            \n",
    "        \n",
    "elif (a.value=='Cuadrática'):\n",
    "    if(not(q.value==\"305/3\")):\n",
    "        print('intenta resolver denuevo el ejercicio anterior')\n",
    "    else:\n",
    "        print(\"correcto\")    \n",
    "    \n",
    "    \n",
    "elif (a.value=='lineal'):\n",
    "    if(not(q.value==\"4.1\")):\n",
    "        print('intenta resolver denuevo el ejercicio anterior')\n",
    "    else:\n",
    "        print(\"correcto\")    \n",
    "\n"
   ]
  },
  {
   "cell_type": "markdown",
   "metadata": {},
   "source": [
    "### 3- Por último"
   ]
  },
  {
   "cell_type": "markdown",
   "metadata": {},
   "source": [
    "Dudas y consultas a mi correo:"
   ]
  },
  {
   "cell_type": "markdown",
   "metadata": {},
   "source": [
    "<a href=\"mailto:brahiamramirez@live.com\"> brahiamramirez@live.com"
   ]
  },
  {
   "cell_type": "markdown",
   "metadata": {},
   "source": [
    "Material complementario:"
   ]
  },
  {
   "cell_type": "markdown",
   "metadata": {},
   "source": [
    " <a href=\"https://curriculumnacional.mineduc.cl/estudiante/621/w3-article-145200.html\">\n",
    "<img  alt=\"Mineduc:Actividades\">\n",
    "</a> "
   ]
  },
  {
   "cell_type": "markdown",
   "metadata": {},
   "source": [
    " <a href=\"https://www.geogebra.org/graphing?lang=es\">\n",
    "<img  alt=\"Graficas: Geogebra\">\n",
    "</a> "
   ]
  },
  {
   "cell_type": "markdown",
   "metadata": {},
   "source": [
    "$$ ¡BIEN $$\n",
    "$$ HECHO! $$"
   ]
  },
  {
   "cell_type": "code",
   "execution_count": null,
   "metadata": {},
   "outputs": [],
   "source": []
  }
 ],
 "metadata": {
  "kernelspec": {
   "display_name": "Python 3",
   "language": "python",
   "name": "python3"
  },
  "language_info": {
   "codemirror_mode": {
    "name": "ipython",
    "version": 3
   },
   "file_extension": ".py",
   "mimetype": "text/x-python",
   "name": "python",
   "nbconvert_exporter": "python",
   "pygments_lexer": "ipython3",
   "version": "3.7.6"
  },
  "widgets": {
   "application/vnd.jupyter.widget-state+json": {
    "state": {
     "00cdbac9d9bc4809b29830193f6626fe": {
      "model_module": "@jupyter-widgets/controls",
      "model_module_version": "1.5.0",
      "model_name": "DescriptionStyleModel",
      "state": {
       "description_width": ""
      }
     },
     "01b06656adcd4f30a23e499305dd705d": {
      "model_module": "@jupyter-widgets/base",
      "model_module_version": "1.2.0",
      "model_name": "LayoutModel",
      "state": {}
     },
     "02a8594f66a540d29e65e38e93ea7297": {
      "model_module": "@jupyter-widgets/controls",
      "model_module_version": "1.5.0",
      "model_name": "DescriptionStyleModel",
      "state": {
       "description_width": ""
      }
     },
     "04ffd51da53f473e9aedfff08c8a9187": {
      "model_module": "@jupyter-widgets/base",
      "model_module_version": "1.2.0",
      "model_name": "LayoutModel",
      "state": {}
     },
     "09f7c36ac668474886a5f9489faaf174": {
      "model_module": "@jupyter-widgets/controls",
      "model_module_version": "1.5.0",
      "model_name": "DescriptionStyleModel",
      "state": {
       "description_width": ""
      }
     },
     "0a47c10e46b442dd9c9816ee4a96dfe8": {
      "model_module": "@jupyter-widgets/controls",
      "model_module_version": "1.5.0",
      "model_name": "SliderStyleModel",
      "state": {
       "description_width": ""
      }
     },
     "0a56838cb2ce493eb48c93d475f1eef6": {
      "model_module": "@jupyter-widgets/base",
      "model_module_version": "1.2.0",
      "model_name": "LayoutModel",
      "state": {}
     },
     "0af997946bb3498cbcfb53eab5f3f0e5": {
      "model_module": "@jupyter-widgets/controls",
      "model_module_version": "1.5.0",
      "model_name": "RadioButtonsModel",
      "state": {
       "_options_labels": [
        "F(x) = 7x+4",
        "F(x) = 4 ",
        "F(x) = 2",
        "F(x) = 10"
       ],
       "index": 3,
       "layout": "IPY_MODEL_6229376b4340444eb32d9200c4e8fd60",
       "style": "IPY_MODEL_699d64b10e3f421b9b6666cfe2c178c7"
      }
     },
     "0df712d30f2c4b3b9a16b228bf3a5438": {
      "model_module": "@jupyter-widgets/base",
      "model_module_version": "1.2.0",
      "model_name": "LayoutModel",
      "state": {}
     },
     "0f4613f0e88c48d980400076f6b7daa6": {
      "model_module": "@jupyter-widgets/controls",
      "model_module_version": "1.5.0",
      "model_name": "RadioButtonsModel",
      "state": {
       "_options_labels": [
        "F(x) = 3x+4",
        "F(x) = x ",
        "F(x) = 2x+2",
        "F(x) = 5x"
       ],
       "index": 0,
       "layout": "IPY_MODEL_b253de2145e24725b8942cb9f5fe26b3",
       "style": "IPY_MODEL_87358a724892484693a4f24713f73f98"
      }
     },
     "0f4da0c5033a4b4c8665dbe90cd086e4": {
      "model_module": "@jupyter-widgets/controls",
      "model_module_version": "1.5.0",
      "model_name": "SliderStyleModel",
      "state": {
       "description_width": ""
      }
     },
     "118f04aafcb648cb8e65442c4d2439fd": {
      "model_module": "@jupyter-widgets/controls",
      "model_module_version": "1.5.0",
      "model_name": "RadioButtonsModel",
      "state": {
       "_options_labels": [
        "F(x) = 7x+4",
        "F(x) = 4 ",
        "F(x) = 2",
        "F(x) = 10"
       ],
       "index": 0,
       "layout": "IPY_MODEL_b3d9ae9f21ee4e12b86b513b11280d06",
       "style": "IPY_MODEL_899519165c1e44328ef670be48e306b3"
      }
     },
     "122fcde8e8554b689fd1fb332476f9b0": {
      "model_module": "@jupyter-widgets/controls",
      "model_module_version": "1.5.0",
      "model_name": "SliderStyleModel",
      "state": {
       "description_width": ""
      }
     },
     "1343688f37764af9bbff8285d81c0555": {
      "model_module": "@jupyter-widgets/controls",
      "model_module_version": "1.5.0",
      "model_name": "DescriptionStyleModel",
      "state": {
       "description_width": ""
      }
     },
     "15964e3c0d8043ba84673eb561a8c1b2": {
      "model_module": "@jupyter-widgets/controls",
      "model_module_version": "1.5.0",
      "model_name": "DescriptionStyleModel",
      "state": {
       "description_width": ""
      }
     },
     "15edcd3b465d4861ac5f9d70bc1c70af": {
      "model_module": "@jupyter-widgets/controls",
      "model_module_version": "1.5.0",
      "model_name": "RadioButtonsModel",
      "state": {
       "_options_labels": [
        "F(x) = 7x+4",
        "F(x) = 4 ",
        "F(x) = 2",
        "F(x) = 10"
       ],
       "index": 0,
       "layout": "IPY_MODEL_04ffd51da53f473e9aedfff08c8a9187",
       "style": "IPY_MODEL_a087d1ade0f64166a45cabf3d644a539"
      }
     },
     "162ca6a06dd4455798953593d276654e": {
      "model_module": "@jupyter-widgets/base",
      "model_module_version": "1.2.0",
      "model_name": "LayoutModel",
      "state": {}
     },
     "178f2447b0554104a81650313fb30453": {
      "model_module": "@jupyter-widgets/controls",
      "model_module_version": "1.5.0",
      "model_name": "DescriptionStyleModel",
      "state": {
       "description_width": ""
      }
     },
     "1808f02719b5463eb502408520f47b40": {
      "model_module": "@jupyter-widgets/controls",
      "model_module_version": "1.5.0",
      "model_name": "RadioButtonsModel",
      "state": {
       "_options_labels": [
        "10",
        "11",
        "22",
        "48"
       ],
       "index": 0,
       "layout": "IPY_MODEL_28497d2ee04d4c458b89032a8845f65b",
       "style": "IPY_MODEL_4b14ab1f1f4948b283c7445958e87a79"
      }
     },
     "1a16ffb07d5f44969fb2ef98cbc030a4": {
      "model_module": "@jupyter-widgets/controls",
      "model_module_version": "1.5.0",
      "model_name": "FloatSliderModel",
      "state": {
       "description": "Valor de b",
       "layout": "IPY_MODEL_cb05558ae46f44f69d8cebe9f0e5487f",
       "max": 10,
       "min": -10,
       "readout_format": ".1f",
       "step": 0.1,
       "style": "IPY_MODEL_a02015a743d94c258962cc62f1a30055"
      }
     },
     "1d05947389ee4076bc279db7032a7214": {
      "model_module": "@jupyter-widgets/controls",
      "model_module_version": "1.5.0",
      "model_name": "FloatSliderModel",
      "state": {
       "description": "Valor de b",
       "layout": "IPY_MODEL_af24cbce13bb44fb80681567a9e0ee5d",
       "max": 10,
       "min": -10,
       "readout_format": ".1f",
       "step": 0.1,
       "style": "IPY_MODEL_0f4da0c5033a4b4c8665dbe90cd086e4",
       "value": 1
      }
     },
     "1e0a65ebf6bb46319b907fa22257a621": {
      "model_module": "@jupyter-widgets/base",
      "model_module_version": "1.2.0",
      "model_name": "LayoutModel",
      "state": {}
     },
     "2061b36e5b0f41aba32663d986bf86c1": {
      "model_module": "@jupyter-widgets/base",
      "model_module_version": "1.2.0",
      "model_name": "LayoutModel",
      "state": {}
     },
     "2115a79ea62f48c0871d55611e1432b0": {
      "model_module": "@jupyter-widgets/controls",
      "model_module_version": "1.5.0",
      "model_name": "DescriptionStyleModel",
      "state": {
       "description_width": ""
      }
     },
     "224241e2cb0147f0a922bd8f6cfb7b38": {
      "model_module": "@jupyter-widgets/base",
      "model_module_version": "1.2.0",
      "model_name": "LayoutModel",
      "state": {}
     },
     "2471d843c91c4bf39fb380bb97a53a73": {
      "model_module": "@jupyter-widgets/controls",
      "model_module_version": "1.5.0",
      "model_name": "DescriptionStyleModel",
      "state": {
       "description_width": ""
      }
     },
     "24a0b34edf5f423b8b713de91f4d6233": {
      "model_module": "@jupyter-widgets/base",
      "model_module_version": "1.2.0",
      "model_name": "LayoutModel",
      "state": {}
     },
     "24bc3138f55148b88bd19bb743991bd8": {
      "model_module": "@jupyter-widgets/controls",
      "model_module_version": "1.5.0",
      "model_name": "DescriptionStyleModel",
      "state": {
       "description_width": ""
      }
     },
     "26b68ffa36db4b2dbc7a6cb9e59c4234": {
      "model_module": "@jupyter-widgets/controls",
      "model_module_version": "1.5.0",
      "model_name": "IntSliderModel",
      "state": {
       "layout": "IPY_MODEL_45fccf22efbf48a9bf45c692768464fe",
       "style": "IPY_MODEL_fab2b1e249d34b8bab82c551787785c6",
       "value": 1
      }
     },
     "278e13c2987349eb9de6fc25cb5591df": {
      "model_module": "@jupyter-widgets/controls",
      "model_module_version": "1.5.0",
      "model_name": "FloatSliderModel",
      "state": {
       "description": "Valor de a",
       "layout": "IPY_MODEL_f3fe57487bf24def871c2f9b15a5c210",
       "max": 10,
       "min": -10,
       "readout_format": ".1f",
       "step": 0.1,
       "style": "IPY_MODEL_d09bee834c9f42c58920397ad017007f"
      }
     },
     "28346865b8ef47c8b627dd9882ede4b3": {
      "model_module": "@jupyter-widgets/controls",
      "model_module_version": "1.5.0",
      "model_name": "DescriptionStyleModel",
      "state": {
       "description_width": ""
      }
     },
     "28497d2ee04d4c458b89032a8845f65b": {
      "model_module": "@jupyter-widgets/base",
      "model_module_version": "1.2.0",
      "model_name": "LayoutModel",
      "state": {}
     },
     "28567ad734b742e6943227a2fea9b55e": {
      "model_module": "@jupyter-widgets/base",
      "model_module_version": "1.2.0",
      "model_name": "LayoutModel",
      "state": {}
     },
     "287d324e558445efb782232cf6fe8f22": {
      "model_module": "@jupyter-widgets/base",
      "model_module_version": "1.2.0",
      "model_name": "LayoutModel",
      "state": {}
     },
     "2c3c50fe2a3b406d802da3b579987817": {
      "model_module": "@jupyter-widgets/base",
      "model_module_version": "1.2.0",
      "model_name": "LayoutModel",
      "state": {}
     },
     "2ed18b033b76400ca7a9464dccb30dd8": {
      "model_module": "@jupyter-widgets/base",
      "model_module_version": "1.2.0",
      "model_name": "LayoutModel",
      "state": {}
     },
     "2ed83ee092e2425d88544b8885aac503": {
      "model_module": "@jupyter-widgets/controls",
      "model_module_version": "1.5.0",
      "model_name": "FloatSliderModel",
      "state": {
       "description": "Valor de b",
       "layout": "IPY_MODEL_162ca6a06dd4455798953593d276654e",
       "max": 10,
       "min": -10,
       "readout_format": ".1f",
       "step": 0.1,
       "style": "IPY_MODEL_3585384f77df4768ab4b581dc837925f",
       "value": 1.2
      }
     },
     "2f1e1eca89fc47c3918a169fc2516bad": {
      "model_module": "@jupyter-widgets/controls",
      "model_module_version": "1.5.0",
      "model_name": "RadioButtonsModel",
      "state": {
       "_options_labels": [
        "F(x) = 7x+4",
        "F(x) = 4 ",
        "F(x) = 2",
        "F(x) = 10"
       ],
       "index": 3,
       "layout": "IPY_MODEL_b990329a0ee9465080bcf8e8299fe2ba",
       "style": "IPY_MODEL_da8e6cb5a5fb4496b394c1f5b1dd6870"
      }
     },
     "2fc09f3f46d64b77855c6e5b3c16c684": {
      "model_module": "@jupyter-widgets/controls",
      "model_module_version": "1.5.0",
      "model_name": "IntSliderModel",
      "state": {
       "layout": "IPY_MODEL_51bb2fe48a32442d93875cdc12039d87",
       "style": "IPY_MODEL_88eb33bfcee84b2084d6bb8bbf0bc6c4",
       "value": 66
      }
     },
     "32e60060ba4748c9a9ff4702797abc98": {
      "model_module": "@jupyter-widgets/controls",
      "model_module_version": "1.5.0",
      "model_name": "DescriptionStyleModel",
      "state": {
       "description_width": ""
      }
     },
     "34c84bbfefcf443bbb558caf4e291ff1": {
      "model_module": "@jupyter-widgets/base",
      "model_module_version": "1.2.0",
      "model_name": "LayoutModel",
      "state": {}
     },
     "3585384f77df4768ab4b581dc837925f": {
      "model_module": "@jupyter-widgets/controls",
      "model_module_version": "1.5.0",
      "model_name": "SliderStyleModel",
      "state": {
       "description_width": ""
      }
     },
     "359f16b5599a4c3db465bab506723cf7": {
      "model_module": "@jupyter-widgets/controls",
      "model_module_version": "1.5.0",
      "model_name": "RadioButtonsModel",
      "state": {
       "_options_labels": [
        "F(x) = 3x+4",
        "F(x) = x ",
        "F(x) = 2x+2",
        "F(x) = 5x"
       ],
       "index": 0,
       "layout": "IPY_MODEL_9c9949109e0242a69e271d44871bfbe0",
       "style": "IPY_MODEL_ffe23fbe12654643a285b81585ae92aa"
      }
     },
     "362f94e3418f4f46bcf0b6569600a311": {
      "model_module": "@jupyter-widgets/controls",
      "model_module_version": "1.5.0",
      "model_name": "DescriptionStyleModel",
      "state": {
       "description_width": ""
      }
     },
     "3aa4d95e9b504b6b807e0479ebdded06": {
      "model_module": "@jupyter-widgets/controls",
      "model_module_version": "1.5.0",
      "model_name": "RadioButtonsModel",
      "state": {
       "_options_labels": [
        "F(x) = 7x+4",
        "F(x) = 4 ",
        "F(x) = 2",
        "F(x) = 10"
       ],
       "index": 3,
       "layout": "IPY_MODEL_2061b36e5b0f41aba32663d986bf86c1",
       "style": "IPY_MODEL_5dad1edce9a74ddfb52be42badda29de"
      }
     },
     "3b2c8dde88e743039f440cde7c0f9130": {
      "model_module": "@jupyter-widgets/controls",
      "model_module_version": "1.5.0",
      "model_name": "FloatSliderModel",
      "state": {
       "description": "Valor de b",
       "layout": "IPY_MODEL_b80293be7445447994b96e202ccbee51",
       "max": 10,
       "min": -10,
       "readout_format": ".1f",
       "step": 0.1,
       "style": "IPY_MODEL_a1fa5f0f4d9f4208a48b37e9d9f1a20d",
       "value": 4.4
      }
     },
     "3bdc9979ddae48f29ecdd061d5849665": {
      "model_module": "@jupyter-widgets/controls",
      "model_module_version": "1.5.0",
      "model_name": "RadioButtonsModel",
      "state": {
       "_options_labels": [
        "f(x) = 3x+4",
        "f(x) = x ",
        "f(x) = 2x+2",
        "f(x) = 5x"
       ],
       "index": 0,
       "layout": "IPY_MODEL_99d3b9b50308441daee57cf5fde5dd6f",
       "style": "IPY_MODEL_56c72c6667ac4fc78af3e40472bc948b"
      }
     },
     "3e8169e73d3046caa5b2b054359f75c1": {
      "model_module": "@jupyter-widgets/controls",
      "model_module_version": "1.5.0",
      "model_name": "RadioButtonsModel",
      "state": {
       "_options_labels": [
        "F(x) = 7x+4",
        "F(x) = 4 ",
        "F(x) = 2",
        "F(x) = 10"
       ],
       "index": 0,
       "layout": "IPY_MODEL_b8600eb32a9f485385ee93d5a908d0a4",
       "style": "IPY_MODEL_59467406d38b4e02ac5716c0331b4415"
      }
     },
     "3eecbb497e38420e91a6a9c88acf80e4": {
      "model_module": "@jupyter-widgets/controls",
      "model_module_version": "1.5.0",
      "model_name": "DescriptionStyleModel",
      "state": {
       "description_width": ""
      }
     },
     "3f9bd259ac804d7cbb82e507d3d5dd63": {
      "model_module": "@jupyter-widgets/base",
      "model_module_version": "1.2.0",
      "model_name": "LayoutModel",
      "state": {}
     },
     "3fdaef27c7fa4f66892e5a31f9e4f073": {
      "model_module": "@jupyter-widgets/base",
      "model_module_version": "1.2.0",
      "model_name": "LayoutModel",
      "state": {}
     },
     "43b5b5b409b94a39a6ef769fd05201ac": {
      "model_module": "@jupyter-widgets/base",
      "model_module_version": "1.2.0",
      "model_name": "LayoutModel",
      "state": {}
     },
     "44d9dd8d222f49bc99b02cfef6d3c513": {
      "model_module": "@jupyter-widgets/base",
      "model_module_version": "1.2.0",
      "model_name": "LayoutModel",
      "state": {}
     },
     "45fccf22efbf48a9bf45c692768464fe": {
      "model_module": "@jupyter-widgets/base",
      "model_module_version": "1.2.0",
      "model_name": "LayoutModel",
      "state": {}
     },
     "47fb741b0e104fa68012b320c412da99": {
      "model_module": "@jupyter-widgets/controls",
      "model_module_version": "1.5.0",
      "model_name": "DescriptionStyleModel",
      "state": {
       "description_width": ""
      }
     },
     "4b14ab1f1f4948b283c7445958e87a79": {
      "model_module": "@jupyter-widgets/controls",
      "model_module_version": "1.5.0",
      "model_name": "DescriptionStyleModel",
      "state": {
       "description_width": ""
      }
     },
     "4d83f33c800e410ca1f8d04ee100ee70": {
      "model_module": "@jupyter-widgets/controls",
      "model_module_version": "1.5.0",
      "model_name": "SliderStyleModel",
      "state": {
       "description_width": ""
      }
     },
     "5003f0648ca54b478d4117d8609b123b": {
      "model_module": "@jupyter-widgets/base",
      "model_module_version": "1.2.0",
      "model_name": "LayoutModel",
      "state": {}
     },
     "50723d18b86a4343be205d59cb5c3fd8": {
      "model_module": "@jupyter-widgets/controls",
      "model_module_version": "1.5.0",
      "model_name": "RadioButtonsModel",
      "state": {
       "_options_labels": [
        "F(x) = 3x+4",
        "F(x) = x ",
        "F(x) = 2x+2",
        "F(x) = 5x"
       ],
       "index": 0,
       "layout": "IPY_MODEL_ea9fbc7f42f842858c75d6ba68576fd1",
       "style": "IPY_MODEL_15964e3c0d8043ba84673eb561a8c1b2"
      }
     },
     "51bb2fe48a32442d93875cdc12039d87": {
      "model_module": "@jupyter-widgets/base",
      "model_module_version": "1.2.0",
      "model_name": "LayoutModel",
      "state": {}
     },
     "51e63b1979aa4bc6a9f0ac6c6ba76529": {
      "model_module": "@jupyter-widgets/base",
      "model_module_version": "1.2.0",
      "model_name": "LayoutModel",
      "state": {}
     },
     "52d64d34c022449291e8e103dfb82b71": {
      "model_module": "@jupyter-widgets/controls",
      "model_module_version": "1.5.0",
      "model_name": "SliderStyleModel",
      "state": {
       "description_width": ""
      }
     },
     "535ac69900534050a1d5a3fb257582b9": {
      "model_module": "@jupyter-widgets/base",
      "model_module_version": "1.2.0",
      "model_name": "LayoutModel",
      "state": {}
     },
     "54ba1608527e47cb861396f2338845e9": {
      "model_module": "@jupyter-widgets/base",
      "model_module_version": "1.2.0",
      "model_name": "LayoutModel",
      "state": {}
     },
     "552407201ebc4af7b509cb70f9783090": {
      "model_module": "@jupyter-widgets/controls",
      "model_module_version": "1.5.0",
      "model_name": "DescriptionStyleModel",
      "state": {
       "description_width": ""
      }
     },
     "56c72c6667ac4fc78af3e40472bc948b": {
      "model_module": "@jupyter-widgets/controls",
      "model_module_version": "1.5.0",
      "model_name": "DescriptionStyleModel",
      "state": {
       "description_width": ""
      }
     },
     "5710180b60af40a19210764aafde2260": {
      "model_module": "@jupyter-widgets/controls",
      "model_module_version": "1.5.0",
      "model_name": "DescriptionStyleModel",
      "state": {
       "description_width": ""
      }
     },
     "57517f1a36334ac78cc0c8cc38aade8e": {
      "model_module": "@jupyter-widgets/controls",
      "model_module_version": "1.5.0",
      "model_name": "RadioButtonsModel",
      "state": {
       "_options_labels": [
        "F(x) = 3x+4",
        "F(x) = x ",
        "F(x) = 2x+2",
        "F(x) = 5x"
       ],
       "index": 0,
       "layout": "IPY_MODEL_51e63b1979aa4bc6a9f0ac6c6ba76529",
       "style": "IPY_MODEL_f25c6c4b92394cb39eabb59e5a6bee92"
      }
     },
     "591cc555850a44bd9bc9b5d0e7c14783": {
      "model_module": "@jupyter-widgets/controls",
      "model_module_version": "1.5.0",
      "model_name": "RadioButtonsModel",
      "state": {
       "_options_labels": [
        "Gráfico 1",
        "Gráfico 2",
        "Gráfico 3",
        "Gráfico 4"
       ],
       "index": 0,
       "layout": "IPY_MODEL_43b5b5b409b94a39a6ef769fd05201ac",
       "style": "IPY_MODEL_867067f24e4249b09f6b35362252427f"
      }
     },
     "59467406d38b4e02ac5716c0331b4415": {
      "model_module": "@jupyter-widgets/controls",
      "model_module_version": "1.5.0",
      "model_name": "DescriptionStyleModel",
      "state": {
       "description_width": ""
      }
     },
     "5b33b0cec4d14bc98b61f614ebd2aa91": {
      "model_module": "@jupyter-widgets/controls",
      "model_module_version": "1.5.0",
      "model_name": "FloatSliderModel",
      "state": {
       "description": "Valor de a",
       "layout": "IPY_MODEL_2c3c50fe2a3b406d802da3b579987817",
       "max": 10,
       "min": -10,
       "readout_format": ".1f",
       "step": 0.1,
       "style": "IPY_MODEL_d08bf30e5ba24dc9bc9212b78615ac1a"
      }
     },
     "5be7faa7f939494baf0cf6d270bbc003": {
      "model_module": "@jupyter-widgets/base",
      "model_module_version": "1.2.0",
      "model_name": "LayoutModel",
      "state": {}
     },
     "5dad1edce9a74ddfb52be42badda29de": {
      "model_module": "@jupyter-widgets/controls",
      "model_module_version": "1.5.0",
      "model_name": "DescriptionStyleModel",
      "state": {
       "description_width": ""
      }
     },
     "5fb03c5a8aab4709b24bb31ceac7f581": {
      "model_module": "@jupyter-widgets/controls",
      "model_module_version": "1.5.0",
      "model_name": "SliderStyleModel",
      "state": {
       "description_width": ""
      }
     },
     "6014a63eb77e4d29a117b1fe52880ad9": {
      "model_module": "@jupyter-widgets/controls",
      "model_module_version": "1.5.0",
      "model_name": "FloatSliderModel",
      "state": {
       "description": "Valor de a",
       "layout": "IPY_MODEL_24a0b34edf5f423b8b713de91f4d6233",
       "max": 10,
       "min": -10,
       "readout_format": ".1f",
       "step": 0.1,
       "style": "IPY_MODEL_5fb03c5a8aab4709b24bb31ceac7f581",
       "value": 1.2
      }
     },
     "618dab411bff49b39594e7edeb98aa5f": {
      "model_module": "@jupyter-widgets/controls",
      "model_module_version": "1.5.0",
      "model_name": "RadioButtonsModel",
      "state": {
       "_options_labels": [
        "f(x) = 3x+4",
        "f(x) = x ",
        "f(x) = 2x+2",
        "f(x) = 5x"
       ],
       "index": 0,
       "layout": "IPY_MODEL_d5599a5a6a1a4733ad6071fcfa0fbc21",
       "style": "IPY_MODEL_76128194e878414795119b17434b9d53"
      }
     },
     "6229376b4340444eb32d9200c4e8fd60": {
      "model_module": "@jupyter-widgets/base",
      "model_module_version": "1.2.0",
      "model_name": "LayoutModel",
      "state": {}
     },
     "6687057dd2ce4fd59be9795ee195d7f6": {
      "model_module": "@jupyter-widgets/base",
      "model_module_version": "1.2.0",
      "model_name": "LayoutModel",
      "state": {}
     },
     "699d64b10e3f421b9b6666cfe2c178c7": {
      "model_module": "@jupyter-widgets/controls",
      "model_module_version": "1.5.0",
      "model_name": "DescriptionStyleModel",
      "state": {
       "description_width": ""
      }
     },
     "6a68db1d9c2d40db82461bcb18819c3b": {
      "model_module": "@jupyter-widgets/controls",
      "model_module_version": "1.5.0",
      "model_name": "RadioButtonsModel",
      "state": {
       "_options_labels": [
        "f(x) = 3x+4",
        "f(x) = x ",
        "f(x) = 2x+2",
        "f(x) = 5x"
       ],
       "index": 0,
       "layout": "IPY_MODEL_2ed18b033b76400ca7a9464dccb30dd8",
       "style": "IPY_MODEL_73b0d8b47d064f8eae4b6abb9ee5a7d8"
      }
     },
     "6b23fd77d05c47e8a2edc2ce288d8f7b": {
      "model_module": "@jupyter-widgets/controls",
      "model_module_version": "1.5.0",
      "model_name": "RadioButtonsModel",
      "state": {
       "_options_labels": [
        "f(x) = 3x+4",
        "f(x) = x ",
        "f(x) = 2x+2",
        "f(x) = 5x"
       ],
       "index": 1,
       "layout": "IPY_MODEL_ba4d33c0d3304f8fad1058077d0606a9",
       "style": "IPY_MODEL_00cdbac9d9bc4809b29830193f6626fe"
      }
     },
     "6de9af3f8db347eca34f1983b10fec98": {
      "model_module": "@jupyter-widgets/controls",
      "model_module_version": "1.5.0",
      "model_name": "FloatSliderModel",
      "state": {
       "description": "Valor de a",
       "layout": "IPY_MODEL_5be7faa7f939494baf0cf6d270bbc003",
       "max": 10,
       "min": -10,
       "readout_format": ".1f",
       "step": 0.1,
       "style": "IPY_MODEL_52d64d34c022449291e8e103dfb82b71",
       "value": -2.7
      }
     },
     "6f8eb83eb6aa41ec9098480f4de62acb": {
      "model_module": "@jupyter-widgets/base",
      "model_module_version": "1.2.0",
      "model_name": "LayoutModel",
      "state": {}
     },
     "70e2c7256a3b4fd28f8fe29b6d1d2e54": {
      "model_module": "@jupyter-widgets/controls",
      "model_module_version": "1.5.0",
      "model_name": "DescriptionStyleModel",
      "state": {
       "description_width": ""
      }
     },
     "7198c6079bbf4564ab9d255add8253ed": {
      "model_module": "@jupyter-widgets/controls",
      "model_module_version": "1.5.0",
      "model_name": "RadioButtonsModel",
      "state": {
       "_options_labels": [
        "Gráfico 1",
        "Gráfico 2",
        "Gráfico 3",
        "Gráfico 4"
       ],
       "index": 2,
       "layout": "IPY_MODEL_d5790b912b0947ef8392227b57966175",
       "style": "IPY_MODEL_28346865b8ef47c8b627dd9882ede4b3"
      }
     },
     "73b0d8b47d064f8eae4b6abb9ee5a7d8": {
      "model_module": "@jupyter-widgets/controls",
      "model_module_version": "1.5.0",
      "model_name": "DescriptionStyleModel",
      "state": {
       "description_width": ""
      }
     },
     "741f0f396c28474c90eba973ae871bc2": {
      "model_module": "@jupyter-widgets/controls",
      "model_module_version": "1.5.0",
      "model_name": "DescriptionStyleModel",
      "state": {
       "description_width": ""
      }
     },
     "76128194e878414795119b17434b9d53": {
      "model_module": "@jupyter-widgets/controls",
      "model_module_version": "1.5.0",
      "model_name": "DescriptionStyleModel",
      "state": {
       "description_width": ""
      }
     },
     "78913c7e19204fdba934a1a9d1fdfb3a": {
      "model_module": "@jupyter-widgets/base",
      "model_module_version": "1.2.0",
      "model_name": "LayoutModel",
      "state": {}
     },
     "7b27afa8df724872962d4904f556535c": {
      "model_module": "@jupyter-widgets/base",
      "model_module_version": "1.2.0",
      "model_name": "LayoutModel",
      "state": {}
     },
     "7e02bddb701e4cc6bf74f944bc633851": {
      "model_module": "@jupyter-widgets/controls",
      "model_module_version": "1.5.0",
      "model_name": "RadioButtonsModel",
      "state": {
       "_options_labels": [
        "F(x) = 3x+4",
        "F(x) = x ",
        "F(x) = 2x+2",
        "F(x) = 5x"
       ],
       "index": 0,
       "layout": "IPY_MODEL_7b27afa8df724872962d4904f556535c",
       "style": "IPY_MODEL_cffa5957808e4baaaf8de7083ba764cb"
      }
     },
     "7f91fe59caf440e998ac6f73b2eef565": {
      "model_module": "@jupyter-widgets/controls",
      "model_module_version": "1.5.0",
      "model_name": "FloatSliderModel",
      "state": {
       "description": "Valor de b",
       "layout": "IPY_MODEL_34c84bbfefcf443bbb558caf4e291ff1",
       "max": 10,
       "min": -10,
       "readout_format": ".1f",
       "step": 0.1,
       "style": "IPY_MODEL_122fcde8e8554b689fd1fb332476f9b0"
      }
     },
     "80a8025729c6489397370e4412adf13f": {
      "model_module": "@jupyter-widgets/controls",
      "model_module_version": "1.5.0",
      "model_name": "DescriptionStyleModel",
      "state": {
       "description_width": ""
      }
     },
     "80ba5e83041d4bd78ddde678b141af78": {
      "model_module": "@jupyter-widgets/base",
      "model_module_version": "1.2.0",
      "model_name": "LayoutModel",
      "state": {}
     },
     "81fd2d226aeb445aa46a35faa9ce0d57": {
      "model_module": "@jupyter-widgets/controls",
      "model_module_version": "1.5.0",
      "model_name": "IntSliderModel",
      "state": {
       "description": "Valor de a",
       "layout": "IPY_MODEL_db1388f5e2214f6b8baff144d6df43c4",
       "max": 10,
       "min": -10,
       "readout_format": ".1f",
       "step": 0,
       "style": "IPY_MODEL_4d83f33c800e410ca1f8d04ee100ee70"
      }
     },
     "8601a6c536a1477abab5843ebb3609a6": {
      "model_module": "@jupyter-widgets/controls",
      "model_module_version": "1.5.0",
      "model_name": "DescriptionStyleModel",
      "state": {
       "description_width": ""
      }
     },
     "867067f24e4249b09f6b35362252427f": {
      "model_module": "@jupyter-widgets/controls",
      "model_module_version": "1.5.0",
      "model_name": "DescriptionStyleModel",
      "state": {
       "description_width": ""
      }
     },
     "87358a724892484693a4f24713f73f98": {
      "model_module": "@jupyter-widgets/controls",
      "model_module_version": "1.5.0",
      "model_name": "DescriptionStyleModel",
      "state": {
       "description_width": ""
      }
     },
     "88a1d0ddcbfb40ddbf646c1c59cddf41": {
      "model_module": "@jupyter-widgets/controls",
      "model_module_version": "1.5.0",
      "model_name": "DescriptionStyleModel",
      "state": {
       "description_width": ""
      }
     },
     "88eb33bfcee84b2084d6bb8bbf0bc6c4": {
      "model_module": "@jupyter-widgets/controls",
      "model_module_version": "1.5.0",
      "model_name": "SliderStyleModel",
      "state": {
       "description_width": ""
      }
     },
     "89414d7608104ea4ad80d35cdc21ab99": {
      "model_module": "@jupyter-widgets/controls",
      "model_module_version": "1.5.0",
      "model_name": "DescriptionStyleModel",
      "state": {
       "description_width": ""
      }
     },
     "899519165c1e44328ef670be48e306b3": {
      "model_module": "@jupyter-widgets/controls",
      "model_module_version": "1.5.0",
      "model_name": "DescriptionStyleModel",
      "state": {
       "description_width": ""
      }
     },
     "8a68d7af2858410fbf455183c8d9e54d": {
      "model_module": "@jupyter-widgets/controls",
      "model_module_version": "1.5.0",
      "model_name": "RadioButtonsModel",
      "state": {
       "_options_labels": [
        "F(x) = 3x+4",
        "F(x) = x ",
        "F(x) = 2x+2",
        "F(x) = 5x"
       ],
       "index": 2,
       "layout": "IPY_MODEL_a3fd043701394150b48c3aa05cff18f1",
       "style": "IPY_MODEL_a866e223bfd54f97888cb8a37e6d7aab"
      }
     },
     "8d172c365bbc4e63b9a78ed430bb1b38": {
      "model_module": "@jupyter-widgets/controls",
      "model_module_version": "1.5.0",
      "model_name": "RadioButtonsModel",
      "state": {
       "_options_labels": [
        "Gráfico 1",
        "Gráfico 2",
        "Gráfico 3",
        "Gráfico 4"
       ],
       "index": 0,
       "layout": "IPY_MODEL_3fdaef27c7fa4f66892e5a31f9e4f073",
       "style": "IPY_MODEL_3eecbb497e38420e91a6a9c88acf80e4"
      }
     },
     "8e4b08687ffa4aa2b61c0d9c64bf861a": {
      "model_module": "@jupyter-widgets/controls",
      "model_module_version": "1.5.0",
      "model_name": "RadioButtonsModel",
      "state": {
       "_options_labels": [
        "f(x) = 3x+4",
        "f(x) = x ",
        "f(x) = 2x+2",
        "f(x) = 5x"
       ],
       "index": 0,
       "layout": "IPY_MODEL_01b06656adcd4f30a23e499305dd705d",
       "style": "IPY_MODEL_362f94e3418f4f46bcf0b6569600a311"
      }
     },
     "8f57d060c3bb4ae18191de67cad1f357": {
      "model_module": "@jupyter-widgets/controls",
      "model_module_version": "1.5.0",
      "model_name": "DescriptionStyleModel",
      "state": {
       "description_width": ""
      }
     },
     "91242c85189a4de7a64ce7d5ffc21ac0": {
      "model_module": "@jupyter-widgets/controls",
      "model_module_version": "1.5.0",
      "model_name": "RadioButtonsModel",
      "state": {
       "_options_labels": [
        "f(x) = 3x+4",
        "f(x) = x ",
        "f(x) = 2x+2",
        "f(x) = 5x"
       ],
       "index": 0,
       "layout": "IPY_MODEL_914aeb7d22b14519a917d062be7aa151",
       "style": "IPY_MODEL_47fb741b0e104fa68012b320c412da99"
      }
     },
     "914aeb7d22b14519a917d062be7aa151": {
      "model_module": "@jupyter-widgets/base",
      "model_module_version": "1.2.0",
      "model_name": "LayoutModel",
      "state": {}
     },
     "91d6dd527dd649ba9b1f0241b02b0b9f": {
      "model_module": "@jupyter-widgets/controls",
      "model_module_version": "1.5.0",
      "model_name": "RadioButtonsModel",
      "state": {
       "_options_labels": [
        "F(x) = 7x+4",
        "F(x) = 4 ",
        "F(x) = 2",
        "F(x) = 10"
       ],
       "index": 1,
       "layout": "IPY_MODEL_5003f0648ca54b478d4117d8609b123b",
       "style": "IPY_MODEL_8601a6c536a1477abab5843ebb3609a6"
      }
     },
     "93f07fe67e8e4b5ebbbf167632ba85b6": {
      "model_module": "@jupyter-widgets/controls",
      "model_module_version": "1.5.0",
      "model_name": "RadioButtonsModel",
      "state": {
       "_options_labels": [
        "f(x) = 3x+4",
        "f(x) = x ",
        "f(x) = 2x+2",
        "f(x) = 5x"
       ],
       "index": 0,
       "layout": "IPY_MODEL_535ac69900534050a1d5a3fb257582b9",
       "style": "IPY_MODEL_89414d7608104ea4ad80d35cdc21ab99"
      }
     },
     "9726afea4c684fdab72271e9b5d6e89c": {
      "model_module": "@jupyter-widgets/controls",
      "model_module_version": "1.5.0",
      "model_name": "FloatSliderModel",
      "state": {
       "description": "Valor de a",
       "layout": "IPY_MODEL_287d324e558445efb782232cf6fe8f22",
       "max": 10,
       "min": -10,
       "readout_format": ".1f",
       "step": 0.1,
       "style": "IPY_MODEL_b7ee0328deb64adab37e21972767044b"
      }
     },
     "99d3b9b50308441daee57cf5fde5dd6f": {
      "model_module": "@jupyter-widgets/base",
      "model_module_version": "1.2.0",
      "model_name": "LayoutModel",
      "state": {}
     },
     "99dfa8a1aabd4697a3ce06ddfee8c439": {
      "model_module": "@jupyter-widgets/controls",
      "model_module_version": "1.5.0",
      "model_name": "RadioButtonsModel",
      "state": {
       "_options_labels": [
        "F(x) = 3x+4",
        "F(x) = x ",
        "F(x) = 2x+2",
        "F(x) = 5x"
       ],
       "index": 3,
       "layout": "IPY_MODEL_de621b701af548cda93492ebd788619d",
       "style": "IPY_MODEL_b6ad853b55e54922b7046148c809eac0"
      }
     },
     "9c9949109e0242a69e271d44871bfbe0": {
      "model_module": "@jupyter-widgets/base",
      "model_module_version": "1.2.0",
      "model_name": "LayoutModel",
      "state": {}
     },
     "9e2c509432a741d09bd3dda5a1ca12a8": {
      "model_module": "@jupyter-widgets/controls",
      "model_module_version": "1.5.0",
      "model_name": "RadioButtonsModel",
      "state": {
       "_options_labels": [
        "F(x) = 7x+4",
        "F(x) = 4 ",
        "F(x) = 2",
        "F(x) = 10"
       ],
       "index": 0,
       "layout": "IPY_MODEL_f7413d4ae93a40fa84d1840c1784e90d",
       "style": "IPY_MODEL_5710180b60af40a19210764aafde2260"
      }
     },
     "9f0011abeb534624b14d5673955f06b7": {
      "model_module": "@jupyter-widgets/controls",
      "model_module_version": "1.5.0",
      "model_name": "RadioButtonsModel",
      "state": {
       "_options_labels": [
        "F(x) = 3x+4",
        "F(x) = x ",
        "F(x) = 2x+2",
        "F(x) = 5x"
       ],
       "index": 0,
       "layout": "IPY_MODEL_80ba5e83041d4bd78ddde678b141af78",
       "style": "IPY_MODEL_a2dd4924121049babedaa9a0cc790c6a"
      }
     },
     "a02015a743d94c258962cc62f1a30055": {
      "model_module": "@jupyter-widgets/controls",
      "model_module_version": "1.5.0",
      "model_name": "SliderStyleModel",
      "state": {
       "description_width": ""
      }
     },
     "a087d1ade0f64166a45cabf3d644a539": {
      "model_module": "@jupyter-widgets/controls",
      "model_module_version": "1.5.0",
      "model_name": "DescriptionStyleModel",
      "state": {
       "description_width": ""
      }
     },
     "a11d498305ec49149df7ff75cf3e8069": {
      "model_module": "@jupyter-widgets/controls",
      "model_module_version": "1.5.0",
      "model_name": "RadioButtonsModel",
      "state": {
       "_options_labels": [
        "F(x) = 3x+4",
        "F(x) = x ",
        "F(x) = 2x+2",
        "F(x) = 5x"
       ],
       "index": 0,
       "layout": "IPY_MODEL_1e0a65ebf6bb46319b907fa22257a621",
       "style": "IPY_MODEL_d412cd7e973d4a1882c228363509f1c5"
      }
     },
     "a19bb194b5f54171aa1078350f48f3b6": {
      "model_module": "@jupyter-widgets/controls",
      "model_module_version": "1.5.0",
      "model_name": "RadioButtonsModel",
      "state": {
       "_options_labels": [
        "F(x) = 7x+4",
        "F(x) = 4 ",
        "F(x) = 2",
        "F(x) = 10"
       ],
       "index": 0,
       "layout": "IPY_MODEL_b7b2fa7ec4d947e284be2b5c1204193a",
       "style": "IPY_MODEL_80a8025729c6489397370e4412adf13f"
      }
     },
     "a1fa5f0f4d9f4208a48b37e9d9f1a20d": {
      "model_module": "@jupyter-widgets/controls",
      "model_module_version": "1.5.0",
      "model_name": "SliderStyleModel",
      "state": {
       "description_width": ""
      }
     },
     "a2dd4924121049babedaa9a0cc790c6a": {
      "model_module": "@jupyter-widgets/controls",
      "model_module_version": "1.5.0",
      "model_name": "DescriptionStyleModel",
      "state": {
       "description_width": ""
      }
     },
     "a3fd043701394150b48c3aa05cff18f1": {
      "model_module": "@jupyter-widgets/base",
      "model_module_version": "1.2.0",
      "model_name": "LayoutModel",
      "state": {}
     },
     "a401c51d2a7a477a9302eb5ff61cac79": {
      "model_module": "@jupyter-widgets/controls",
      "model_module_version": "1.5.0",
      "model_name": "RadioButtonsModel",
      "state": {
       "_options_labels": [
        "f(x) = 3x+4",
        "f(x) = x ",
        "f(x) = 2x+2",
        "f(x) = 5x"
       ],
       "index": 0,
       "layout": "IPY_MODEL_78913c7e19204fdba934a1a9d1fdfb3a",
       "style": "IPY_MODEL_c3573c97eed847909941e33e0c154682"
      }
     },
     "a5392241507446aab19481c725f98fd9": {
      "model_module": "@jupyter-widgets/controls",
      "model_module_version": "1.5.0",
      "model_name": "SliderStyleModel",
      "state": {
       "description_width": ""
      }
     },
     "a69512c3781445a6ad1627f3f1482d8b": {
      "model_module": "@jupyter-widgets/controls",
      "model_module_version": "1.5.0",
      "model_name": "DescriptionStyleModel",
      "state": {
       "description_width": ""
      }
     },
     "a822e8e1917b45ec833441239b647c80": {
      "model_module": "@jupyter-widgets/controls",
      "model_module_version": "1.5.0",
      "model_name": "RadioButtonsModel",
      "state": {
       "_options_labels": [
        "F(x) = 7x+4",
        "F(x) = 4 ",
        "F(x) = 2",
        "F(x) = 10"
       ],
       "index": 0,
       "layout": "IPY_MODEL_c252fafaecc24db48cccac6a61a35079",
       "style": "IPY_MODEL_178f2447b0554104a81650313fb30453"
      }
     },
     "a866e223bfd54f97888cb8a37e6d7aab": {
      "model_module": "@jupyter-widgets/controls",
      "model_module_version": "1.5.0",
      "model_name": "DescriptionStyleModel",
      "state": {
       "description_width": ""
      }
     },
     "ae2fa3749b854bb2a7c39455f01c48d5": {
      "model_module": "@jupyter-widgets/base",
      "model_module_version": "1.2.0",
      "model_name": "LayoutModel",
      "state": {}
     },
     "af24cbce13bb44fb80681567a9e0ee5d": {
      "model_module": "@jupyter-widgets/base",
      "model_module_version": "1.2.0",
      "model_name": "LayoutModel",
      "state": {}
     },
     "b1f8b5b154cb4ceca9cfb8e57ed0bb92": {
      "model_module": "@jupyter-widgets/controls",
      "model_module_version": "1.5.0",
      "model_name": "RadioButtonsModel",
      "state": {
       "_options_labels": [
        "Gráfico 1",
        "Gráfico 2",
        "Gráfico 3",
        "Gráfico 4"
       ],
       "index": 0,
       "layout": "IPY_MODEL_0df712d30f2c4b3b9a16b228bf3a5438",
       "style": "IPY_MODEL_a69512c3781445a6ad1627f3f1482d8b"
      }
     },
     "b253de2145e24725b8942cb9f5fe26b3": {
      "model_module": "@jupyter-widgets/base",
      "model_module_version": "1.2.0",
      "model_name": "LayoutModel",
      "state": {}
     },
     "b3d9ae9f21ee4e12b86b513b11280d06": {
      "model_module": "@jupyter-widgets/base",
      "model_module_version": "1.2.0",
      "model_name": "LayoutModel",
      "state": {}
     },
     "b6ad853b55e54922b7046148c809eac0": {
      "model_module": "@jupyter-widgets/controls",
      "model_module_version": "1.5.0",
      "model_name": "DescriptionStyleModel",
      "state": {
       "description_width": ""
      }
     },
     "b73738fb9826423db99925258c1db27d": {
      "model_module": "@jupyter-widgets/controls",
      "model_module_version": "1.5.0",
      "model_name": "RadioButtonsModel",
      "state": {
       "_options_labels": [
        "F(x) = 7x+4",
        "F(x) = 4 ",
        "F(x) = 2",
        "F(x) = 10"
       ],
       "index": 0,
       "layout": "IPY_MODEL_28567ad734b742e6943227a2fea9b55e",
       "style": "IPY_MODEL_32e60060ba4748c9a9ff4702797abc98"
      }
     },
     "b7b2fa7ec4d947e284be2b5c1204193a": {
      "model_module": "@jupyter-widgets/base",
      "model_module_version": "1.2.0",
      "model_name": "LayoutModel",
      "state": {}
     },
     "b7ee0328deb64adab37e21972767044b": {
      "model_module": "@jupyter-widgets/controls",
      "model_module_version": "1.5.0",
      "model_name": "SliderStyleModel",
      "state": {
       "description_width": ""
      }
     },
     "b80293be7445447994b96e202ccbee51": {
      "model_module": "@jupyter-widgets/base",
      "model_module_version": "1.2.0",
      "model_name": "LayoutModel",
      "state": {}
     },
     "b8600eb32a9f485385ee93d5a908d0a4": {
      "model_module": "@jupyter-widgets/base",
      "model_module_version": "1.2.0",
      "model_name": "LayoutModel",
      "state": {}
     },
     "b990329a0ee9465080bcf8e8299fe2ba": {
      "model_module": "@jupyter-widgets/base",
      "model_module_version": "1.2.0",
      "model_name": "LayoutModel",
      "state": {}
     },
     "ba4d33c0d3304f8fad1058077d0606a9": {
      "model_module": "@jupyter-widgets/base",
      "model_module_version": "1.2.0",
      "model_name": "LayoutModel",
      "state": {}
     },
     "be36b9e02ca84499902eac451dbed6b3": {
      "model_module": "@jupyter-widgets/base",
      "model_module_version": "1.2.0",
      "model_name": "LayoutModel",
      "state": {}
     },
     "c0fd81a415984cef972d7616bab3362f": {
      "model_module": "@jupyter-widgets/base",
      "model_module_version": "1.2.0",
      "model_name": "LayoutModel",
      "state": {}
     },
     "c252fafaecc24db48cccac6a61a35079": {
      "model_module": "@jupyter-widgets/base",
      "model_module_version": "1.2.0",
      "model_name": "LayoutModel",
      "state": {}
     },
     "c3573c97eed847909941e33e0c154682": {
      "model_module": "@jupyter-widgets/controls",
      "model_module_version": "1.5.0",
      "model_name": "DescriptionStyleModel",
      "state": {
       "description_width": ""
      }
     },
     "c6fa20684a314a598f93cecf0333abbc": {
      "model_module": "@jupyter-widgets/controls",
      "model_module_version": "1.5.0",
      "model_name": "RadioButtonsModel",
      "state": {
       "_options_labels": [
        "F(x) = 7x+4",
        "F(x) = 4 ",
        "F(x) = 2",
        "F(x) = 10"
       ],
       "index": 0,
       "layout": "IPY_MODEL_0a56838cb2ce493eb48c93d475f1eef6",
       "style": "IPY_MODEL_02a8594f66a540d29e65e38e93ea7297"
      }
     },
     "c9675b55ba644e028f73716e9f3cdb75": {
      "model_module": "@jupyter-widgets/controls",
      "model_module_version": "1.5.0",
      "model_name": "DescriptionStyleModel",
      "state": {
       "description_width": ""
      }
     },
     "cb05558ae46f44f69d8cebe9f0e5487f": {
      "model_module": "@jupyter-widgets/base",
      "model_module_version": "1.2.0",
      "model_name": "LayoutModel",
      "state": {}
     },
     "cbcdc194165345589257110731d6779c": {
      "model_module": "@jupyter-widgets/base",
      "model_module_version": "1.2.0",
      "model_name": "LayoutModel",
      "state": {}
     },
     "ccfb051fc35d4511ac556520234cfd4a": {
      "model_module": "@jupyter-widgets/controls",
      "model_module_version": "1.5.0",
      "model_name": "RadioButtonsModel",
      "state": {
       "_options_labels": [
        "F(x) = 3x+4",
        "F(x) = x ",
        "F(x) = 2x+2",
        "F(x) = 5x"
       ],
       "index": 2,
       "layout": "IPY_MODEL_cbcdc194165345589257110731d6779c",
       "style": "IPY_MODEL_2115a79ea62f48c0871d55611e1432b0"
      }
     },
     "cd453d8027c143b9990f3dc7b6f6dd78": {
      "model_module": "@jupyter-widgets/controls",
      "model_module_version": "1.5.0",
      "model_name": "RadioButtonsModel",
      "state": {
       "_options_labels": [
        "f(x) = 3x+4",
        "f(x) = x ",
        "f(x) = 2x+2",
        "f(x) = 5x"
       ],
       "index": 0,
       "layout": "IPY_MODEL_54ba1608527e47cb861396f2338845e9",
       "style": "IPY_MODEL_2471d843c91c4bf39fb380bb97a53a73"
      }
     },
     "cdc138676b574437805115f49ad23c48": {
      "model_module": "@jupyter-widgets/controls",
      "model_module_version": "1.5.0",
      "model_name": "RadioButtonsModel",
      "state": {
       "_options_labels": [
        "F(x) = 3x+4",
        "F(x) = x ",
        "F(x) = 2x+2",
        "F(x) = 5x"
       ],
       "index": 2,
       "layout": "IPY_MODEL_fb6962c5f1074be2b708473505e6cbca",
       "style": "IPY_MODEL_ee5af7865c894aba8bb6acbc3126b9bc"
      }
     },
     "ce5b89f0049141aaa6d356fd27cb09b1": {
      "model_module": "@jupyter-widgets/base",
      "model_module_version": "1.2.0",
      "model_name": "LayoutModel",
      "state": {}
     },
     "cee1a796aae34d2a832ea34029471e20": {
      "model_module": "@jupyter-widgets/base",
      "model_module_version": "1.2.0",
      "model_name": "LayoutModel",
      "state": {}
     },
     "cffa5957808e4baaaf8de7083ba764cb": {
      "model_module": "@jupyter-widgets/controls",
      "model_module_version": "1.5.0",
      "model_name": "DescriptionStyleModel",
      "state": {
       "description_width": ""
      }
     },
     "d08bf30e5ba24dc9bc9212b78615ac1a": {
      "model_module": "@jupyter-widgets/controls",
      "model_module_version": "1.5.0",
      "model_name": "SliderStyleModel",
      "state": {
       "description_width": ""
      }
     },
     "d09bee834c9f42c58920397ad017007f": {
      "model_module": "@jupyter-widgets/controls",
      "model_module_version": "1.5.0",
      "model_name": "SliderStyleModel",
      "state": {
       "description_width": ""
      }
     },
     "d412cd7e973d4a1882c228363509f1c5": {
      "model_module": "@jupyter-widgets/controls",
      "model_module_version": "1.5.0",
      "model_name": "DescriptionStyleModel",
      "state": {
       "description_width": ""
      }
     },
     "d5599a5a6a1a4733ad6071fcfa0fbc21": {
      "model_module": "@jupyter-widgets/base",
      "model_module_version": "1.2.0",
      "model_name": "LayoutModel",
      "state": {}
     },
     "d5790b912b0947ef8392227b57966175": {
      "model_module": "@jupyter-widgets/base",
      "model_module_version": "1.2.0",
      "model_name": "LayoutModel",
      "state": {}
     },
     "da8e6cb5a5fb4496b394c1f5b1dd6870": {
      "model_module": "@jupyter-widgets/controls",
      "model_module_version": "1.5.0",
      "model_name": "DescriptionStyleModel",
      "state": {
       "description_width": ""
      }
     },
     "db1388f5e2214f6b8baff144d6df43c4": {
      "model_module": "@jupyter-widgets/base",
      "model_module_version": "1.2.0",
      "model_name": "LayoutModel",
      "state": {}
     },
     "dd8e7ecd864840eaaf6f142d20c3eaf3": {
      "model_module": "@jupyter-widgets/base",
      "model_module_version": "1.2.0",
      "model_name": "LayoutModel",
      "state": {}
     },
     "de621b701af548cda93492ebd788619d": {
      "model_module": "@jupyter-widgets/base",
      "model_module_version": "1.2.0",
      "model_name": "LayoutModel",
      "state": {}
     },
     "e7c2c991edc44e0187b32ef3b2e9d4f5": {
      "model_module": "@jupyter-widgets/controls",
      "model_module_version": "1.5.0",
      "model_name": "DescriptionStyleModel",
      "state": {
       "description_width": ""
      }
     },
     "e8463ebcaef64ce78a35b5c0659f829d": {
      "model_module": "@jupyter-widgets/controls",
      "model_module_version": "1.5.0",
      "model_name": "RadioButtonsModel",
      "state": {
       "_options_labels": [
        "F(x) = 7x+4",
        "F(x) = 4 ",
        "F(x) = 2",
        "F(x) = 10"
       ],
       "index": 0,
       "layout": "IPY_MODEL_cee1a796aae34d2a832ea34029471e20",
       "style": "IPY_MODEL_552407201ebc4af7b509cb70f9783090"
      }
     },
     "ea9fbc7f42f842858c75d6ba68576fd1": {
      "model_module": "@jupyter-widgets/base",
      "model_module_version": "1.2.0",
      "model_name": "LayoutModel",
      "state": {}
     },
     "eb25784706d74f308d198faf2f59a70d": {
      "model_module": "@jupyter-widgets/controls",
      "model_module_version": "1.5.0",
      "model_name": "RadioButtonsModel",
      "state": {
       "_options_labels": [
        "f(x) = 3x+4",
        "f(x) = x ",
        "f(x) = 2x+2",
        "f(x) = 5x"
       ],
       "index": 0,
       "layout": "IPY_MODEL_ee6c0246033b4c27905c05ce0f6f7fe8",
       "style": "IPY_MODEL_1343688f37764af9bbff8285d81c0555"
      }
     },
     "ec1212d0a0ea4edfb7825ed7f035cf1b": {
      "model_module": "@jupyter-widgets/controls",
      "model_module_version": "1.5.0",
      "model_name": "RadioButtonsModel",
      "state": {
       "_options_labels": [
        "10",
        "11",
        "22",
        "48"
       ],
       "index": 0,
       "layout": "IPY_MODEL_c0fd81a415984cef972d7616bab3362f",
       "style": "IPY_MODEL_09f7c36ac668474886a5f9489faaf174"
      }
     },
     "ecf0df19a6f0424598784c6544020745": {
      "model_module": "@jupyter-widgets/controls",
      "model_module_version": "1.5.0",
      "model_name": "RadioButtonsModel",
      "state": {
       "_options_labels": [
        "f(x) = 3x+4",
        "f(x) = x ",
        "f(x) = 2x+2",
        "f(x) = 5x"
       ],
       "index": 0,
       "layout": "IPY_MODEL_6687057dd2ce4fd59be9795ee195d7f6",
       "style": "IPY_MODEL_24bc3138f55148b88bd19bb743991bd8"
      }
     },
     "ee5af7865c894aba8bb6acbc3126b9bc": {
      "model_module": "@jupyter-widgets/controls",
      "model_module_version": "1.5.0",
      "model_name": "DescriptionStyleModel",
      "state": {
       "description_width": ""
      }
     },
     "ee6c0246033b4c27905c05ce0f6f7fe8": {
      "model_module": "@jupyter-widgets/base",
      "model_module_version": "1.2.0",
      "model_name": "LayoutModel",
      "state": {}
     },
     "ef7ab75cdc7943e987ecc55a5cc7b2c1": {
      "model_module": "@jupyter-widgets/controls",
      "model_module_version": "1.5.0",
      "model_name": "RadioButtonsModel",
      "state": {
       "_options_labels": [
        "F(x) = 7x+4",
        "F(x) = 4 ",
        "F(x) = 2",
        "F(x) = 10"
       ],
       "index": 0,
       "layout": "IPY_MODEL_6f8eb83eb6aa41ec9098480f4de62acb",
       "style": "IPY_MODEL_8f57d060c3bb4ae18191de67cad1f357"
      }
     },
     "f131e77e4ed9422889d1bd7246f300cb": {
      "model_module": "@jupyter-widgets/controls",
      "model_module_version": "1.5.0",
      "model_name": "RadioButtonsModel",
      "state": {
       "_options_labels": [
        "F(x) = 3x+4",
        "F(x) = x ",
        "F(x) = 2x+2",
        "F(x) = 5x"
       ],
       "index": 0,
       "layout": "IPY_MODEL_dd8e7ecd864840eaaf6f142d20c3eaf3",
       "style": "IPY_MODEL_741f0f396c28474c90eba973ae871bc2"
      }
     },
     "f146a78516a24eb3b875fbcbb5fa6f58": {
      "model_module": "@jupyter-widgets/controls",
      "model_module_version": "1.5.0",
      "model_name": "RadioButtonsModel",
      "state": {
       "_options_labels": [
        "F(x) = 3x+4",
        "F(x) = x ",
        "F(x) = 2x+2",
        "F(x) = 5x"
       ],
       "index": 0,
       "layout": "IPY_MODEL_ae2fa3749b854bb2a7c39455f01c48d5",
       "style": "IPY_MODEL_70e2c7256a3b4fd28f8fe29b6d1d2e54"
      }
     },
     "f24aaa305b724234b3c418f1e5c1822b": {
      "model_module": "@jupyter-widgets/controls",
      "model_module_version": "1.5.0",
      "model_name": "RadioButtonsModel",
      "state": {
       "_options_labels": [
        "F(x) = 3x+4",
        "F(x) = x ",
        "F(x) = 2x+2",
        "F(x) = 5x"
       ],
       "index": 0,
       "layout": "IPY_MODEL_ce5b89f0049141aaa6d356fd27cb09b1",
       "style": "IPY_MODEL_88a1d0ddcbfb40ddbf646c1c59cddf41"
      }
     },
     "f25c6c4b92394cb39eabb59e5a6bee92": {
      "model_module": "@jupyter-widgets/controls",
      "model_module_version": "1.5.0",
      "model_name": "DescriptionStyleModel",
      "state": {
       "description_width": ""
      }
     },
     "f3fe57487bf24def871c2f9b15a5c210": {
      "model_module": "@jupyter-widgets/base",
      "model_module_version": "1.2.0",
      "model_name": "LayoutModel",
      "state": {}
     },
     "f5defbf786634708924a0dd3e6bf8bc1": {
      "model_module": "@jupyter-widgets/controls",
      "model_module_version": "1.5.0",
      "model_name": "RadioButtonsModel",
      "state": {
       "_options_labels": [
        "F(x) = 3x+4",
        "F(x) = x ",
        "F(x) = 2x+2",
        "F(x) = 5x"
       ],
       "index": 0,
       "layout": "IPY_MODEL_be36b9e02ca84499902eac451dbed6b3",
       "style": "IPY_MODEL_e7c2c991edc44e0187b32ef3b2e9d4f5"
      }
     },
     "f7413d4ae93a40fa84d1840c1784e90d": {
      "model_module": "@jupyter-widgets/base",
      "model_module_version": "1.2.0",
      "model_name": "LayoutModel",
      "state": {}
     },
     "fab2b1e249d34b8bab82c551787785c6": {
      "model_module": "@jupyter-widgets/controls",
      "model_module_version": "1.5.0",
      "model_name": "SliderStyleModel",
      "state": {
       "description_width": ""
      }
     },
     "fb6962c5f1074be2b708473505e6cbca": {
      "model_module": "@jupyter-widgets/base",
      "model_module_version": "1.2.0",
      "model_name": "LayoutModel",
      "state": {}
     },
     "fbcb244f423145998da16908eac4e11c": {
      "model_module": "@jupyter-widgets/controls",
      "model_module_version": "1.5.0",
      "model_name": "FloatSliderModel",
      "state": {
       "description": "Valor de a",
       "layout": "IPY_MODEL_3f9bd259ac804d7cbb82e507d3d5dd63",
       "max": 10,
       "min": -10,
       "readout_format": ".1f",
       "step": 0.1,
       "style": "IPY_MODEL_a5392241507446aab19481c725f98fd9",
       "value": 0.3
      }
     },
     "fdcba6961eca4b6bb1fb5f71718135b6": {
      "model_module": "@jupyter-widgets/controls",
      "model_module_version": "1.5.0",
      "model_name": "FloatSliderModel",
      "state": {
       "description": "Valor de a",
       "layout": "IPY_MODEL_224241e2cb0147f0a922bd8f6cfb7b38",
       "max": 10,
       "min": -10,
       "readout_format": ".1f",
       "step": 0.1,
       "style": "IPY_MODEL_0a47c10e46b442dd9c9816ee4a96dfe8"
      }
     },
     "fec3b5c439cc49728bb316ff0f7cb47e": {
      "model_module": "@jupyter-widgets/controls",
      "model_module_version": "1.5.0",
      "model_name": "RadioButtonsModel",
      "state": {
       "_options_labels": [
        "F(x) = 7x+4",
        "F(x) = 4 ",
        "F(x) = 2",
        "F(x) = 10"
       ],
       "index": 3,
       "layout": "IPY_MODEL_44d9dd8d222f49bc99b02cfef6d3c513",
       "style": "IPY_MODEL_c9675b55ba644e028f73716e9f3cdb75"
      }
     },
     "ffe23fbe12654643a285b81585ae92aa": {
      "model_module": "@jupyter-widgets/controls",
      "model_module_version": "1.5.0",
      "model_name": "DescriptionStyleModel",
      "state": {
       "description_width": ""
      }
     }
    },
    "version_major": 2,
    "version_minor": 0
   }
  }
 },
 "nbformat": 4,
 "nbformat_minor": 4
}
